{
 "cells": [
  {
   "cell_type": "markdown",
   "id": "7db7f054",
   "metadata": {},
   "source": [
    "## Insurance_claim_fraud"
   ]
  },
  {
   "cell_type": "code",
   "execution_count": 1,
   "id": "29f18266",
   "metadata": {},
   "outputs": [],
   "source": [
    "# import Libraries\n",
    "import pandas as pd\n",
    "import numpy as np\n",
    "import matplotlib.pyplot as plt\n",
    "import seaborn as sns\n",
    "\n",
    "import warnings\n",
    "warnings.filterwarnings('ignore')"
   ]
  },
  {
   "cell_type": "code",
   "execution_count": 2,
   "id": "ba612d66",
   "metadata": {},
   "outputs": [
    {
     "data": {
      "text/html": [
       "<div>\n",
       "<style scoped>\n",
       "    .dataframe tbody tr th:only-of-type {\n",
       "        vertical-align: middle;\n",
       "    }\n",
       "\n",
       "    .dataframe tbody tr th {\n",
       "        vertical-align: top;\n",
       "    }\n",
       "\n",
       "    .dataframe thead th {\n",
       "        text-align: right;\n",
       "    }\n",
       "</style>\n",
       "<table border=\"1\" class=\"dataframe\">\n",
       "  <thead>\n",
       "    <tr style=\"text-align: right;\">\n",
       "      <th></th>\n",
       "      <th>months_as_customer</th>\n",
       "      <th>age</th>\n",
       "      <th>policy_number</th>\n",
       "      <th>policy_bind_date</th>\n",
       "      <th>policy_state</th>\n",
       "      <th>policy_csl</th>\n",
       "      <th>policy_deductable</th>\n",
       "      <th>policy_annual_premium</th>\n",
       "      <th>umbrella_limit</th>\n",
       "      <th>insured_zip</th>\n",
       "      <th>...</th>\n",
       "      <th>police_report_available</th>\n",
       "      <th>total_claim_amount</th>\n",
       "      <th>injury_claim</th>\n",
       "      <th>property_claim</th>\n",
       "      <th>vehicle_claim</th>\n",
       "      <th>auto_make</th>\n",
       "      <th>auto_model</th>\n",
       "      <th>auto_year</th>\n",
       "      <th>fraud_reported</th>\n",
       "      <th>_c39</th>\n",
       "    </tr>\n",
       "  </thead>\n",
       "  <tbody>\n",
       "    <tr>\n",
       "      <th>0</th>\n",
       "      <td>328</td>\n",
       "      <td>48</td>\n",
       "      <td>521585</td>\n",
       "      <td>17-10-2014</td>\n",
       "      <td>OH</td>\n",
       "      <td>250/500</td>\n",
       "      <td>1000</td>\n",
       "      <td>1406.91</td>\n",
       "      <td>0</td>\n",
       "      <td>466132</td>\n",
       "      <td>...</td>\n",
       "      <td>YES</td>\n",
       "      <td>71610</td>\n",
       "      <td>6510</td>\n",
       "      <td>13020</td>\n",
       "      <td>52080</td>\n",
       "      <td>Saab</td>\n",
       "      <td>92x</td>\n",
       "      <td>2004</td>\n",
       "      <td>Y</td>\n",
       "      <td>NaN</td>\n",
       "    </tr>\n",
       "    <tr>\n",
       "      <th>1</th>\n",
       "      <td>228</td>\n",
       "      <td>42</td>\n",
       "      <td>342868</td>\n",
       "      <td>27-06-2006</td>\n",
       "      <td>IN</td>\n",
       "      <td>250/500</td>\n",
       "      <td>2000</td>\n",
       "      <td>1197.22</td>\n",
       "      <td>5000000</td>\n",
       "      <td>468176</td>\n",
       "      <td>...</td>\n",
       "      <td>?</td>\n",
       "      <td>5070</td>\n",
       "      <td>780</td>\n",
       "      <td>780</td>\n",
       "      <td>3510</td>\n",
       "      <td>Mercedes</td>\n",
       "      <td>E400</td>\n",
       "      <td>2007</td>\n",
       "      <td>Y</td>\n",
       "      <td>NaN</td>\n",
       "    </tr>\n",
       "    <tr>\n",
       "      <th>2</th>\n",
       "      <td>134</td>\n",
       "      <td>29</td>\n",
       "      <td>687698</td>\n",
       "      <td>06-09-2000</td>\n",
       "      <td>OH</td>\n",
       "      <td>100/300</td>\n",
       "      <td>2000</td>\n",
       "      <td>1413.14</td>\n",
       "      <td>5000000</td>\n",
       "      <td>430632</td>\n",
       "      <td>...</td>\n",
       "      <td>NO</td>\n",
       "      <td>34650</td>\n",
       "      <td>7700</td>\n",
       "      <td>3850</td>\n",
       "      <td>23100</td>\n",
       "      <td>Dodge</td>\n",
       "      <td>RAM</td>\n",
       "      <td>2007</td>\n",
       "      <td>N</td>\n",
       "      <td>NaN</td>\n",
       "    </tr>\n",
       "    <tr>\n",
       "      <th>3</th>\n",
       "      <td>256</td>\n",
       "      <td>41</td>\n",
       "      <td>227811</td>\n",
       "      <td>25-05-1990</td>\n",
       "      <td>IL</td>\n",
       "      <td>250/500</td>\n",
       "      <td>2000</td>\n",
       "      <td>1415.74</td>\n",
       "      <td>6000000</td>\n",
       "      <td>608117</td>\n",
       "      <td>...</td>\n",
       "      <td>NO</td>\n",
       "      <td>63400</td>\n",
       "      <td>6340</td>\n",
       "      <td>6340</td>\n",
       "      <td>50720</td>\n",
       "      <td>Chevrolet</td>\n",
       "      <td>Tahoe</td>\n",
       "      <td>2014</td>\n",
       "      <td>Y</td>\n",
       "      <td>NaN</td>\n",
       "    </tr>\n",
       "    <tr>\n",
       "      <th>4</th>\n",
       "      <td>228</td>\n",
       "      <td>44</td>\n",
       "      <td>367455</td>\n",
       "      <td>06-06-2014</td>\n",
       "      <td>IL</td>\n",
       "      <td>500/1000</td>\n",
       "      <td>1000</td>\n",
       "      <td>1583.91</td>\n",
       "      <td>6000000</td>\n",
       "      <td>610706</td>\n",
       "      <td>...</td>\n",
       "      <td>NO</td>\n",
       "      <td>6500</td>\n",
       "      <td>1300</td>\n",
       "      <td>650</td>\n",
       "      <td>4550</td>\n",
       "      <td>Accura</td>\n",
       "      <td>RSX</td>\n",
       "      <td>2009</td>\n",
       "      <td>N</td>\n",
       "      <td>NaN</td>\n",
       "    </tr>\n",
       "  </tbody>\n",
       "</table>\n",
       "<p>5 rows × 40 columns</p>\n",
       "</div>"
      ],
      "text/plain": [
       "   months_as_customer  age  policy_number policy_bind_date policy_state  \\\n",
       "0                 328   48         521585       17-10-2014           OH   \n",
       "1                 228   42         342868       27-06-2006           IN   \n",
       "2                 134   29         687698       06-09-2000           OH   \n",
       "3                 256   41         227811       25-05-1990           IL   \n",
       "4                 228   44         367455       06-06-2014           IL   \n",
       "\n",
       "  policy_csl  policy_deductable  policy_annual_premium  umbrella_limit  \\\n",
       "0    250/500               1000                1406.91               0   \n",
       "1    250/500               2000                1197.22         5000000   \n",
       "2    100/300               2000                1413.14         5000000   \n",
       "3    250/500               2000                1415.74         6000000   \n",
       "4   500/1000               1000                1583.91         6000000   \n",
       "\n",
       "   insured_zip  ... police_report_available total_claim_amount injury_claim  \\\n",
       "0       466132  ...                     YES              71610         6510   \n",
       "1       468176  ...                       ?               5070          780   \n",
       "2       430632  ...                      NO              34650         7700   \n",
       "3       608117  ...                      NO              63400         6340   \n",
       "4       610706  ...                      NO               6500         1300   \n",
       "\n",
       "  property_claim vehicle_claim  auto_make  auto_model auto_year  \\\n",
       "0          13020         52080       Saab         92x      2004   \n",
       "1            780          3510   Mercedes        E400      2007   \n",
       "2           3850         23100      Dodge         RAM      2007   \n",
       "3           6340         50720  Chevrolet       Tahoe      2014   \n",
       "4            650          4550     Accura         RSX      2009   \n",
       "\n",
       "  fraud_reported _c39  \n",
       "0              Y  NaN  \n",
       "1              Y  NaN  \n",
       "2              N  NaN  \n",
       "3              Y  NaN  \n",
       "4              N  NaN  \n",
       "\n",
       "[5 rows x 40 columns]"
      ]
     },
     "execution_count": 2,
     "metadata": {},
     "output_type": "execute_result"
    }
   ],
   "source": [
    "# loading the dataset\n",
    "df = pd.read_csv('Insurance_claim_fraud.csv')\n",
    "df.head()"
   ]
  },
  {
   "cell_type": "code",
   "execution_count": 3,
   "id": "bce3ac0e",
   "metadata": {},
   "outputs": [
    {
     "data": {
      "text/plain": [
       "(1000, 40)"
      ]
     },
     "execution_count": 3,
     "metadata": {},
     "output_type": "execute_result"
    }
   ],
   "source": [
    "# checking the data dimension\n",
    "df.shape"
   ]
  },
  {
   "cell_type": "code",
   "execution_count": 4,
   "id": "5116a127",
   "metadata": {},
   "outputs": [
    {
     "data": {
      "text/plain": [
       "months_as_customer               int64\n",
       "age                              int64\n",
       "policy_number                    int64\n",
       "policy_bind_date                object\n",
       "policy_state                    object\n",
       "policy_csl                      object\n",
       "policy_deductable                int64\n",
       "policy_annual_premium          float64\n",
       "umbrella_limit                   int64\n",
       "insured_zip                      int64\n",
       "insured_sex                     object\n",
       "insured_education_level         object\n",
       "insured_occupation              object\n",
       "insured_hobbies                 object\n",
       "insured_relationship            object\n",
       "capital-gains                    int64\n",
       "capital-loss                     int64\n",
       "incident_date                   object\n",
       "incident_type                   object\n",
       "collision_type                  object\n",
       "incident_severity               object\n",
       "authorities_contacted           object\n",
       "incident_state                  object\n",
       "incident_city                   object\n",
       "incident_location               object\n",
       "incident_hour_of_the_day         int64\n",
       "number_of_vehicles_involved      int64\n",
       "property_damage                 object\n",
       "bodily_injuries                  int64\n",
       "witnesses                        int64\n",
       "police_report_available         object\n",
       "total_claim_amount               int64\n",
       "injury_claim                     int64\n",
       "property_claim                   int64\n",
       "vehicle_claim                    int64\n",
       "auto_make                       object\n",
       "auto_model                      object\n",
       "auto_year                        int64\n",
       "fraud_reported                  object\n",
       "_c39                           float64\n",
       "dtype: object"
      ]
     },
     "execution_count": 4,
     "metadata": {},
     "output_type": "execute_result"
    }
   ],
   "source": [
    "# checking the data type\n",
    "df.dtypes"
   ]
  },
  {
   "cell_type": "markdown",
   "id": "8bccf796",
   "metadata": {},
   "source": [
    "## Describing the attribute"
   ]
  },
  {
   "cell_type": "code",
   "execution_count": 5,
   "id": "c86a204d",
   "metadata": {},
   "outputs": [
    {
     "name": "stdout",
     "output_type": "stream",
     "text": [
      "<class 'pandas.core.frame.DataFrame'>\n",
      "RangeIndex: 1000 entries, 0 to 999\n",
      "Data columns (total 40 columns):\n",
      " #   Column                       Non-Null Count  Dtype  \n",
      "---  ------                       --------------  -----  \n",
      " 0   months_as_customer           1000 non-null   int64  \n",
      " 1   age                          1000 non-null   int64  \n",
      " 2   policy_number                1000 non-null   int64  \n",
      " 3   policy_bind_date             1000 non-null   object \n",
      " 4   policy_state                 1000 non-null   object \n",
      " 5   policy_csl                   1000 non-null   object \n",
      " 6   policy_deductable            1000 non-null   int64  \n",
      " 7   policy_annual_premium        1000 non-null   float64\n",
      " 8   umbrella_limit               1000 non-null   int64  \n",
      " 9   insured_zip                  1000 non-null   int64  \n",
      " 10  insured_sex                  1000 non-null   object \n",
      " 11  insured_education_level      1000 non-null   object \n",
      " 12  insured_occupation           1000 non-null   object \n",
      " 13  insured_hobbies              1000 non-null   object \n",
      " 14  insured_relationship         1000 non-null   object \n",
      " 15  capital-gains                1000 non-null   int64  \n",
      " 16  capital-loss                 1000 non-null   int64  \n",
      " 17  incident_date                1000 non-null   object \n",
      " 18  incident_type                1000 non-null   object \n",
      " 19  collision_type               1000 non-null   object \n",
      " 20  incident_severity            1000 non-null   object \n",
      " 21  authorities_contacted        1000 non-null   object \n",
      " 22  incident_state               1000 non-null   object \n",
      " 23  incident_city                1000 non-null   object \n",
      " 24  incident_location            1000 non-null   object \n",
      " 25  incident_hour_of_the_day     1000 non-null   int64  \n",
      " 26  number_of_vehicles_involved  1000 non-null   int64  \n",
      " 27  property_damage              1000 non-null   object \n",
      " 28  bodily_injuries              1000 non-null   int64  \n",
      " 29  witnesses                    1000 non-null   int64  \n",
      " 30  police_report_available      1000 non-null   object \n",
      " 31  total_claim_amount           1000 non-null   int64  \n",
      " 32  injury_claim                 1000 non-null   int64  \n",
      " 33  property_claim               1000 non-null   int64  \n",
      " 34  vehicle_claim                1000 non-null   int64  \n",
      " 35  auto_make                    1000 non-null   object \n",
      " 36  auto_model                   1000 non-null   object \n",
      " 37  auto_year                    1000 non-null   int64  \n",
      " 38  fraud_reported               1000 non-null   object \n",
      " 39  _c39                         0 non-null      float64\n",
      "dtypes: float64(2), int64(17), object(21)\n",
      "memory usage: 312.6+ KB\n"
     ]
    }
   ],
   "source": [
    "df.info()"
   ]
  },
  {
   "cell_type": "code",
   "execution_count": 6,
   "id": "d0d24aa0",
   "metadata": {},
   "outputs": [
    {
     "data": {
      "text/plain": [
       "months_as_customer                0\n",
       "age                               0\n",
       "policy_number                     0\n",
       "policy_bind_date                  0\n",
       "policy_state                      0\n",
       "policy_csl                        0\n",
       "policy_deductable                 0\n",
       "policy_annual_premium             0\n",
       "umbrella_limit                    0\n",
       "insured_zip                       0\n",
       "insured_sex                       0\n",
       "insured_education_level           0\n",
       "insured_occupation                0\n",
       "insured_hobbies                   0\n",
       "insured_relationship              0\n",
       "capital-gains                     0\n",
       "capital-loss                      0\n",
       "incident_date                     0\n",
       "incident_type                     0\n",
       "collision_type                    0\n",
       "incident_severity                 0\n",
       "authorities_contacted             0\n",
       "incident_state                    0\n",
       "incident_city                     0\n",
       "incident_location                 0\n",
       "incident_hour_of_the_day          0\n",
       "number_of_vehicles_involved       0\n",
       "property_damage                   0\n",
       "bodily_injuries                   0\n",
       "witnesses                         0\n",
       "police_report_available           0\n",
       "total_claim_amount                0\n",
       "injury_claim                      0\n",
       "property_claim                    0\n",
       "vehicle_claim                     0\n",
       "auto_make                         0\n",
       "auto_model                        0\n",
       "auto_year                         0\n",
       "fraud_reported                    0\n",
       "_c39                           1000\n",
       "dtype: int64"
      ]
     },
     "execution_count": 6,
     "metadata": {},
     "output_type": "execute_result"
    }
   ],
   "source": [
    "# checking the null values\n",
    "df.isnull().sum()"
   ]
  },
  {
   "cell_type": "code",
   "execution_count": 7,
   "id": "4f55c7f0",
   "metadata": {},
   "outputs": [
    {
     "data": {
      "text/plain": [
       "<AxesSubplot:>"
      ]
     },
     "execution_count": 7,
     "metadata": {},
     "output_type": "execute_result"
    },
    {
     "data": {
      "image/png": "[encoded data removed]",
      "text/plain": [
       "<Figure size 432x288 with 2 Axes>"
      ]
     },
     "metadata": {
      "needs_background": "light"
     },
     "output_type": "display_data"
    }
   ],
   "source": [
    "sns.heatmap(df.isnull())"
   ]
  },
  {
   "cell_type": "markdown",
   "id": "382befd0",
   "metadata": {},
   "source": [
    "## Handling missing values"
   ]
  },
  {
   "cell_type": "code",
   "execution_count": 8,
   "id": "1fd7da9b",
   "metadata": {},
   "outputs": [],
   "source": [
    "# ? values convert into nan values\n",
    "df.replace('?',np.nan , inplace =True)"
   ]
  },
  {
   "cell_type": "code",
   "execution_count": 9,
   "id": "119fb934",
   "metadata": {},
   "outputs": [],
   "source": [
    "# filling the missing value with most_frequent\n",
    "from sklearn.impute import SimpleImputer\n",
    "sm  = SimpleImputer(missing_values = np.nan ,strategy ='most_frequent')\n",
    "df['collision_type'] = sm.fit_transform(df['collision_type'].values.reshape(-1,1))\n",
    "df['property_damage'] =sm.fit_transform(df['property_damage'].values.reshape(-1,1))\n",
    "df['police_report_available'] =sm.fit_transform(df['police_report_available'].values.reshape(-1,1))"
   ]
  },
  {
   "cell_type": "code",
   "execution_count": 10,
   "id": "6c0b037b",
   "metadata": {},
   "outputs": [
    {
     "data": {
      "text/plain": [
       "months_as_customer                0\n",
       "age                               0\n",
       "policy_number                     0\n",
       "policy_bind_date                  0\n",
       "policy_state                      0\n",
       "policy_csl                        0\n",
       "policy_deductable                 0\n",
       "policy_annual_premium             0\n",
       "umbrella_limit                    0\n",
       "insured_zip                       0\n",
       "insured_sex                       0\n",
       "insured_education_level           0\n",
       "insured_occupation                0\n",
       "insured_hobbies                   0\n",
       "insured_relationship              0\n",
       "capital-gains                     0\n",
       "capital-loss                      0\n",
       "incident_date                     0\n",
       "incident_type                     0\n",
       "collision_type                    0\n",
       "incident_severity                 0\n",
       "authorities_contacted             0\n",
       "incident_state                    0\n",
       "incident_city                     0\n",
       "incident_location                 0\n",
       "incident_hour_of_the_day          0\n",
       "number_of_vehicles_involved       0\n",
       "property_damage                   0\n",
       "bodily_injuries                   0\n",
       "witnesses                         0\n",
       "police_report_available           0\n",
       "total_claim_amount                0\n",
       "injury_claim                      0\n",
       "property_claim                    0\n",
       "vehicle_claim                     0\n",
       "auto_make                         0\n",
       "auto_model                        0\n",
       "auto_year                         0\n",
       "fraud_reported                    0\n",
       "_c39                           1000\n",
       "dtype: int64"
      ]
     },
     "execution_count": 10,
     "metadata": {},
     "output_type": "execute_result"
    }
   ],
   "source": [
    "df.isnull().sum()"
   ]
  },
  {
   "cell_type": "markdown",
   "id": "15a62e3a",
   "metadata": {},
   "source": [
    "## statistical summary"
   ]
  },
  {
   "cell_type": "code",
   "execution_count": 11,
   "id": "23f085a6",
   "metadata": {},
   "outputs": [
    {
     "data": {
      "text/html": [
       "<div>\n",
       "<style scoped>\n",
       "    .dataframe tbody tr th:only-of-type {\n",
       "        vertical-align: middle;\n",
       "    }\n",
       "\n",
       "    .dataframe tbody tr th {\n",
       "        vertical-align: top;\n",
       "    }\n",
       "\n",
       "    .dataframe thead th {\n",
       "        text-align: right;\n",
       "    }\n",
       "</style>\n",
       "<table border=\"1\" class=\"dataframe\">\n",
       "  <thead>\n",
       "    <tr style=\"text-align: right;\">\n",
       "      <th></th>\n",
       "      <th>months_as_customer</th>\n",
       "      <th>age</th>\n",
       "      <th>policy_number</th>\n",
       "      <th>policy_deductable</th>\n",
       "      <th>policy_annual_premium</th>\n",
       "      <th>umbrella_limit</th>\n",
       "      <th>insured_zip</th>\n",
       "      <th>capital-gains</th>\n",
       "      <th>capital-loss</th>\n",
       "      <th>incident_hour_of_the_day</th>\n",
       "      <th>number_of_vehicles_involved</th>\n",
       "      <th>bodily_injuries</th>\n",
       "      <th>witnesses</th>\n",
       "      <th>total_claim_amount</th>\n",
       "      <th>injury_claim</th>\n",
       "      <th>property_claim</th>\n",
       "      <th>vehicle_claim</th>\n",
       "      <th>auto_year</th>\n",
       "      <th>_c39</th>\n",
       "    </tr>\n",
       "  </thead>\n",
       "  <tbody>\n",
       "    <tr>\n",
       "      <th>count</th>\n",
       "      <td>1000.000000</td>\n",
       "      <td>1000.000000</td>\n",
       "      <td>1000.000000</td>\n",
       "      <td>1000.000000</td>\n",
       "      <td>1000.000000</td>\n",
       "      <td>1.000000e+03</td>\n",
       "      <td>1000.000000</td>\n",
       "      <td>1000.000000</td>\n",
       "      <td>1000.000000</td>\n",
       "      <td>1000.000000</td>\n",
       "      <td>1000.00000</td>\n",
       "      <td>1000.000000</td>\n",
       "      <td>1000.000000</td>\n",
       "      <td>1000.00000</td>\n",
       "      <td>1000.000000</td>\n",
       "      <td>1000.000000</td>\n",
       "      <td>1000.000000</td>\n",
       "      <td>1000.000000</td>\n",
       "      <td>0.0</td>\n",
       "    </tr>\n",
       "    <tr>\n",
       "      <th>mean</th>\n",
       "      <td>203.954000</td>\n",
       "      <td>38.948000</td>\n",
       "      <td>546238.648000</td>\n",
       "      <td>1136.000000</td>\n",
       "      <td>1256.406150</td>\n",
       "      <td>1.101000e+06</td>\n",
       "      <td>501214.488000</td>\n",
       "      <td>25126.100000</td>\n",
       "      <td>-26793.700000</td>\n",
       "      <td>11.644000</td>\n",
       "      <td>1.83900</td>\n",
       "      <td>0.992000</td>\n",
       "      <td>1.487000</td>\n",
       "      <td>52761.94000</td>\n",
       "      <td>7433.420000</td>\n",
       "      <td>7399.570000</td>\n",
       "      <td>37928.950000</td>\n",
       "      <td>2005.103000</td>\n",
       "      <td>NaN</td>\n",
       "    </tr>\n",
       "    <tr>\n",
       "      <th>std</th>\n",
       "      <td>115.113174</td>\n",
       "      <td>9.140287</td>\n",
       "      <td>257063.005276</td>\n",
       "      <td>611.864673</td>\n",
       "      <td>244.167395</td>\n",
       "      <td>2.297407e+06</td>\n",
       "      <td>71701.610941</td>\n",
       "      <td>27872.187708</td>\n",
       "      <td>28104.096686</td>\n",
       "      <td>6.951373</td>\n",
       "      <td>1.01888</td>\n",
       "      <td>0.820127</td>\n",
       "      <td>1.111335</td>\n",
       "      <td>26401.53319</td>\n",
       "      <td>4880.951853</td>\n",
       "      <td>4824.726179</td>\n",
       "      <td>18886.252893</td>\n",
       "      <td>6.015861</td>\n",
       "      <td>NaN</td>\n",
       "    </tr>\n",
       "    <tr>\n",
       "      <th>min</th>\n",
       "      <td>0.000000</td>\n",
       "      <td>19.000000</td>\n",
       "      <td>100804.000000</td>\n",
       "      <td>500.000000</td>\n",
       "      <td>433.330000</td>\n",
       "      <td>-1.000000e+06</td>\n",
       "      <td>430104.000000</td>\n",
       "      <td>0.000000</td>\n",
       "      <td>-111100.000000</td>\n",
       "      <td>0.000000</td>\n",
       "      <td>1.00000</td>\n",
       "      <td>0.000000</td>\n",
       "      <td>0.000000</td>\n",
       "      <td>100.00000</td>\n",
       "      <td>0.000000</td>\n",
       "      <td>0.000000</td>\n",
       "      <td>70.000000</td>\n",
       "      <td>1995.000000</td>\n",
       "      <td>NaN</td>\n",
       "    </tr>\n",
       "    <tr>\n",
       "      <th>25%</th>\n",
       "      <td>115.750000</td>\n",
       "      <td>32.000000</td>\n",
       "      <td>335980.250000</td>\n",
       "      <td>500.000000</td>\n",
       "      <td>1089.607500</td>\n",
       "      <td>0.000000e+00</td>\n",
       "      <td>448404.500000</td>\n",
       "      <td>0.000000</td>\n",
       "      <td>-51500.000000</td>\n",
       "      <td>6.000000</td>\n",
       "      <td>1.00000</td>\n",
       "      <td>0.000000</td>\n",
       "      <td>1.000000</td>\n",
       "      <td>41812.50000</td>\n",
       "      <td>4295.000000</td>\n",
       "      <td>4445.000000</td>\n",
       "      <td>30292.500000</td>\n",
       "      <td>2000.000000</td>\n",
       "      <td>NaN</td>\n",
       "    </tr>\n",
       "    <tr>\n",
       "      <th>50%</th>\n",
       "      <td>199.500000</td>\n",
       "      <td>38.000000</td>\n",
       "      <td>533135.000000</td>\n",
       "      <td>1000.000000</td>\n",
       "      <td>1257.200000</td>\n",
       "      <td>0.000000e+00</td>\n",
       "      <td>466445.500000</td>\n",
       "      <td>0.000000</td>\n",
       "      <td>-23250.000000</td>\n",
       "      <td>12.000000</td>\n",
       "      <td>1.00000</td>\n",
       "      <td>1.000000</td>\n",
       "      <td>1.000000</td>\n",
       "      <td>58055.00000</td>\n",
       "      <td>6775.000000</td>\n",
       "      <td>6750.000000</td>\n",
       "      <td>42100.000000</td>\n",
       "      <td>2005.000000</td>\n",
       "      <td>NaN</td>\n",
       "    </tr>\n",
       "    <tr>\n",
       "      <th>75%</th>\n",
       "      <td>276.250000</td>\n",
       "      <td>44.000000</td>\n",
       "      <td>759099.750000</td>\n",
       "      <td>2000.000000</td>\n",
       "      <td>1415.695000</td>\n",
       "      <td>0.000000e+00</td>\n",
       "      <td>603251.000000</td>\n",
       "      <td>51025.000000</td>\n",
       "      <td>0.000000</td>\n",
       "      <td>17.000000</td>\n",
       "      <td>3.00000</td>\n",
       "      <td>2.000000</td>\n",
       "      <td>2.000000</td>\n",
       "      <td>70592.50000</td>\n",
       "      <td>11305.000000</td>\n",
       "      <td>10885.000000</td>\n",
       "      <td>50822.500000</td>\n",
       "      <td>2010.000000</td>\n",
       "      <td>NaN</td>\n",
       "    </tr>\n",
       "    <tr>\n",
       "      <th>max</th>\n",
       "      <td>479.000000</td>\n",
       "      <td>64.000000</td>\n",
       "      <td>999435.000000</td>\n",
       "      <td>2000.000000</td>\n",
       "      <td>2047.590000</td>\n",
       "      <td>1.000000e+07</td>\n",
       "      <td>620962.000000</td>\n",
       "      <td>100500.000000</td>\n",
       "      <td>0.000000</td>\n",
       "      <td>23.000000</td>\n",
       "      <td>4.00000</td>\n",
       "      <td>2.000000</td>\n",
       "      <td>3.000000</td>\n",
       "      <td>114920.00000</td>\n",
       "      <td>21450.000000</td>\n",
       "      <td>23670.000000</td>\n",
       "      <td>79560.000000</td>\n",
       "      <td>2015.000000</td>\n",
       "      <td>NaN</td>\n",
       "    </tr>\n",
       "  </tbody>\n",
       "</table>\n",
       "</div>"
      ],
      "text/plain": [
       "       months_as_customer          age  policy_number  policy_deductable  \\\n",
       "count         1000.000000  1000.000000    1000.000000        1000.000000   \n",
       "mean           203.954000    38.948000  546238.648000        1136.000000   \n",
       "std            115.113174     9.140287  257063.005276         611.864673   \n",
       "min              0.000000    19.000000  100804.000000         500.000000   \n",
       "25%            115.750000    32.000000  335980.250000         500.000000   \n",
       "50%            199.500000    38.000000  533135.000000        1000.000000   \n",
       "75%            276.250000    44.000000  759099.750000        2000.000000   \n",
       "max            479.000000    64.000000  999435.000000        2000.000000   \n",
       "\n",
       "       policy_annual_premium  umbrella_limit    insured_zip  capital-gains  \\\n",
       "count            1000.000000    1.000000e+03    1000.000000    1000.000000   \n",
       "mean             1256.406150    1.101000e+06  501214.488000   25126.100000   \n",
       "std               244.167395    2.297407e+06   71701.610941   27872.187708   \n",
       "min               433.330000   -1.000000e+06  430104.000000       0.000000   \n",
       "25%              1089.607500    0.000000e+00  448404.500000       0.000000   \n",
       "50%              1257.200000    0.000000e+00  466445.500000       0.000000   \n",
       "75%              1415.695000    0.000000e+00  603251.000000   51025.000000   \n",
       "max              2047.590000    1.000000e+07  620962.000000  100500.000000   \n",
       "\n",
       "        capital-loss  incident_hour_of_the_day  number_of_vehicles_involved  \\\n",
       "count    1000.000000               1000.000000                   1000.00000   \n",
       "mean   -26793.700000                 11.644000                      1.83900   \n",
       "std     28104.096686                  6.951373                      1.01888   \n",
       "min   -111100.000000                  0.000000                      1.00000   \n",
       "25%    -51500.000000                  6.000000                      1.00000   \n",
       "50%    -23250.000000                 12.000000                      1.00000   \n",
       "75%         0.000000                 17.000000                      3.00000   \n",
       "max         0.000000                 23.000000                      4.00000   \n",
       "\n",
       "       bodily_injuries    witnesses  total_claim_amount  injury_claim  \\\n",
       "count      1000.000000  1000.000000          1000.00000   1000.000000   \n",
       "mean          0.992000     1.487000         52761.94000   7433.420000   \n",
       "std           0.820127     1.111335         26401.53319   4880.951853   \n",
       "min           0.000000     0.000000           100.00000      0.000000   \n",
       "25%           0.000000     1.000000         41812.50000   4295.000000   \n",
       "50%           1.000000     1.000000         58055.00000   6775.000000   \n",
       "75%           2.000000     2.000000         70592.50000  11305.000000   \n",
       "max           2.000000     3.000000        114920.00000  21450.000000   \n",
       "\n",
       "       property_claim  vehicle_claim    auto_year  _c39  \n",
       "count     1000.000000    1000.000000  1000.000000   0.0  \n",
       "mean      7399.570000   37928.950000  2005.103000   NaN  \n",
       "std       4824.726179   18886.252893     6.015861   NaN  \n",
       "min          0.000000      70.000000  1995.000000   NaN  \n",
       "25%       4445.000000   30292.500000  2000.000000   NaN  \n",
       "50%       6750.000000   42100.000000  2005.000000   NaN  \n",
       "75%      10885.000000   50822.500000  2010.000000   NaN  \n",
       "max      23670.000000   79560.000000  2015.000000   NaN  "
      ]
     },
     "execution_count": 11,
     "metadata": {},
     "output_type": "execute_result"
    }
   ],
   "source": [
    "df.describe()"
   ]
  },
  {
   "cell_type": "markdown",
   "id": "451637b0",
   "metadata": {},
   "source": [
    "## correlation"
   ]
  },
  {
   "cell_type": "code",
   "execution_count": 12,
   "id": "0fc5b1d1",
   "metadata": {},
   "outputs": [
    {
     "data": {
      "text/html": [
       "<div>\n",
       "<style scoped>\n",
       "    .dataframe tbody tr th:only-of-type {\n",
       "        vertical-align: middle;\n",
       "    }\n",
       "\n",
       "    .dataframe tbody tr th {\n",
       "        vertical-align: top;\n",
       "    }\n",
       "\n",
       "    .dataframe thead th {\n",
       "        text-align: right;\n",
       "    }\n",
       "</style>\n",
       "<table border=\"1\" class=\"dataframe\">\n",
       "  <thead>\n",
       "    <tr style=\"text-align: right;\">\n",
       "      <th></th>\n",
       "      <th>months_as_customer</th>\n",
       "      <th>age</th>\n",
       "      <th>policy_number</th>\n",
       "      <th>policy_deductable</th>\n",
       "      <th>policy_annual_premium</th>\n",
       "      <th>umbrella_limit</th>\n",
       "      <th>insured_zip</th>\n",
       "      <th>capital-gains</th>\n",
       "      <th>capital-loss</th>\n",
       "      <th>incident_hour_of_the_day</th>\n",
       "      <th>number_of_vehicles_involved</th>\n",
       "      <th>bodily_injuries</th>\n",
       "      <th>witnesses</th>\n",
       "      <th>total_claim_amount</th>\n",
       "      <th>injury_claim</th>\n",
       "      <th>property_claim</th>\n",
       "      <th>vehicle_claim</th>\n",
       "      <th>auto_year</th>\n",
       "      <th>_c39</th>\n",
       "    </tr>\n",
       "  </thead>\n",
       "  <tbody>\n",
       "    <tr>\n",
       "      <th>months_as_customer</th>\n",
       "      <td>1.000000</td>\n",
       "      <td>0.922098</td>\n",
       "      <td>0.057555</td>\n",
       "      <td>0.026807</td>\n",
       "      <td>0.005018</td>\n",
       "      <td>0.015498</td>\n",
       "      <td>0.017895</td>\n",
       "      <td>0.006399</td>\n",
       "      <td>0.020209</td>\n",
       "      <td>0.070639</td>\n",
       "      <td>0.014736</td>\n",
       "      <td>-0.010162</td>\n",
       "      <td>0.058383</td>\n",
       "      <td>0.062108</td>\n",
       "      <td>0.065329</td>\n",
       "      <td>0.034940</td>\n",
       "      <td>0.061013</td>\n",
       "      <td>-0.000292</td>\n",
       "      <td>NaN</td>\n",
       "    </tr>\n",
       "    <tr>\n",
       "      <th>age</th>\n",
       "      <td>0.922098</td>\n",
       "      <td>1.000000</td>\n",
       "      <td>0.059413</td>\n",
       "      <td>0.029188</td>\n",
       "      <td>0.014404</td>\n",
       "      <td>0.018126</td>\n",
       "      <td>0.025604</td>\n",
       "      <td>-0.007075</td>\n",
       "      <td>0.007368</td>\n",
       "      <td>0.087161</td>\n",
       "      <td>0.022102</td>\n",
       "      <td>-0.015679</td>\n",
       "      <td>0.052359</td>\n",
       "      <td>0.069863</td>\n",
       "      <td>0.075522</td>\n",
       "      <td>0.060898</td>\n",
       "      <td>0.062588</td>\n",
       "      <td>0.001354</td>\n",
       "      <td>NaN</td>\n",
       "    </tr>\n",
       "    <tr>\n",
       "      <th>policy_number</th>\n",
       "      <td>0.057555</td>\n",
       "      <td>0.059413</td>\n",
       "      <td>1.000000</td>\n",
       "      <td>-0.006738</td>\n",
       "      <td>0.022566</td>\n",
       "      <td>0.008968</td>\n",
       "      <td>0.007083</td>\n",
       "      <td>0.009802</td>\n",
       "      <td>-0.005669</td>\n",
       "      <td>0.000113</td>\n",
       "      <td>0.013432</td>\n",
       "      <td>-0.004558</td>\n",
       "      <td>-0.012661</td>\n",
       "      <td>-0.018009</td>\n",
       "      <td>-0.008762</td>\n",
       "      <td>-0.010678</td>\n",
       "      <td>-0.020184</td>\n",
       "      <td>-0.000183</td>\n",
       "      <td>NaN</td>\n",
       "    </tr>\n",
       "    <tr>\n",
       "      <th>policy_deductable</th>\n",
       "      <td>0.026807</td>\n",
       "      <td>0.029188</td>\n",
       "      <td>-0.006738</td>\n",
       "      <td>1.000000</td>\n",
       "      <td>-0.003245</td>\n",
       "      <td>0.010870</td>\n",
       "      <td>0.004545</td>\n",
       "      <td>0.035212</td>\n",
       "      <td>-0.023544</td>\n",
       "      <td>0.060935</td>\n",
       "      <td>0.051214</td>\n",
       "      <td>-0.022765</td>\n",
       "      <td>0.066639</td>\n",
       "      <td>0.022839</td>\n",
       "      <td>0.039107</td>\n",
       "      <td>0.064792</td>\n",
       "      <td>0.005269</td>\n",
       "      <td>0.026105</td>\n",
       "      <td>NaN</td>\n",
       "    </tr>\n",
       "    <tr>\n",
       "      <th>policy_annual_premium</th>\n",
       "      <td>0.005018</td>\n",
       "      <td>0.014404</td>\n",
       "      <td>0.022566</td>\n",
       "      <td>-0.003245</td>\n",
       "      <td>1.000000</td>\n",
       "      <td>-0.006247</td>\n",
       "      <td>0.032354</td>\n",
       "      <td>-0.013738</td>\n",
       "      <td>0.023547</td>\n",
       "      <td>-0.001578</td>\n",
       "      <td>-0.045991</td>\n",
       "      <td>0.026780</td>\n",
       "      <td>0.002332</td>\n",
       "      <td>0.009094</td>\n",
       "      <td>-0.017633</td>\n",
       "      <td>-0.011654</td>\n",
       "      <td>0.020246</td>\n",
       "      <td>-0.049226</td>\n",
       "      <td>NaN</td>\n",
       "    </tr>\n",
       "    <tr>\n",
       "      <th>umbrella_limit</th>\n",
       "      <td>0.015498</td>\n",
       "      <td>0.018126</td>\n",
       "      <td>0.008968</td>\n",
       "      <td>0.010870</td>\n",
       "      <td>-0.006247</td>\n",
       "      <td>1.000000</td>\n",
       "      <td>0.019671</td>\n",
       "      <td>-0.047268</td>\n",
       "      <td>-0.024056</td>\n",
       "      <td>-0.023257</td>\n",
       "      <td>-0.021270</td>\n",
       "      <td>0.022743</td>\n",
       "      <td>-0.006738</td>\n",
       "      <td>-0.040344</td>\n",
       "      <td>-0.045412</td>\n",
       "      <td>-0.023790</td>\n",
       "      <td>-0.038584</td>\n",
       "      <td>0.009893</td>\n",
       "      <td>NaN</td>\n",
       "    </tr>\n",
       "    <tr>\n",
       "      <th>insured_zip</th>\n",
       "      <td>0.017895</td>\n",
       "      <td>0.025604</td>\n",
       "      <td>0.007083</td>\n",
       "      <td>0.004545</td>\n",
       "      <td>0.032354</td>\n",
       "      <td>0.019671</td>\n",
       "      <td>1.000000</td>\n",
       "      <td>0.006303</td>\n",
       "      <td>0.049372</td>\n",
       "      <td>0.008274</td>\n",
       "      <td>0.027448</td>\n",
       "      <td>0.028695</td>\n",
       "      <td>0.019805</td>\n",
       "      <td>-0.033873</td>\n",
       "      <td>-0.017495</td>\n",
       "      <td>-0.006841</td>\n",
       "      <td>-0.041083</td>\n",
       "      <td>-0.032736</td>\n",
       "      <td>NaN</td>\n",
       "    </tr>\n",
       "    <tr>\n",
       "      <th>capital-gains</th>\n",
       "      <td>0.006399</td>\n",
       "      <td>-0.007075</td>\n",
       "      <td>0.009802</td>\n",
       "      <td>0.035212</td>\n",
       "      <td>-0.013738</td>\n",
       "      <td>-0.047268</td>\n",
       "      <td>0.006303</td>\n",
       "      <td>1.000000</td>\n",
       "      <td>-0.046904</td>\n",
       "      <td>-0.016406</td>\n",
       "      <td>0.061643</td>\n",
       "      <td>0.055829</td>\n",
       "      <td>-0.017651</td>\n",
       "      <td>0.015980</td>\n",
       "      <td>0.025934</td>\n",
       "      <td>-0.000779</td>\n",
       "      <td>0.015836</td>\n",
       "      <td>0.031398</td>\n",
       "      <td>NaN</td>\n",
       "    </tr>\n",
       "    <tr>\n",
       "      <th>capital-loss</th>\n",
       "      <td>0.020209</td>\n",
       "      <td>0.007368</td>\n",
       "      <td>-0.005669</td>\n",
       "      <td>-0.023544</td>\n",
       "      <td>0.023547</td>\n",
       "      <td>-0.024056</td>\n",
       "      <td>0.049372</td>\n",
       "      <td>-0.046904</td>\n",
       "      <td>1.000000</td>\n",
       "      <td>-0.025054</td>\n",
       "      <td>-0.014895</td>\n",
       "      <td>-0.024418</td>\n",
       "      <td>-0.041330</td>\n",
       "      <td>-0.036060</td>\n",
       "      <td>-0.046060</td>\n",
       "      <td>-0.022863</td>\n",
       "      <td>-0.032665</td>\n",
       "      <td>-0.056615</td>\n",
       "      <td>NaN</td>\n",
       "    </tr>\n",
       "    <tr>\n",
       "      <th>incident_hour_of_the_day</th>\n",
       "      <td>0.070639</td>\n",
       "      <td>0.087161</td>\n",
       "      <td>0.000113</td>\n",
       "      <td>0.060935</td>\n",
       "      <td>-0.001578</td>\n",
       "      <td>-0.023257</td>\n",
       "      <td>0.008274</td>\n",
       "      <td>-0.016406</td>\n",
       "      <td>-0.025054</td>\n",
       "      <td>1.000000</td>\n",
       "      <td>0.120794</td>\n",
       "      <td>-0.034563</td>\n",
       "      <td>0.006527</td>\n",
       "      <td>0.217702</td>\n",
       "      <td>0.165768</td>\n",
       "      <td>0.179536</td>\n",
       "      <td>0.215626</td>\n",
       "      <td>0.021368</td>\n",
       "      <td>NaN</td>\n",
       "    </tr>\n",
       "    <tr>\n",
       "      <th>number_of_vehicles_involved</th>\n",
       "      <td>0.014736</td>\n",
       "      <td>0.022102</td>\n",
       "      <td>0.013432</td>\n",
       "      <td>0.051214</td>\n",
       "      <td>-0.045991</td>\n",
       "      <td>-0.021270</td>\n",
       "      <td>0.027448</td>\n",
       "      <td>0.061643</td>\n",
       "      <td>-0.014895</td>\n",
       "      <td>0.120794</td>\n",
       "      <td>1.000000</td>\n",
       "      <td>0.014030</td>\n",
       "      <td>-0.014669</td>\n",
       "      <td>0.274278</td>\n",
       "      <td>0.224650</td>\n",
       "      <td>0.219084</td>\n",
       "      <td>0.269393</td>\n",
       "      <td>0.034554</td>\n",
       "      <td>NaN</td>\n",
       "    </tr>\n",
       "    <tr>\n",
       "      <th>bodily_injuries</th>\n",
       "      <td>-0.010162</td>\n",
       "      <td>-0.015679</td>\n",
       "      <td>-0.004558</td>\n",
       "      <td>-0.022765</td>\n",
       "      <td>0.026780</td>\n",
       "      <td>0.022743</td>\n",
       "      <td>0.028695</td>\n",
       "      <td>0.055829</td>\n",
       "      <td>-0.024418</td>\n",
       "      <td>-0.034563</td>\n",
       "      <td>0.014030</td>\n",
       "      <td>1.000000</td>\n",
       "      <td>-0.005606</td>\n",
       "      <td>0.047093</td>\n",
       "      <td>0.047319</td>\n",
       "      <td>0.039749</td>\n",
       "      <td>0.043449</td>\n",
       "      <td>-0.020527</td>\n",
       "      <td>NaN</td>\n",
       "    </tr>\n",
       "    <tr>\n",
       "      <th>witnesses</th>\n",
       "      <td>0.058383</td>\n",
       "      <td>0.052359</td>\n",
       "      <td>-0.012661</td>\n",
       "      <td>0.066639</td>\n",
       "      <td>0.002332</td>\n",
       "      <td>-0.006738</td>\n",
       "      <td>0.019805</td>\n",
       "      <td>-0.017651</td>\n",
       "      <td>-0.041330</td>\n",
       "      <td>0.006527</td>\n",
       "      <td>-0.014669</td>\n",
       "      <td>-0.005606</td>\n",
       "      <td>1.000000</td>\n",
       "      <td>-0.011114</td>\n",
       "      <td>-0.024843</td>\n",
       "      <td>0.052640</td>\n",
       "      <td>-0.022564</td>\n",
       "      <td>0.045791</td>\n",
       "      <td>NaN</td>\n",
       "    </tr>\n",
       "    <tr>\n",
       "      <th>total_claim_amount</th>\n",
       "      <td>0.062108</td>\n",
       "      <td>0.069863</td>\n",
       "      <td>-0.018009</td>\n",
       "      <td>0.022839</td>\n",
       "      <td>0.009094</td>\n",
       "      <td>-0.040344</td>\n",
       "      <td>-0.033873</td>\n",
       "      <td>0.015980</td>\n",
       "      <td>-0.036060</td>\n",
       "      <td>0.217702</td>\n",
       "      <td>0.274278</td>\n",
       "      <td>0.047093</td>\n",
       "      <td>-0.011114</td>\n",
       "      <td>1.000000</td>\n",
       "      <td>0.805025</td>\n",
       "      <td>0.810686</td>\n",
       "      <td>0.982773</td>\n",
       "      <td>-0.035781</td>\n",
       "      <td>NaN</td>\n",
       "    </tr>\n",
       "    <tr>\n",
       "      <th>injury_claim</th>\n",
       "      <td>0.065329</td>\n",
       "      <td>0.075522</td>\n",
       "      <td>-0.008762</td>\n",
       "      <td>0.039107</td>\n",
       "      <td>-0.017633</td>\n",
       "      <td>-0.045412</td>\n",
       "      <td>-0.017495</td>\n",
       "      <td>0.025934</td>\n",
       "      <td>-0.046060</td>\n",
       "      <td>0.165768</td>\n",
       "      <td>0.224650</td>\n",
       "      <td>0.047319</td>\n",
       "      <td>-0.024843</td>\n",
       "      <td>0.805025</td>\n",
       "      <td>1.000000</td>\n",
       "      <td>0.563866</td>\n",
       "      <td>0.722878</td>\n",
       "      <td>-0.013718</td>\n",
       "      <td>NaN</td>\n",
       "    </tr>\n",
       "    <tr>\n",
       "      <th>property_claim</th>\n",
       "      <td>0.034940</td>\n",
       "      <td>0.060898</td>\n",
       "      <td>-0.010678</td>\n",
       "      <td>0.064792</td>\n",
       "      <td>-0.011654</td>\n",
       "      <td>-0.023790</td>\n",
       "      <td>-0.006841</td>\n",
       "      <td>-0.000779</td>\n",
       "      <td>-0.022863</td>\n",
       "      <td>0.179536</td>\n",
       "      <td>0.219084</td>\n",
       "      <td>0.039749</td>\n",
       "      <td>0.052640</td>\n",
       "      <td>0.810686</td>\n",
       "      <td>0.563866</td>\n",
       "      <td>1.000000</td>\n",
       "      <td>0.732090</td>\n",
       "      <td>-0.014508</td>\n",
       "      <td>NaN</td>\n",
       "    </tr>\n",
       "    <tr>\n",
       "      <th>vehicle_claim</th>\n",
       "      <td>0.061013</td>\n",
       "      <td>0.062588</td>\n",
       "      <td>-0.020184</td>\n",
       "      <td>0.005269</td>\n",
       "      <td>0.020246</td>\n",
       "      <td>-0.038584</td>\n",
       "      <td>-0.041083</td>\n",
       "      <td>0.015836</td>\n",
       "      <td>-0.032665</td>\n",
       "      <td>0.215626</td>\n",
       "      <td>0.269393</td>\n",
       "      <td>0.043449</td>\n",
       "      <td>-0.022564</td>\n",
       "      <td>0.982773</td>\n",
       "      <td>0.722878</td>\n",
       "      <td>0.732090</td>\n",
       "      <td>1.000000</td>\n",
       "      <td>-0.042768</td>\n",
       "      <td>NaN</td>\n",
       "    </tr>\n",
       "    <tr>\n",
       "      <th>auto_year</th>\n",
       "      <td>-0.000292</td>\n",
       "      <td>0.001354</td>\n",
       "      <td>-0.000183</td>\n",
       "      <td>0.026105</td>\n",
       "      <td>-0.049226</td>\n",
       "      <td>0.009893</td>\n",
       "      <td>-0.032736</td>\n",
       "      <td>0.031398</td>\n",
       "      <td>-0.056615</td>\n",
       "      <td>0.021368</td>\n",
       "      <td>0.034554</td>\n",
       "      <td>-0.020527</td>\n",
       "      <td>0.045791</td>\n",
       "      <td>-0.035781</td>\n",
       "      <td>-0.013718</td>\n",
       "      <td>-0.014508</td>\n",
       "      <td>-0.042768</td>\n",
       "      <td>1.000000</td>\n",
       "      <td>NaN</td>\n",
       "    </tr>\n",
       "    <tr>\n",
       "      <th>_c39</th>\n",
       "      <td>NaN</td>\n",
       "      <td>NaN</td>\n",
       "      <td>NaN</td>\n",
       "      <td>NaN</td>\n",
       "      <td>NaN</td>\n",
       "      <td>NaN</td>\n",
       "      <td>NaN</td>\n",
       "      <td>NaN</td>\n",
       "      <td>NaN</td>\n",
       "      <td>NaN</td>\n",
       "      <td>NaN</td>\n",
       "      <td>NaN</td>\n",
       "      <td>NaN</td>\n",
       "      <td>NaN</td>\n",
       "      <td>NaN</td>\n",
       "      <td>NaN</td>\n",
       "      <td>NaN</td>\n",
       "      <td>NaN</td>\n",
       "      <td>NaN</td>\n",
       "    </tr>\n",
       "  </tbody>\n",
       "</table>\n",
       "</div>"
      ],
      "text/plain": [
       "                             months_as_customer       age  policy_number  \\\n",
       "months_as_customer                     1.000000  0.922098       0.057555   \n",
       "age                                    0.922098  1.000000       0.059413   \n",
       "policy_number                          0.057555  0.059413       1.000000   \n",
       "policy_deductable                      0.026807  0.029188      -0.006738   \n",
       "policy_annual_premium                  0.005018  0.014404       0.022566   \n",
       "umbrella_limit                         0.015498  0.018126       0.008968   \n",
       "insured_zip                            0.017895  0.025604       0.007083   \n",
       "capital-gains                          0.006399 -0.007075       0.009802   \n",
       "capital-loss                           0.020209  0.007368      -0.005669   \n",
       "incident_hour_of_the_day               0.070639  0.087161       0.000113   \n",
       "number_of_vehicles_involved            0.014736  0.022102       0.013432   \n",
       "bodily_injuries                       -0.010162 -0.015679      -0.004558   \n",
       "witnesses                              0.058383  0.052359      -0.012661   \n",
       "total_claim_amount                     0.062108  0.069863      -0.018009   \n",
       "injury_claim                           0.065329  0.075522      -0.008762   \n",
       "property_claim                         0.034940  0.060898      -0.010678   \n",
       "vehicle_claim                          0.061013  0.062588      -0.020184   \n",
       "auto_year                             -0.000292  0.001354      -0.000183   \n",
       "_c39                                        NaN       NaN            NaN   \n",
       "\n",
       "                             policy_deductable  policy_annual_premium  \\\n",
       "months_as_customer                    0.026807               0.005018   \n",
       "age                                   0.029188               0.014404   \n",
       "policy_number                        -0.006738               0.022566   \n",
       "policy_deductable                     1.000000              -0.003245   \n",
       "policy_annual_premium                -0.003245               1.000000   \n",
       "umbrella_limit                        0.010870              -0.006247   \n",
       "insured_zip                           0.004545               0.032354   \n",
       "capital-gains                         0.035212              -0.013738   \n",
       "capital-loss                         -0.023544               0.023547   \n",
       "incident_hour_of_the_day              0.060935              -0.001578   \n",
       "number_of_vehicles_involved           0.051214              -0.045991   \n",
       "bodily_injuries                      -0.022765               0.026780   \n",
       "witnesses                             0.066639               0.002332   \n",
       "total_claim_amount                    0.022839               0.009094   \n",
       "injury_claim                          0.039107              -0.017633   \n",
       "property_claim                        0.064792              -0.011654   \n",
       "vehicle_claim                         0.005269               0.020246   \n",
       "auto_year                             0.026105              -0.049226   \n",
       "_c39                                       NaN                    NaN   \n",
       "\n",
       "                             umbrella_limit  insured_zip  capital-gains  \\\n",
       "months_as_customer                 0.015498     0.017895       0.006399   \n",
       "age                                0.018126     0.025604      -0.007075   \n",
       "policy_number                      0.008968     0.007083       0.009802   \n",
       "policy_deductable                  0.010870     0.004545       0.035212   \n",
       "policy_annual_premium             -0.006247     0.032354      -0.013738   \n",
       "umbrella_limit                     1.000000     0.019671      -0.047268   \n",
       "insured_zip                        0.019671     1.000000       0.006303   \n",
       "capital-gains                     -0.047268     0.006303       1.000000   \n",
       "capital-loss                      -0.024056     0.049372      -0.046904   \n",
       "incident_hour_of_the_day          -0.023257     0.008274      -0.016406   \n",
       "number_of_vehicles_involved       -0.021270     0.027448       0.061643   \n",
       "bodily_injuries                    0.022743     0.028695       0.055829   \n",
       "witnesses                         -0.006738     0.019805      -0.017651   \n",
       "total_claim_amount                -0.040344    -0.033873       0.015980   \n",
       "injury_claim                      -0.045412    -0.017495       0.025934   \n",
       "property_claim                    -0.023790    -0.006841      -0.000779   \n",
       "vehicle_claim                     -0.038584    -0.041083       0.015836   \n",
       "auto_year                          0.009893    -0.032736       0.031398   \n",
       "_c39                                    NaN          NaN            NaN   \n",
       "\n",
       "                             capital-loss  incident_hour_of_the_day  \\\n",
       "months_as_customer               0.020209                  0.070639   \n",
       "age                              0.007368                  0.087161   \n",
       "policy_number                   -0.005669                  0.000113   \n",
       "policy_deductable               -0.023544                  0.060935   \n",
       "policy_annual_premium            0.023547                 -0.001578   \n",
       "umbrella_limit                  -0.024056                 -0.023257   \n",
       "insured_zip                      0.049372                  0.008274   \n",
       "capital-gains                   -0.046904                 -0.016406   \n",
       "capital-loss                     1.000000                 -0.025054   \n",
       "incident_hour_of_the_day        -0.025054                  1.000000   \n",
       "number_of_vehicles_involved     -0.014895                  0.120794   \n",
       "bodily_injuries                 -0.024418                 -0.034563   \n",
       "witnesses                       -0.041330                  0.006527   \n",
       "total_claim_amount              -0.036060                  0.217702   \n",
       "injury_claim                    -0.046060                  0.165768   \n",
       "property_claim                  -0.022863                  0.179536   \n",
       "vehicle_claim                   -0.032665                  0.215626   \n",
       "auto_year                       -0.056615                  0.021368   \n",
       "_c39                                  NaN                       NaN   \n",
       "\n",
       "                             number_of_vehicles_involved  bodily_injuries  \\\n",
       "months_as_customer                              0.014736        -0.010162   \n",
       "age                                             0.022102        -0.015679   \n",
       "policy_number                                   0.013432        -0.004558   \n",
       "policy_deductable                               0.051214        -0.022765   \n",
       "policy_annual_premium                          -0.045991         0.026780   \n",
       "umbrella_limit                                 -0.021270         0.022743   \n",
       "insured_zip                                     0.027448         0.028695   \n",
       "capital-gains                                   0.061643         0.055829   \n",
       "capital-loss                                   -0.014895        -0.024418   \n",
       "incident_hour_of_the_day                        0.120794        -0.034563   \n",
       "number_of_vehicles_involved                     1.000000         0.014030   \n",
       "bodily_injuries                                 0.014030         1.000000   \n",
       "witnesses                                      -0.014669        -0.005606   \n",
       "total_claim_amount                              0.274278         0.047093   \n",
       "injury_claim                                    0.224650         0.047319   \n",
       "property_claim                                  0.219084         0.039749   \n",
       "vehicle_claim                                   0.269393         0.043449   \n",
       "auto_year                                       0.034554        -0.020527   \n",
       "_c39                                                 NaN              NaN   \n",
       "\n",
       "                             witnesses  total_claim_amount  injury_claim  \\\n",
       "months_as_customer            0.058383            0.062108      0.065329   \n",
       "age                           0.052359            0.069863      0.075522   \n",
       "policy_number                -0.012661           -0.018009     -0.008762   \n",
       "policy_deductable             0.066639            0.022839      0.039107   \n",
       "policy_annual_premium         0.002332            0.009094     -0.017633   \n",
       "umbrella_limit               -0.006738           -0.040344     -0.045412   \n",
       "insured_zip                   0.019805           -0.033873     -0.017495   \n",
       "capital-gains                -0.017651            0.015980      0.025934   \n",
       "capital-loss                 -0.041330           -0.036060     -0.046060   \n",
       "incident_hour_of_the_day      0.006527            0.217702      0.165768   \n",
       "number_of_vehicles_involved  -0.014669            0.274278      0.224650   \n",
       "bodily_injuries              -0.005606            0.047093      0.047319   \n",
       "witnesses                     1.000000           -0.011114     -0.024843   \n",
       "total_claim_amount           -0.011114            1.000000      0.805025   \n",
       "injury_claim                 -0.024843            0.805025      1.000000   \n",
       "property_claim                0.052640            0.810686      0.563866   \n",
       "vehicle_claim                -0.022564            0.982773      0.722878   \n",
       "auto_year                     0.045791           -0.035781     -0.013718   \n",
       "_c39                               NaN                 NaN           NaN   \n",
       "\n",
       "                             property_claim  vehicle_claim  auto_year  _c39  \n",
       "months_as_customer                 0.034940       0.061013  -0.000292   NaN  \n",
       "age                                0.060898       0.062588   0.001354   NaN  \n",
       "policy_number                     -0.010678      -0.020184  -0.000183   NaN  \n",
       "policy_deductable                  0.064792       0.005269   0.026105   NaN  \n",
       "policy_annual_premium             -0.011654       0.020246  -0.049226   NaN  \n",
       "umbrella_limit                    -0.023790      -0.038584   0.009893   NaN  \n",
       "insured_zip                       -0.006841      -0.041083  -0.032736   NaN  \n",
       "capital-gains                     -0.000779       0.015836   0.031398   NaN  \n",
       "capital-loss                      -0.022863      -0.032665  -0.056615   NaN  \n",
       "incident_hour_of_the_day           0.179536       0.215626   0.021368   NaN  \n",
       "number_of_vehicles_involved        0.219084       0.269393   0.034554   NaN  \n",
       "bodily_injuries                    0.039749       0.043449  -0.020527   NaN  \n",
       "witnesses                          0.052640      -0.022564   0.045791   NaN  \n",
       "total_claim_amount                 0.810686       0.982773  -0.035781   NaN  \n",
       "injury_claim                       0.563866       0.722878  -0.013718   NaN  \n",
       "property_claim                     1.000000       0.732090  -0.014508   NaN  \n",
       "vehicle_claim                      0.732090       1.000000  -0.042768   NaN  \n",
       "auto_year                         -0.014508      -0.042768   1.000000   NaN  \n",
       "_c39                                    NaN            NaN        NaN   NaN  "
      ]
     },
     "execution_count": 12,
     "metadata": {},
     "output_type": "execute_result"
    }
   ],
   "source": [
    "df_cor = df.corr()\n",
    "df_cor"
   ]
  },
  {
   "cell_type": "code",
   "execution_count": 13,
   "id": "280415fd",
   "metadata": {},
   "outputs": [
    {
     "data": {
      "text/plain": [
       "<AxesSubplot:>"
      ]
     },
     "execution_count": 13,
     "metadata": {},
     "output_type": "execute_result"
    },
    {
     "data": {
      "image/png": "[encoded data removed]",
      "text/plain": [
       "<Figure size 1584x576 with 2 Axes>"
      ]
     },
     "metadata": {
      "needs_background": "light"
     },
     "output_type": "display_data"
    }
   ],
   "source": [
    "plt.figure(figsize =(22,8))\n",
    "sns.heatmap(df_cor, annot =True ,fmt = '0.2f')"
   ]
  },
  {
   "cell_type": "markdown",
   "id": "675a05a2",
   "metadata": {},
   "source": [
    "## Unique values"
   ]
  },
  {
   "cell_type": "code",
   "execution_count": 14,
   "id": "cf1a8c8c",
   "metadata": {},
   "outputs": [
    {
     "data": {
      "text/plain": [
       "months_as_customer              391\n",
       "age                              46\n",
       "policy_number                  1000\n",
       "policy_bind_date                951\n",
       "policy_state                      3\n",
       "policy_csl                        3\n",
       "policy_deductable                 3\n",
       "policy_annual_premium           991\n",
       "umbrella_limit                   11\n",
       "insured_zip                     995\n",
       "insured_sex                       2\n",
       "insured_education_level           7\n",
       "insured_occupation               14\n",
       "insured_hobbies                  20\n",
       "insured_relationship              6\n",
       "capital-gains                   338\n",
       "capital-loss                    354\n",
       "incident_date                    60\n",
       "incident_type                     4\n",
       "collision_type                    3\n",
       "incident_severity                 4\n",
       "authorities_contacted             5\n",
       "incident_state                    7\n",
       "incident_city                     7\n",
       "incident_location              1000\n",
       "incident_hour_of_the_day         24\n",
       "number_of_vehicles_involved       4\n",
       "property_damage                   2\n",
       "bodily_injuries                   3\n",
       "witnesses                         4\n",
       "police_report_available           2\n",
       "total_claim_amount              763\n",
       "injury_claim                    638\n",
       "property_claim                  626\n",
       "vehicle_claim                   726\n",
       "auto_make                        14\n",
       "auto_model                       39\n",
       "auto_year                        21\n",
       "fraud_reported                    2\n",
       "_c39                              0\n",
       "dtype: int64"
      ]
     },
     "execution_count": 14,
     "metadata": {},
     "output_type": "execute_result"
    }
   ],
   "source": [
    "df.nunique()"
   ]
  },
  {
   "cell_type": "code",
   "execution_count": 15,
   "id": "f5eb6d11",
   "metadata": {},
   "outputs": [],
   "source": [
    "# drop the unnecessary columns\n",
    "df.drop(['age', 'total_claim_amount','policy_number','policy_bind_date','policy_state','insured_zip','incident_location','incident_date',\n",
    "           'incident_state','incident_city','insured_hobbies','auto_make','auto_model','auto_year', '_c39'] ,inplace=True ,axis =1)"
   ]
  },
  {
   "cell_type": "code",
   "execution_count": 16,
   "id": "45df467f",
   "metadata": {},
   "outputs": [
    {
     "data": {
      "text/html": [
       "<div>\n",
       "<style scoped>\n",
       "    .dataframe tbody tr th:only-of-type {\n",
       "        vertical-align: middle;\n",
       "    }\n",
       "\n",
       "    .dataframe tbody tr th {\n",
       "        vertical-align: top;\n",
       "    }\n",
       "\n",
       "    .dataframe thead th {\n",
       "        text-align: right;\n",
       "    }\n",
       "</style>\n",
       "<table border=\"1\" class=\"dataframe\">\n",
       "  <thead>\n",
       "    <tr style=\"text-align: right;\">\n",
       "      <th></th>\n",
       "      <th>months_as_customer</th>\n",
       "      <th>policy_csl</th>\n",
       "      <th>policy_deductable</th>\n",
       "      <th>policy_annual_premium</th>\n",
       "      <th>umbrella_limit</th>\n",
       "      <th>insured_sex</th>\n",
       "      <th>insured_education_level</th>\n",
       "      <th>insured_occupation</th>\n",
       "      <th>insured_relationship</th>\n",
       "      <th>capital-gains</th>\n",
       "      <th>...</th>\n",
       "      <th>incident_hour_of_the_day</th>\n",
       "      <th>number_of_vehicles_involved</th>\n",
       "      <th>property_damage</th>\n",
       "      <th>bodily_injuries</th>\n",
       "      <th>witnesses</th>\n",
       "      <th>police_report_available</th>\n",
       "      <th>injury_claim</th>\n",
       "      <th>property_claim</th>\n",
       "      <th>vehicle_claim</th>\n",
       "      <th>fraud_reported</th>\n",
       "    </tr>\n",
       "  </thead>\n",
       "  <tbody>\n",
       "    <tr>\n",
       "      <th>0</th>\n",
       "      <td>328</td>\n",
       "      <td>250/500</td>\n",
       "      <td>1000</td>\n",
       "      <td>1406.91</td>\n",
       "      <td>0</td>\n",
       "      <td>MALE</td>\n",
       "      <td>MD</td>\n",
       "      <td>craft-repair</td>\n",
       "      <td>husband</td>\n",
       "      <td>53300</td>\n",
       "      <td>...</td>\n",
       "      <td>5</td>\n",
       "      <td>1</td>\n",
       "      <td>YES</td>\n",
       "      <td>1</td>\n",
       "      <td>2</td>\n",
       "      <td>YES</td>\n",
       "      <td>6510</td>\n",
       "      <td>13020</td>\n",
       "      <td>52080</td>\n",
       "      <td>Y</td>\n",
       "    </tr>\n",
       "    <tr>\n",
       "      <th>1</th>\n",
       "      <td>228</td>\n",
       "      <td>250/500</td>\n",
       "      <td>2000</td>\n",
       "      <td>1197.22</td>\n",
       "      <td>5000000</td>\n",
       "      <td>MALE</td>\n",
       "      <td>MD</td>\n",
       "      <td>machine-op-inspct</td>\n",
       "      <td>other-relative</td>\n",
       "      <td>0</td>\n",
       "      <td>...</td>\n",
       "      <td>8</td>\n",
       "      <td>1</td>\n",
       "      <td>NO</td>\n",
       "      <td>0</td>\n",
       "      <td>0</td>\n",
       "      <td>NO</td>\n",
       "      <td>780</td>\n",
       "      <td>780</td>\n",
       "      <td>3510</td>\n",
       "      <td>Y</td>\n",
       "    </tr>\n",
       "    <tr>\n",
       "      <th>2</th>\n",
       "      <td>134</td>\n",
       "      <td>100/300</td>\n",
       "      <td>2000</td>\n",
       "      <td>1413.14</td>\n",
       "      <td>5000000</td>\n",
       "      <td>FEMALE</td>\n",
       "      <td>PhD</td>\n",
       "      <td>sales</td>\n",
       "      <td>own-child</td>\n",
       "      <td>35100</td>\n",
       "      <td>...</td>\n",
       "      <td>7</td>\n",
       "      <td>3</td>\n",
       "      <td>NO</td>\n",
       "      <td>2</td>\n",
       "      <td>3</td>\n",
       "      <td>NO</td>\n",
       "      <td>7700</td>\n",
       "      <td>3850</td>\n",
       "      <td>23100</td>\n",
       "      <td>N</td>\n",
       "    </tr>\n",
       "    <tr>\n",
       "      <th>3</th>\n",
       "      <td>256</td>\n",
       "      <td>250/500</td>\n",
       "      <td>2000</td>\n",
       "      <td>1415.74</td>\n",
       "      <td>6000000</td>\n",
       "      <td>FEMALE</td>\n",
       "      <td>PhD</td>\n",
       "      <td>armed-forces</td>\n",
       "      <td>unmarried</td>\n",
       "      <td>48900</td>\n",
       "      <td>...</td>\n",
       "      <td>5</td>\n",
       "      <td>1</td>\n",
       "      <td>NO</td>\n",
       "      <td>1</td>\n",
       "      <td>2</td>\n",
       "      <td>NO</td>\n",
       "      <td>6340</td>\n",
       "      <td>6340</td>\n",
       "      <td>50720</td>\n",
       "      <td>Y</td>\n",
       "    </tr>\n",
       "    <tr>\n",
       "      <th>4</th>\n",
       "      <td>228</td>\n",
       "      <td>500/1000</td>\n",
       "      <td>1000</td>\n",
       "      <td>1583.91</td>\n",
       "      <td>6000000</td>\n",
       "      <td>MALE</td>\n",
       "      <td>Associate</td>\n",
       "      <td>sales</td>\n",
       "      <td>unmarried</td>\n",
       "      <td>66000</td>\n",
       "      <td>...</td>\n",
       "      <td>20</td>\n",
       "      <td>1</td>\n",
       "      <td>NO</td>\n",
       "      <td>0</td>\n",
       "      <td>1</td>\n",
       "      <td>NO</td>\n",
       "      <td>1300</td>\n",
       "      <td>650</td>\n",
       "      <td>4550</td>\n",
       "      <td>N</td>\n",
       "    </tr>\n",
       "  </tbody>\n",
       "</table>\n",
       "<p>5 rows × 25 columns</p>\n",
       "</div>"
      ],
      "text/plain": [
       "   months_as_customer policy_csl  policy_deductable  policy_annual_premium  \\\n",
       "0                 328    250/500               1000                1406.91   \n",
       "1                 228    250/500               2000                1197.22   \n",
       "2                 134    100/300               2000                1413.14   \n",
       "3                 256    250/500               2000                1415.74   \n",
       "4                 228   500/1000               1000                1583.91   \n",
       "\n",
       "   umbrella_limit insured_sex insured_education_level insured_occupation  \\\n",
       "0               0        MALE                      MD       craft-repair   \n",
       "1         5000000        MALE                      MD  machine-op-inspct   \n",
       "2         5000000      FEMALE                     PhD              sales   \n",
       "3         6000000      FEMALE                     PhD       armed-forces   \n",
       "4         6000000        MALE               Associate              sales   \n",
       "\n",
       "  insured_relationship  capital-gains  ...  incident_hour_of_the_day  \\\n",
       "0              husband          53300  ...                         5   \n",
       "1       other-relative              0  ...                         8   \n",
       "2            own-child          35100  ...                         7   \n",
       "3            unmarried          48900  ...                         5   \n",
       "4            unmarried          66000  ...                        20   \n",
       "\n",
       "  number_of_vehicles_involved property_damage bodily_injuries witnesses  \\\n",
       "0                           1             YES               1         2   \n",
       "1                           1              NO               0         0   \n",
       "2                           3              NO               2         3   \n",
       "3                           1              NO               1         2   \n",
       "4                           1              NO               0         1   \n",
       "\n",
       "   police_report_available  injury_claim property_claim  vehicle_claim  \\\n",
       "0                      YES          6510          13020          52080   \n",
       "1                       NO           780            780           3510   \n",
       "2                       NO          7700           3850          23100   \n",
       "3                       NO          6340           6340          50720   \n",
       "4                       NO          1300            650           4550   \n",
       "\n",
       "   fraud_reported  \n",
       "0               Y  \n",
       "1               Y  \n",
       "2               N  \n",
       "3               Y  \n",
       "4               N  \n",
       "\n",
       "[5 rows x 25 columns]"
      ]
     },
     "execution_count": 16,
     "metadata": {},
     "output_type": "execute_result"
    }
   ],
   "source": [
    "df.head()"
   ]
  },
  {
   "cell_type": "code",
   "execution_count": 17,
   "id": "eb6b2afc",
   "metadata": {},
   "outputs": [],
   "source": [
    "from sklearn.preprocessing import LabelEncoder\n",
    "le = LabelEncoder()\n",
    "for i in df.columns:\n",
    "    if df[i].dtypes == 'object':\n",
    "        df[i] = le.fit_transform(df[i])"
   ]
  },
  {
   "cell_type": "code",
   "execution_count": 18,
   "id": "5b55a889",
   "metadata": {},
   "outputs": [
    {
     "name": "stdout",
     "output_type": "stream",
     "text": [
      "<class 'pandas.core.frame.DataFrame'>\n",
      "RangeIndex: 1000 entries, 0 to 999\n",
      "Data columns (total 25 columns):\n",
      " #   Column                       Non-Null Count  Dtype  \n",
      "---  ------                       --------------  -----  \n",
      " 0   months_as_customer           1000 non-null   int64  \n",
      " 1   policy_csl                   1000 non-null   int32  \n",
      " 2   policy_deductable            1000 non-null   int64  \n",
      " 3   policy_annual_premium        1000 non-null   float64\n",
      " 4   umbrella_limit               1000 non-null   int64  \n",
      " 5   insured_sex                  1000 non-null   int32  \n",
      " 6   insured_education_level      1000 non-null   int32  \n",
      " 7   insured_occupation           1000 non-null   int32  \n",
      " 8   insured_relationship         1000 non-null   int32  \n",
      " 9   capital-gains                1000 non-null   int64  \n",
      " 10  capital-loss                 1000 non-null   int64  \n",
      " 11  incident_type                1000 non-null   int32  \n",
      " 12  collision_type               1000 non-null   int32  \n",
      " 13  incident_severity            1000 non-null   int32  \n",
      " 14  authorities_contacted        1000 non-null   int32  \n",
      " 15  incident_hour_of_the_day     1000 non-null   int64  \n",
      " 16  number_of_vehicles_involved  1000 non-null   int64  \n",
      " 17  property_damage              1000 non-null   int32  \n",
      " 18  bodily_injuries              1000 non-null   int64  \n",
      " 19  witnesses                    1000 non-null   int64  \n",
      " 20  police_report_available      1000 non-null   int32  \n",
      " 21  injury_claim                 1000 non-null   int64  \n",
      " 22  property_claim               1000 non-null   int64  \n",
      " 23  vehicle_claim                1000 non-null   int64  \n",
      " 24  fraud_reported               1000 non-null   int32  \n",
      "dtypes: float64(1), int32(12), int64(12)\n",
      "memory usage: 148.6 KB\n"
     ]
    }
   ],
   "source": [
    "df.info()"
   ]
  },
  {
   "cell_type": "markdown",
   "id": "74b96445",
   "metadata": {},
   "source": [
    "# Visualization"
   ]
  },
  {
   "cell_type": "code",
   "execution_count": 19,
   "id": "f000d5a3",
   "metadata": {},
   "outputs": [
    {
     "data": {
      "text/plain": [
       "<AxesSubplot:>"
      ]
     },
     "execution_count": 19,
     "metadata": {},
     "output_type": "execute_result"
    },
    {
     "data": {
      "image/png": "[encoded data removed]",
      "text/plain": [
       "<Figure size 432x288 with 1 Axes>"
      ]
     },
     "metadata": {
      "needs_background": "light"
     },
     "output_type": "display_data"
    }
   ],
   "source": [
    "df['months_as_customer'].plot.box()"
   ]
  },
  {
   "cell_type": "code",
   "execution_count": 20,
   "id": "52e7e3a5",
   "metadata": {},
   "outputs": [
    {
     "data": {
      "text/plain": [
       "<AxesSubplot:>"
      ]
     },
     "execution_count": 20,
     "metadata": {},
     "output_type": "execute_result"
    },
    {
     "data": {
      "image/png": "[encoded data removed]",
      "text/plain": [
       "<Figure size 432x288 with 1 Axes>"
      ]
     },
     "metadata": {
      "needs_background": "light"
     },
     "output_type": "display_data"
    }
   ],
   "source": [
    "df['policy_csl'].plot.box()"
   ]
  },
  {
   "cell_type": "code",
   "execution_count": 21,
   "id": "8e628cc9",
   "metadata": {},
   "outputs": [
    {
     "data": {
      "text/plain": [
       "<AxesSubplot:>"
      ]
     },
     "execution_count": 21,
     "metadata": {},
     "output_type": "execute_result"
    },
    {
     "data": {
      "image/png": "[encoded data removed]",
      "text/plain": [
       "<Figure size 432x288 with 1 Axes>"
      ]
     },
     "metadata": {
      "needs_background": "light"
     },
     "output_type": "display_data"
    }
   ],
   "source": [
    "df['policy_deductable'].plot.box()"
   ]
  },
  {
   "cell_type": "code",
   "execution_count": 22,
   "id": "300a8ed5",
   "metadata": {},
   "outputs": [
    {
     "data": {
      "text/plain": [
       "<AxesSubplot:>"
      ]
     },
     "execution_count": 22,
     "metadata": {},
     "output_type": "execute_result"
    },
    {
     "data": {
      "image/png": "[encoded data removed]",
      "text/plain": [
       "<Figure size 432x288 with 1 Axes>"
      ]
     },
     "metadata": {
      "needs_background": "light"
     },
     "output_type": "display_data"
    }
   ],
   "source": [
    "df['policy_annual_premium'].plot.box()"
   ]
  },
  {
   "cell_type": "code",
   "execution_count": 23,
   "id": "71ab85cc",
   "metadata": {},
   "outputs": [
    {
     "data": {
      "text/plain": [
       "<AxesSubplot:>"
      ]
     },
     "execution_count": 23,
     "metadata": {},
     "output_type": "execute_result"
    },
    {
     "data": {
      "image/png": "[encoded data removed]",
      "text/plain": [
       "<Figure size 432x288 with 1 Axes>"
      ]
     },
     "metadata": {
      "needs_background": "light"
     },
     "output_type": "display_data"
    }
   ],
   "source": [
    "df['umbrella_limit'].plot.box()"
   ]
  },
  {
   "cell_type": "code",
   "execution_count": 24,
   "id": "7b9a18f3",
   "metadata": {},
   "outputs": [
    {
     "data": {
      "text/plain": [
       "<AxesSubplot:>"
      ]
     },
     "execution_count": 24,
     "metadata": {},
     "output_type": "execute_result"
    },
    {
     "data": {
      "image/png": "[encoded data removed]",
      "text/plain": [
       "<Figure size 432x288 with 1 Axes>"
      ]
     },
     "metadata": {
      "needs_background": "light"
     },
     "output_type": "display_data"
    }
   ],
   "source": [
    "df['insured_sex'].plot.box()"
   ]
  },
  {
   "cell_type": "code",
   "execution_count": 25,
   "id": "56371254",
   "metadata": {},
   "outputs": [
    {
     "data": {
      "text/plain": [
       "<AxesSubplot:>"
      ]
     },
     "execution_count": 25,
     "metadata": {},
     "output_type": "execute_result"
    },
    {
     "data": {
      "image/png": "[encoded data removed]",
      "text/plain": [
       "<Figure size 432x288 with 1 Axes>"
      ]
     },
     "metadata": {
      "needs_background": "light"
     },
     "output_type": "display_data"
    }
   ],
   "source": [
    "df['insured_education_level'].plot.box()"
   ]
  },
  {
   "cell_type": "code",
   "execution_count": 26,
   "id": "f0895ea9",
   "metadata": {},
   "outputs": [
    {
     "data": {
      "text/plain": [
       "<AxesSubplot:>"
      ]
     },
     "execution_count": 26,
     "metadata": {},
     "output_type": "execute_result"
    },
    {
     "data": {
      "image/png": "[encoded data removed]",
      "text/plain": [
       "<Figure size 432x288 with 1 Axes>"
      ]
     },
     "metadata": {
      "needs_background": "light"
     },
     "output_type": "display_data"
    }
   ],
   "source": [
    "df['insured_occupation'].plot.box()"
   ]
  },
  {
   "cell_type": "code",
   "execution_count": 27,
   "id": "3e40c348",
   "metadata": {},
   "outputs": [
    {
     "data": {
      "text/plain": [
       "<AxesSubplot:>"
      ]
     },
     "execution_count": 27,
     "metadata": {},
     "output_type": "execute_result"
    },
    {
     "data": {
      "image/png": "[encoded data removed]",
      "text/plain": [
       "<Figure size 432x288 with 1 Axes>"
      ]
     },
     "metadata": {
      "needs_background": "light"
     },
     "output_type": "display_data"
    }
   ],
   "source": [
    "df['insured_relationship'].plot.box()"
   ]
  },
  {
   "cell_type": "code",
   "execution_count": 28,
   "id": "340e45ab",
   "metadata": {},
   "outputs": [
    {
     "data": {
      "text/plain": [
       "<AxesSubplot:>"
      ]
     },
     "execution_count": 28,
     "metadata": {},
     "output_type": "execute_result"
    },
    {
     "data": {
      "image/png": "[encoded data removed]",
      "text/plain": [
       "<Figure size 432x288 with 1 Axes>"
      ]
     },
     "metadata": {
      "needs_background": "light"
     },
     "output_type": "display_data"
    }
   ],
   "source": [
    "df['capital-gains'].plot.box()"
   ]
  },
  {
   "cell_type": "code",
   "execution_count": 29,
   "id": "d7ea88dc",
   "metadata": {},
   "outputs": [
    {
     "data": {
      "text/plain": [
       "<AxesSubplot:>"
      ]
     },
     "execution_count": 29,
     "metadata": {},
     "output_type": "execute_result"
    },
    {
     "data": {
      "image/png": "[encoded data removed]",
      "text/plain": [
       "<Figure size 432x288 with 1 Axes>"
      ]
     },
     "metadata": {
      "needs_background": "light"
     },
     "output_type": "display_data"
    }
   ],
   "source": [
    "df['capital-loss'].plot.box()"
   ]
  },
  {
   "cell_type": "code",
   "execution_count": 30,
   "id": "fe89f01d",
   "metadata": {},
   "outputs": [
    {
     "data": {
      "text/plain": [
       "<AxesSubplot:>"
      ]
     },
     "execution_count": 30,
     "metadata": {},
     "output_type": "execute_result"
    },
    {
     "data": {
      "image/png": "[encoded data removed]",
      "text/plain": [
       "<Figure size 432x288 with 1 Axes>"
      ]
     },
     "metadata": {
      "needs_background": "light"
     },
     "output_type": "display_data"
    }
   ],
   "source": [
    "df['incident_type'].plot.box()"
   ]
  },
  {
   "cell_type": "code",
   "execution_count": 31,
   "id": "c09af944",
   "metadata": {},
   "outputs": [
    {
     "data": {
      "text/plain": [
       "<AxesSubplot:>"
      ]
     },
     "execution_count": 31,
     "metadata": {},
     "output_type": "execute_result"
    },
    {
     "data": {
      "image/png": "[encoded data removed]",
      "text/plain": [
       "<Figure size 432x288 with 1 Axes>"
      ]
     },
     "metadata": {
      "needs_background": "light"
     },
     "output_type": "display_data"
    }
   ],
   "source": [
    "df['authorities_contacted'].plot.box()"
   ]
  },
  {
   "cell_type": "code",
   "execution_count": 32,
   "id": "33d60670",
   "metadata": {},
   "outputs": [
    {
     "data": {
      "text/plain": [
       "<AxesSubplot:>"
      ]
     },
     "execution_count": 32,
     "metadata": {},
     "output_type": "execute_result"
    },
    {
     "data": {
      "image/png": "[encoded data removed]",
      "text/plain": [
       "<Figure size 432x288 with 1 Axes>"
      ]
     },
     "metadata": {
      "needs_background": "light"
     },
     "output_type": "display_data"
    }
   ],
   "source": [
    "df['incident_hour_of_the_day'].plot.box()"
   ]
  },
  {
   "cell_type": "code",
   "execution_count": 33,
   "id": "29e70f7b",
   "metadata": {},
   "outputs": [
    {
     "data": {
      "text/plain": [
       "<AxesSubplot:>"
      ]
     },
     "execution_count": 33,
     "metadata": {},
     "output_type": "execute_result"
    },
    {
     "data": {
      "image/png": "[encoded data removed]",
      "text/plain": [
       "<Figure size 432x288 with 1 Axes>"
      ]
     },
     "metadata": {
      "needs_background": "light"
     },
     "output_type": "display_data"
    }
   ],
   "source": [
    "df['number_of_vehicles_involved'].plot.box()"
   ]
  },
  {
   "cell_type": "code",
   "execution_count": 34,
   "id": "0c4ab771",
   "metadata": {},
   "outputs": [
    {
     "data": {
      "text/plain": [
       "<AxesSubplot:>"
      ]
     },
     "execution_count": 34,
     "metadata": {},
     "output_type": "execute_result"
    },
    {
     "data": {
      "image/png": "[encoded data removed]",
      "text/plain": [
       "<Figure size 432x288 with 1 Axes>"
      ]
     },
     "metadata": {
      "needs_background": "light"
     },
     "output_type": "display_data"
    }
   ],
   "source": [
    "df['property_damage'].plot.box()"
   ]
  },
  {
   "cell_type": "code",
   "execution_count": 35,
   "id": "6939bad3",
   "metadata": {},
   "outputs": [
    {
     "data": {
      "text/plain": [
       "<AxesSubplot:>"
      ]
     },
     "execution_count": 35,
     "metadata": {},
     "output_type": "execute_result"
    },
    {
     "data": {
      "image/png": "[encoded data removed]",
      "text/plain": [
       "<Figure size 432x288 with 1 Axes>"
      ]
     },
     "metadata": {
      "needs_background": "light"
     },
     "output_type": "display_data"
    }
   ],
   "source": [
    "df['bodily_injuries'].plot.box()"
   ]
  },
  {
   "cell_type": "code",
   "execution_count": 36,
   "id": "fe67cb50",
   "metadata": {},
   "outputs": [
    {
     "data": {
      "text/plain": [
       "<AxesSubplot:>"
      ]
     },
     "execution_count": 36,
     "metadata": {},
     "output_type": "execute_result"
    },
    {
     "data": {
      "image/png": "[encoded data removed]",
      "text/plain": [
       "<Figure size 432x288 with 1 Axes>"
      ]
     },
     "metadata": {
      "needs_background": "light"
     },
     "output_type": "display_data"
    }
   ],
   "source": [
    "df['witnesses'].plot.box()"
   ]
  },
  {
   "cell_type": "code",
   "execution_count": 37,
   "id": "827a0aa2",
   "metadata": {},
   "outputs": [
    {
     "data": {
      "text/plain": [
       "<AxesSubplot:>"
      ]
     },
     "execution_count": 37,
     "metadata": {},
     "output_type": "execute_result"
    },
    {
     "data": {
      "image/png": "[encoded data removed]",
      "text/plain": [
       "<Figure size 432x288 with 1 Axes>"
      ]
     },
     "metadata": {
      "needs_background": "light"
     },
     "output_type": "display_data"
    }
   ],
   "source": [
    "df['police_report_available'].plot.box()"
   ]
  },
  {
   "cell_type": "code",
   "execution_count": 38,
   "id": "37a684bd",
   "metadata": {},
   "outputs": [
    {
     "data": {
      "text/plain": [
       "<AxesSubplot:>"
      ]
     },
     "execution_count": 38,
     "metadata": {},
     "output_type": "execute_result"
    },
    {
     "data": {
      "image/png": "[encoded data removed]",
      "text/plain": [
       "<Figure size 432x288 with 1 Axes>"
      ]
     },
     "metadata": {
      "needs_background": "light"
     },
     "output_type": "display_data"
    }
   ],
   "source": [
    "df['injury_claim'].plot.box()"
   ]
  },
  {
   "cell_type": "code",
   "execution_count": 39,
   "id": "8214914f",
   "metadata": {},
   "outputs": [
    {
     "data": {
      "text/plain": [
       "<AxesSubplot:>"
      ]
     },
     "execution_count": 39,
     "metadata": {},
     "output_type": "execute_result"
    },
    {
     "data": {
      "image/png": "[encoded data removed]",
      "text/plain": [
       "<Figure size 432x288 with 1 Axes>"
      ]
     },
     "metadata": {
      "needs_background": "light"
     },
     "output_type": "display_data"
    }
   ],
   "source": [
    "df['property_claim'].plot.box()"
   ]
  },
  {
   "cell_type": "code",
   "execution_count": 40,
   "id": "cc2b66ad",
   "metadata": {},
   "outputs": [
    {
     "data": {
      "text/plain": [
       "<AxesSubplot:>"
      ]
     },
     "execution_count": 40,
     "metadata": {},
     "output_type": "execute_result"
    },
    {
     "data": {
      "image/png": "[encoded data removed]",
      "text/plain": [
       "<Figure size 432x288 with 1 Axes>"
      ]
     },
     "metadata": {
      "needs_background": "light"
     },
     "output_type": "display_data"
    }
   ],
   "source": [
    "df['fraud_reported'].plot.box()"
   ]
  },
  {
   "cell_type": "markdown",
   "id": "39b8af90",
   "metadata": {},
   "source": [
    "## checking skewness"
   ]
  },
  {
   "cell_type": "code",
   "execution_count": 41,
   "id": "ac6e52f0",
   "metadata": {},
   "outputs": [
    {
     "data": {
      "text/plain": [
       "<AxesSubplot:xlabel='months_as_customer', ylabel='Density'>"
      ]
     },
     "execution_count": 41,
     "metadata": {},
     "output_type": "execute_result"
    },
    {
     "data": {
      "image/png": "[encoded data removed]",
      "text/plain": [
       "<Figure size 432x288 with 1 Axes>"
      ]
     },
     "metadata": {
      "needs_background": "light"
     },
     "output_type": "display_data"
    }
   ],
   "source": [
    "sns.distplot(df['months_as_customer'])"
   ]
  },
  {
   "cell_type": "code",
   "execution_count": 42,
   "id": "68f764cf",
   "metadata": {},
   "outputs": [
    {
     "data": {
      "text/plain": [
       "<AxesSubplot:xlabel='policy_csl', ylabel='Density'>"
      ]
     },
     "execution_count": 42,
     "metadata": {},
     "output_type": "execute_result"
    },
    {
     "data": {
      "image/png": "[encoded data removed]",
      "text/plain": [
       "<Figure size 432x288 with 1 Axes>"
      ]
     },
     "metadata": {
      "needs_background": "light"
     },
     "output_type": "display_data"
    }
   ],
   "source": [
    "sns.distplot(df['policy_csl'])"
   ]
  },
  {
   "cell_type": "code",
   "execution_count": 43,
   "id": "608443eb",
   "metadata": {},
   "outputs": [
    {
     "data": {
      "text/plain": [
       "<AxesSubplot:xlabel='policy_deductable', ylabel='Density'>"
      ]
     },
     "execution_count": 43,
     "metadata": {},
     "output_type": "execute_result"
    },
    {
     "data": {
      "image/png": "[encoded data removed]",
      "text/plain": [
       "<Figure size 432x288 with 1 Axes>"
      ]
     },
     "metadata": {
      "needs_background": "light"
     },
     "output_type": "display_data"
    }
   ],
   "source": [
    "sns.distplot(df['policy_deductable'])"
   ]
  },
  {
   "cell_type": "code",
   "execution_count": 44,
   "id": "c458ac8d",
   "metadata": {},
   "outputs": [
    {
     "data": {
      "text/plain": [
       "<AxesSubplot:xlabel='policy_annual_premium', ylabel='Density'>"
      ]
     },
     "execution_count": 44,
     "metadata": {},
     "output_type": "execute_result"
    },
    {
     "data": {
      "image/png": "[encoded data removed]",
      "text/plain": [
       "<Figure size 432x288 with 1 Axes>"
      ]
     },
     "metadata": {
      "needs_background": "light"
     },
     "output_type": "display_data"
    }
   ],
   "source": [
    "sns.distplot(df['policy_annual_premium'])"
   ]
  },
  {
   "cell_type": "code",
   "execution_count": 45,
   "id": "99eddd1b",
   "metadata": {},
   "outputs": [
    {
     "data": {
      "text/plain": [
       "<AxesSubplot:xlabel='umbrella_limit', ylabel='Density'>"
      ]
     },
     "execution_count": 45,
     "metadata": {},
     "output_type": "execute_result"
    },
    {
     "data": {
      "image/png": "[encoded data removed]",
      "text/plain": [
       "<Figure size 432x288 with 1 Axes>"
      ]
     },
     "metadata": {
      "needs_background": "light"
     },
     "output_type": "display_data"
    }
   ],
   "source": [
    "sns.distplot(df['umbrella_limit'])"
   ]
  },
  {
   "cell_type": "code",
   "execution_count": 46,
   "id": "2295c026",
   "metadata": {},
   "outputs": [
    {
     "data": {
      "text/plain": [
       "<AxesSubplot:xlabel='insured_sex', ylabel='Density'>"
      ]
     },
     "execution_count": 46,
     "metadata": {},
     "output_type": "execute_result"
    },
    {
     "data": {
      "image/png": "[encoded data removed]",
      "text/plain": [
       "<Figure size 432x288 with 1 Axes>"
      ]
     },
     "metadata": {
      "needs_background": "light"
     },
     "output_type": "display_data"
    }
   ],
   "source": [
    "sns.distplot(df['insured_sex'])"
   ]
  },
  {
   "cell_type": "code",
   "execution_count": 47,
   "id": "78d6125d",
   "metadata": {},
   "outputs": [
    {
     "data": {
      "text/plain": [
       "<AxesSubplot:xlabel='capital-gains', ylabel='Density'>"
      ]
     },
     "execution_count": 47,
     "metadata": {},
     "output_type": "execute_result"
    },
    {
     "data": {
      "image/png": "[encoded data removed]",
      "text/plain": [
       "<Figure size 432x288 with 1 Axes>"
      ]
     },
     "metadata": {
      "needs_background": "light"
     },
     "output_type": "display_data"
    }
   ],
   "source": [
    "sns.distplot(df['capital-gains'])"
   ]
  },
  {
   "cell_type": "code",
   "execution_count": 48,
   "id": "f4622a4d",
   "metadata": {},
   "outputs": [
    {
     "data": {
      "text/plain": [
       "<AxesSubplot:xlabel='capital-loss', ylabel='Density'>"
      ]
     },
     "execution_count": 48,
     "metadata": {},
     "output_type": "execute_result"
    },
    {
     "data": {
      "image/png": "[encoded data removed]",
      "text/plain": [
       "<Figure size 432x288 with 1 Axes>"
      ]
     },
     "metadata": {
      "needs_background": "light"
     },
     "output_type": "display_data"
    }
   ],
   "source": [
    "sns.distplot(df['capital-loss'])"
   ]
  },
  {
   "cell_type": "code",
   "execution_count": 49,
   "id": "dd40bbea",
   "metadata": {},
   "outputs": [
    {
     "data": {
      "text/plain": [
       "<AxesSubplot:xlabel='incident_hour_of_the_day', ylabel='Density'>"
      ]
     },
     "execution_count": 49,
     "metadata": {},
     "output_type": "execute_result"
    },
    {
     "data": {
      "image/png": "[encoded data removed]",
      "text/plain": [
       "<Figure size 432x288 with 1 Axes>"
      ]
     },
     "metadata": {
      "needs_background": "light"
     },
     "output_type": "display_data"
    }
   ],
   "source": [
    "sns.distplot(df['incident_hour_of_the_day'])"
   ]
  },
  {
   "cell_type": "code",
   "execution_count": 50,
   "id": "31ccae5a",
   "metadata": {},
   "outputs": [
    {
     "data": {
      "text/plain": [
       "<AxesSubplot:xlabel='number_of_vehicles_involved', ylabel='Density'>"
      ]
     },
     "execution_count": 50,
     "metadata": {},
     "output_type": "execute_result"
    },
    {
     "data": {
      "image/png": "[encoded data removed]",
      "text/plain": [
       "<Figure size 432x288 with 1 Axes>"
      ]
     },
     "metadata": {
      "needs_background": "light"
     },
     "output_type": "display_data"
    }
   ],
   "source": [
    "sns.distplot(df['number_of_vehicles_involved'])"
   ]
  },
  {
   "cell_type": "code",
   "execution_count": 51,
   "id": "d75ded12",
   "metadata": {},
   "outputs": [
    {
     "data": {
      "text/plain": [
       "<AxesSubplot:xlabel='bodily_injuries', ylabel='Density'>"
      ]
     },
     "execution_count": 51,
     "metadata": {},
     "output_type": "execute_result"
    },
    {
     "data": {
      "image/png": "[encoded data removed]",
      "text/plain": [
       "<Figure size 432x288 with 1 Axes>"
      ]
     },
     "metadata": {
      "needs_background": "light"
     },
     "output_type": "display_data"
    }
   ],
   "source": [
    "sns.distplot(df['bodily_injuries'])"
   ]
  },
  {
   "cell_type": "code",
   "execution_count": 52,
   "id": "04480ad9",
   "metadata": {},
   "outputs": [
    {
     "data": {
      "text/plain": [
       "<AxesSubplot:xlabel='witnesses', ylabel='Density'>"
      ]
     },
     "execution_count": 52,
     "metadata": {},
     "output_type": "execute_result"
    },
    {
     "data": {
      "image/png": "[encoded data removed]",
      "text/plain": [
       "<Figure size 432x288 with 1 Axes>"
      ]
     },
     "metadata": {
      "needs_background": "light"
     },
     "output_type": "display_data"
    }
   ],
   "source": [
    "sns.distplot(df['witnesses'])"
   ]
  },
  {
   "cell_type": "markdown",
   "id": "dc2a5cf4",
   "metadata": {},
   "source": [
    "## Remove Outliers"
   ]
  },
  {
   "cell_type": "code",
   "execution_count": 53,
   "id": "82516fa6",
   "metadata": {},
   "outputs": [
    {
     "data": {
      "text/plain": [
       "(array([ 31,  48,  88, 115, 119, 229, 248, 262, 314, 430, 458, 500, 503,\n",
       "        657, 700, 763, 807, 875, 922, 975], dtype=int64),\n",
       " array([ 4,  4,  4,  4,  4,  3,  3,  4,  4,  4,  4, 22,  4,  4,  4,  3, 10,\n",
       "         4,  4,  4], dtype=int64))"
      ]
     },
     "execution_count": 53,
     "metadata": {},
     "output_type": "execute_result"
    }
   ],
   "source": [
    "from scipy.stats import zscore\n",
    "z = np.abs(zscore(df))\n",
    "threshold = 3\n",
    "np.where(z>3)"
   ]
  },
  {
   "cell_type": "code",
   "execution_count": 54,
   "id": "d8204d83",
   "metadata": {},
   "outputs": [],
   "source": [
    "df = df[(z<3).all(axis=1)]"
   ]
  },
  {
   "cell_type": "code",
   "execution_count": 55,
   "id": "5b9435b3",
   "metadata": {},
   "outputs": [
    {
     "data": {
      "text/plain": [
       "(980, 25)"
      ]
     },
     "execution_count": 55,
     "metadata": {},
     "output_type": "execute_result"
    }
   ],
   "source": [
    "df.shape"
   ]
  },
  {
   "cell_type": "markdown",
   "id": "d5cc3380",
   "metadata": {},
   "source": [
    "### model building"
   ]
  },
  {
   "cell_type": "code",
   "execution_count": 56,
   "id": "dad659f0",
   "metadata": {},
   "outputs": [],
   "source": [
    "x = df.drop('fraud_reported',axis = 1)\n",
    "y = df['fraud_reported']"
   ]
  },
  {
   "cell_type": "markdown",
   "id": "e0e9f338",
   "metadata": {},
   "source": [
    "## Remove Skewness"
   ]
  },
  {
   "cell_type": "code",
   "execution_count": 57,
   "id": "43247d2e",
   "metadata": {},
   "outputs": [],
   "source": [
    "from sklearn.preprocessing import power_transform\n",
    "x = power_transform( x,method ='yeo-johnson')"
   ]
  },
  {
   "cell_type": "code",
   "execution_count": 58,
   "id": "f8646318",
   "metadata": {},
   "outputs": [
    {
     "data": {
      "text/plain": [
       "array([[ 1.04454111,  0.18905105,  0.06315396, ...,  0.00858172,\n",
       "         1.08980208,  0.7581298 ],\n",
       "       [ 0.29904549,  0.18905105,  1.27180775, ..., -1.52209542,\n",
       "        -1.5637232 , -1.78748531],\n",
       "       [-0.51581942, -1.23186716,  1.27180775, ...,  0.22617755,\n",
       "        -0.58207486, -0.82024583],\n",
       "       ...,\n",
       "       [-0.55427228,  0.18905105, -1.21521142, ...,  0.1906937 ,\n",
       "         0.18625419,  0.78172811],\n",
       "       [ 1.90408801,  1.23338925,  1.27180775, ..., -0.24807391,\n",
       "        -0.26790911, -0.10201672],\n",
       "       [ 1.89156317,  0.18905105,  0.06315396, ..., -1.69309349,\n",
       "        -1.49907329, -1.77993883]])"
      ]
     },
     "execution_count": 58,
     "metadata": {},
     "output_type": "execute_result"
    }
   ],
   "source": [
    "x"
   ]
  },
  {
   "cell_type": "code",
   "execution_count": 59,
   "id": "152462dd",
   "metadata": {},
   "outputs": [],
   "source": [
    "from sklearn.model_selection import train_test_split\n",
    "from sklearn.linear_model import LogisticRegression\n",
    "from sklearn.naive_bayes import GaussianNB\n",
    "from sklearn.tree import DecisionTreeClassifier\n",
    "from sklearn.ensemble import RandomForestClassifier\n",
    "from sklearn.ensemble import GradientBoostingClassifier\n",
    "from sklearn.model_selection import cross_val_score\n",
    "from sklearn.metrics import accuracy_score, confusion_matrix ,classification_report"
   ]
  },
  {
   "cell_type": "code",
   "execution_count": 60,
   "id": "dc84f53a",
   "metadata": {},
   "outputs": [],
   "source": [
    "x_train ,x_test ,y_train ,y_test =train_test_split(x,y,test_size = .30, random_state = 50)"
   ]
  },
  {
   "cell_type": "markdown",
   "id": "c2ff4be4",
   "metadata": {},
   "source": [
    "## Logistic Regression"
   ]
  },
  {
   "cell_type": "code",
   "execution_count": 61,
   "id": "27ed8576",
   "metadata": {},
   "outputs": [
    {
     "name": "stdout",
     "output_type": "stream",
     "text": [
      "Accuracy_score 0.8061224489795918\n",
      "[[204  28]\n",
      " [ 29  33]]\n",
      "              precision    recall  f1-score   support\n",
      "\n",
      "           0       0.88      0.88      0.88       232\n",
      "           1       0.54      0.53      0.54        62\n",
      "\n",
      "    accuracy                           0.81       294\n",
      "   macro avg       0.71      0.71      0.71       294\n",
      "weighted avg       0.80      0.81      0.81       294\n",
      "\n"
     ]
    }
   ],
   "source": [
    "lg = LogisticRegression()\n",
    "lg.fit(x_train,y_train)\n",
    "predlg = lg.predict(x_test)\n",
    "print(\"Accuracy_score\", accuracy_score(y_test,predlg))\n",
    "print(confusion_matrix(y_test,predlg))\n",
    "print(classification_report(y_test,predlg))"
   ]
  },
  {
   "cell_type": "markdown",
   "id": "6e005537",
   "metadata": {},
   "source": [
    "## GaussianNB"
   ]
  },
  {
   "cell_type": "code",
   "execution_count": 62,
   "id": "6fdff5ed",
   "metadata": {},
   "outputs": [
    {
     "name": "stdout",
     "output_type": "stream",
     "text": [
      "Accuracy_score 0.7312925170068028\n",
      "[[175  57]\n",
      " [ 22  40]]\n",
      "              precision    recall  f1-score   support\n",
      "\n",
      "           0       0.89      0.75      0.82       232\n",
      "           1       0.41      0.65      0.50        62\n",
      "\n",
      "    accuracy                           0.73       294\n",
      "   macro avg       0.65      0.70      0.66       294\n",
      "weighted avg       0.79      0.73      0.75       294\n",
      "\n"
     ]
    }
   ],
   "source": [
    "gnb = GaussianNB()\n",
    "gnb.fit(x_train,y_train)\n",
    "predgnb = gnb.predict(x_test)\n",
    "print(\"Accuracy_score\", accuracy_score(y_test,predgnb))\n",
    "print(confusion_matrix(y_test,predgnb))\n",
    "print(classification_report(y_test,predgnb))"
   ]
  },
  {
   "cell_type": "markdown",
   "id": "0dc8cc08",
   "metadata": {},
   "source": [
    "## Decision Tree Classifier"
   ]
  },
  {
   "cell_type": "code",
   "execution_count": 63,
   "id": "64ec0451",
   "metadata": {},
   "outputs": [
    {
     "name": "stdout",
     "output_type": "stream",
     "text": [
      "Accuracy_score 0.673469387755102\n",
      "[[178  54]\n",
      " [ 42  20]]\n",
      "              precision    recall  f1-score   support\n",
      "\n",
      "           0       0.81      0.77      0.79       232\n",
      "           1       0.27      0.32      0.29        62\n",
      "\n",
      "    accuracy                           0.67       294\n",
      "   macro avg       0.54      0.54      0.54       294\n",
      "weighted avg       0.70      0.67      0.68       294\n",
      "\n"
     ]
    }
   ],
   "source": [
    "dtc = DecisionTreeClassifier()\n",
    "dtc.fit(x_train,y_train)\n",
    "preddtc = dtc.predict(x_test)\n",
    "print(\"Accuracy_score\", accuracy_score(y_test,preddtc))\n",
    "print(confusion_matrix(y_test,preddtc))\n",
    "print(classification_report(y_test,preddtc))"
   ]
  },
  {
   "cell_type": "markdown",
   "id": "5e3aa129",
   "metadata": {},
   "source": [
    "## Random Forest Classifier"
   ]
  },
  {
   "cell_type": "code",
   "execution_count": 64,
   "id": "b1eb92c9",
   "metadata": {},
   "outputs": [
    {
     "name": "stdout",
     "output_type": "stream",
     "text": [
      "Accuracy_score 0.7891156462585034\n",
      "[[209  23]\n",
      " [ 39  23]]\n",
      "              precision    recall  f1-score   support\n",
      "\n",
      "           0       0.84      0.90      0.87       232\n",
      "           1       0.50      0.37      0.43        62\n",
      "\n",
      "    accuracy                           0.79       294\n",
      "   macro avg       0.67      0.64      0.65       294\n",
      "weighted avg       0.77      0.79      0.78       294\n",
      "\n"
     ]
    }
   ],
   "source": [
    "rf = RandomForestClassifier()\n",
    "rf.fit(x_train,y_train)\n",
    "predrf = rf.predict(x_test)\n",
    "print(\"Accuracy_score\", accuracy_score(y_test,predrf))\n",
    "print(confusion_matrix(y_test,predrf))\n",
    "print(classification_report(y_test,predrf))"
   ]
  },
  {
   "cell_type": "markdown",
   "id": "67917e83",
   "metadata": {},
   "source": [
    "## Gradient Boosting Classifier"
   ]
  },
  {
   "cell_type": "code",
   "execution_count": 65,
   "id": "964ae7b7",
   "metadata": {},
   "outputs": [
    {
     "name": "stdout",
     "output_type": "stream",
     "text": [
      "Accuracy_score 0.7925170068027211\n",
      "[[205  27]\n",
      " [ 34  28]]\n",
      "              precision    recall  f1-score   support\n",
      "\n",
      "           0       0.86      0.88      0.87       232\n",
      "           1       0.51      0.45      0.48        62\n",
      "\n",
      "    accuracy                           0.79       294\n",
      "   macro avg       0.68      0.67      0.67       294\n",
      "weighted avg       0.78      0.79      0.79       294\n",
      "\n"
     ]
    }
   ],
   "source": [
    "gd = GradientBoostingClassifier()\n",
    "gd.fit(x_train,y_train)\n",
    "predgd =gd.predict(x_test)\n",
    "print(\"Accuracy_score\", accuracy_score(y_test,predgd))\n",
    "print(confusion_matrix(y_test,predgd))\n",
    "print(classification_report(y_test,predgd))"
   ]
  },
  {
   "cell_type": "markdown",
   "id": "1a4df036",
   "metadata": {},
   "source": [
    "## cross Validation"
   ]
  },
  {
   "cell_type": "code",
   "execution_count": 66,
   "id": "e473d514",
   "metadata": {},
   "outputs": [
    {
     "name": "stdout",
     "output_type": "stream",
     "text": [
      "cross validation of logistic regression 0.7836734693877552\n"
     ]
    }
   ],
   "source": [
    "scr = cross_val_score(lg, x,y,cv=5)\n",
    "print('cross validation of logistic regression' ,scr.mean())"
   ]
  },
  {
   "cell_type": "code",
   "execution_count": 67,
   "id": "e9b3944e",
   "metadata": {},
   "outputs": [
    {
     "name": "stdout",
     "output_type": "stream",
     "text": [
      "cross validation score of GaussianNB  0.7765306122448979\n"
     ]
    }
   ],
   "source": [
    "scr = cross_val_score(gnb,x,y ,cv=5)\n",
    "print('cross validation score of GaussianNB ',scr.mean())"
   ]
  },
  {
   "cell_type": "code",
   "execution_count": 68,
   "id": "aae35663",
   "metadata": {},
   "outputs": [
    {
     "name": "stdout",
     "output_type": "stream",
     "text": [
      "cross validation score of dtc 0.7051020408163267\n"
     ]
    }
   ],
   "source": [
    "scr = cross_val_score(dtc,x,y ,cv=5)\n",
    "print('cross validation score of dtc',scr.mean())"
   ]
  },
  {
   "cell_type": "code",
   "execution_count": 69,
   "id": "eda9eadb",
   "metadata": {},
   "outputs": [
    {
     "name": "stdout",
     "output_type": "stream",
     "text": [
      "cross validation score of RandomForestClassifier 0.7755102040816326\n"
     ]
    }
   ],
   "source": [
    "scr = cross_val_score(rf,x,y ,cv=5)\n",
    "print('cross validation score of RandomForestClassifier',scr.mean())"
   ]
  },
  {
   "cell_type": "markdown",
   "id": "c499ff1a",
   "metadata": {},
   "source": [
    "## Hyper parameter tuning"
   ]
  },
  {
   "cell_type": "code",
   "execution_count": 70,
   "id": "36a2c480",
   "metadata": {},
   "outputs": [],
   "source": [
    "from sklearn.model_selection import GridSearchCV\n",
    "\n",
    "# Creating parameter list to pass in GridSearchCV\n",
    "parameters = {'max_features': ['auto', 'sqrt', 'log2'],\n",
    "               'max_depth':[4,5,6,7,8],\n",
    "                'criterion':['gini','entropy']}"
   ]
  },
  {
   "cell_type": "code",
   "execution_count": 71,
   "id": "19111399",
   "metadata": {},
   "outputs": [
    {
     "data": {
      "text/plain": [
       "{'criterion': 'gini', 'max_depth': 7, 'max_features': 'auto'}"
      ]
     },
     "execution_count": 71,
     "metadata": {},
     "output_type": "execute_result"
    }
   ],
   "source": [
    "GCV = GridSearchCV(RandomForestClassifier(),parameters,cv=5,scoring='accuracy')\n",
    "GCV.fit(x_train, y_train) #Fitting the data in model\n",
    "GCV.best_params_ # printing the best parameter found by GridSearchCV"
   ]
  },
  {
   "cell_type": "code",
   "execution_count": 72,
   "id": "210b1582",
   "metadata": {},
   "outputs": [
    {
     "data": {
      "text/plain": [
       "0.8027210884353742"
      ]
     },
     "execution_count": 72,
     "metadata": {},
     "output_type": "execute_result"
    }
   ],
   "source": [
    "GCV_pred = GCV.best_estimator_.predict(x_test) # predicting with best parameters\n",
    "accuracy_score(y_test, GCV_pred) #Checking final accuracy"
   ]
  },
  {
   "cell_type": "markdown",
   "id": "f41c72d1",
   "metadata": {},
   "source": [
    "## ROC AUC PLOT"
   ]
  },
  {
   "cell_type": "code",
   "execution_count": 73,
   "id": "72c1dd4c",
   "metadata": {},
   "outputs": [
    {
     "data": {
      "image/png": "[encoded data removed]",
      "text/plain": [
       "<Figure size 432x288 with 1 Axes>"
      ]
     },
     "metadata": {
      "needs_background": "light"
     },
     "output_type": "display_data"
    }
   ],
   "source": [
    "from sklearn.metrics import plot_roc_curve\n",
    "plot_roc_curve(GCV.best_estimator_,x_test, y_test)\n",
    "plt.title(\"ROC AUC plot\")\n",
    "plt.show()"
   ]
  },
  {
   "cell_type": "markdown",
   "id": "76ab5f6f",
   "metadata": {},
   "source": [
    "## saving the model"
   ]
  },
  {
   "cell_type": "code",
   "execution_count": 74,
   "id": "dfd4d96d",
   "metadata": {},
   "outputs": [
    {
     "data": {
      "text/plain": [
       "['Insurance_claim_froud']"
      ]
     },
     "execution_count": 74,
     "metadata": {},
     "output_type": "execute_result"
    }
   ],
   "source": [
    "import joblib\n",
    "joblib.dump(lg,\"Insurance_claim_froud\")"
   ]
  },
  {
   "cell_type": "code",
   "execution_count": null,
   "id": "72ee2202",
   "metadata": {},
   "outputs": [],
   "source": []
  }
 ],
 "metadata": {
  "kernelspec": {
   "display_name": "Python 3",
   "language": "python",
   "name": "python3"
  },
  "language_info": {
   "codemirror_mode": {
    "name": "ipython",
    "version": 3
   },
   "file_extension": ".py",
   "mimetype": "text/x-python",
   "name": "python",
   "nbconvert_exporter": "python",
   "pygments_lexer": "ipython3",
   "version": "3.8.8"
  }
 },
 "nbformat": 4,
 "nbformat_minor": 5
}
