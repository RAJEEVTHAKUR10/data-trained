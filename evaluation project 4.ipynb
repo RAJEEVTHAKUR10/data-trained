{
 "cells": [
  {
   "cell_type": "markdown",
   "id": "7c3dd385",
   "metadata": {},
   "source": [
    "# Global Power Plant Database"
   ]
  },
  {
   "cell_type": "code",
   "execution_count": 1,
   "id": "90ac86a0",
   "metadata": {},
   "outputs": [],
   "source": [
    "import pandas as pd\n",
    "import numpy as np\n",
    "import seaborn as sns\n",
    "import matplotlib.pyplot as plt\n",
    "from sklearn.model_selection import train_test_split\n",
    "from sklearn.metrics import accuracy_score\n",
    "\n",
    "import warnings\n",
    "warnings.filterwarnings('ignore')"
   ]
  },
  {
   "cell_type": "code",
   "execution_count": 2,
   "id": "12275fdc",
   "metadata": {},
   "outputs": [],
   "source": [
    "# show the all rows and columns\n",
    "pd.set_option('display.max_columns',None)\n",
    "pd.set_option('display.max_rows',None)"
   ]
  },
  {
   "cell_type": "code",
   "execution_count": 3,
   "id": "8930f560",
   "metadata": {},
   "outputs": [
    {
     "data": {
      "text/html": [
       "<div>\n",
       "<style scoped>\n",
       "    .dataframe tbody tr th:only-of-type {\n",
       "        vertical-align: middle;\n",
       "    }\n",
       "\n",
       "    .dataframe tbody tr th {\n",
       "        vertical-align: top;\n",
       "    }\n",
       "\n",
       "    .dataframe thead th {\n",
       "        text-align: right;\n",
       "    }\n",
       "</style>\n",
       "<table border=\"1\" class=\"dataframe\">\n",
       "  <thead>\n",
       "    <tr style=\"text-align: right;\">\n",
       "      <th></th>\n",
       "      <th>country</th>\n",
       "      <th>country_long</th>\n",
       "      <th>name</th>\n",
       "      <th>gppd_idnr</th>\n",
       "      <th>capacity_mw</th>\n",
       "      <th>latitude</th>\n",
       "      <th>longitude</th>\n",
       "      <th>primary_fuel</th>\n",
       "      <th>other_fuel1</th>\n",
       "      <th>other_fuel2</th>\n",
       "      <th>other_fuel3</th>\n",
       "      <th>commissioning_year</th>\n",
       "      <th>owner</th>\n",
       "      <th>source</th>\n",
       "      <th>url</th>\n",
       "      <th>geolocation_source</th>\n",
       "      <th>wepp_id</th>\n",
       "      <th>year_of_capacity_data</th>\n",
       "      <th>generation_gwh_2013</th>\n",
       "      <th>generation_gwh_2014</th>\n",
       "      <th>generation_gwh_2015</th>\n",
       "      <th>generation_gwh_2016</th>\n",
       "      <th>generation_gwh_2017</th>\n",
       "      <th>generation_gwh_2018</th>\n",
       "      <th>generation_gwh_2019</th>\n",
       "      <th>generation_data_source</th>\n",
       "      <th>estimated_generation_gwh</th>\n",
       "    </tr>\n",
       "  </thead>\n",
       "  <tbody>\n",
       "    <tr>\n",
       "      <th>0</th>\n",
       "      <td>IND</td>\n",
       "      <td>India</td>\n",
       "      <td>ACME Solar Tower</td>\n",
       "      <td>WRI1020239</td>\n",
       "      <td>2.5</td>\n",
       "      <td>28.1839</td>\n",
       "      <td>73.2407</td>\n",
       "      <td>Solar</td>\n",
       "      <td>NaN</td>\n",
       "      <td>NaN</td>\n",
       "      <td>NaN</td>\n",
       "      <td>2011.0</td>\n",
       "      <td>Solar Paces</td>\n",
       "      <td>National Renewable Energy Laboratory</td>\n",
       "      <td>http://www.nrel.gov/csp/solarpaces/project_det...</td>\n",
       "      <td>National Renewable Energy Laboratory</td>\n",
       "      <td>NaN</td>\n",
       "      <td>NaN</td>\n",
       "      <td>NaN</td>\n",
       "      <td>NaN</td>\n",
       "      <td>NaN</td>\n",
       "      <td>NaN</td>\n",
       "      <td>NaN</td>\n",
       "      <td>NaN</td>\n",
       "      <td>NaN</td>\n",
       "      <td>NaN</td>\n",
       "      <td>NaN</td>\n",
       "    </tr>\n",
       "    <tr>\n",
       "      <th>1</th>\n",
       "      <td>IND</td>\n",
       "      <td>India</td>\n",
       "      <td>ADITYA CEMENT WORKS</td>\n",
       "      <td>WRI1019881</td>\n",
       "      <td>98.0</td>\n",
       "      <td>24.7663</td>\n",
       "      <td>74.6090</td>\n",
       "      <td>Coal</td>\n",
       "      <td>NaN</td>\n",
       "      <td>NaN</td>\n",
       "      <td>NaN</td>\n",
       "      <td>NaN</td>\n",
       "      <td>Ultratech Cement ltd</td>\n",
       "      <td>Ultratech Cement ltd</td>\n",
       "      <td>http://www.ultratechcement.com/</td>\n",
       "      <td>WRI</td>\n",
       "      <td>NaN</td>\n",
       "      <td>NaN</td>\n",
       "      <td>NaN</td>\n",
       "      <td>NaN</td>\n",
       "      <td>NaN</td>\n",
       "      <td>NaN</td>\n",
       "      <td>NaN</td>\n",
       "      <td>NaN</td>\n",
       "      <td>NaN</td>\n",
       "      <td>NaN</td>\n",
       "      <td>NaN</td>\n",
       "    </tr>\n",
       "    <tr>\n",
       "      <th>2</th>\n",
       "      <td>IND</td>\n",
       "      <td>India</td>\n",
       "      <td>AES Saurashtra Windfarms</td>\n",
       "      <td>WRI1026669</td>\n",
       "      <td>39.2</td>\n",
       "      <td>21.9038</td>\n",
       "      <td>69.3732</td>\n",
       "      <td>Wind</td>\n",
       "      <td>NaN</td>\n",
       "      <td>NaN</td>\n",
       "      <td>NaN</td>\n",
       "      <td>NaN</td>\n",
       "      <td>AES</td>\n",
       "      <td>CDM</td>\n",
       "      <td>https://cdm.unfccc.int/Projects/DB/DNV-CUK1328...</td>\n",
       "      <td>WRI</td>\n",
       "      <td>NaN</td>\n",
       "      <td>NaN</td>\n",
       "      <td>NaN</td>\n",
       "      <td>NaN</td>\n",
       "      <td>NaN</td>\n",
       "      <td>NaN</td>\n",
       "      <td>NaN</td>\n",
       "      <td>NaN</td>\n",
       "      <td>NaN</td>\n",
       "      <td>NaN</td>\n",
       "      <td>NaN</td>\n",
       "    </tr>\n",
       "    <tr>\n",
       "      <th>3</th>\n",
       "      <td>IND</td>\n",
       "      <td>India</td>\n",
       "      <td>AGARTALA GT</td>\n",
       "      <td>IND0000001</td>\n",
       "      <td>135.0</td>\n",
       "      <td>23.8712</td>\n",
       "      <td>91.3602</td>\n",
       "      <td>Gas</td>\n",
       "      <td>NaN</td>\n",
       "      <td>NaN</td>\n",
       "      <td>NaN</td>\n",
       "      <td>2004.0</td>\n",
       "      <td>NaN</td>\n",
       "      <td>Central Electricity Authority</td>\n",
       "      <td>http://www.cea.nic.in/</td>\n",
       "      <td>WRI</td>\n",
       "      <td>NaN</td>\n",
       "      <td>2019.0</td>\n",
       "      <td>NaN</td>\n",
       "      <td>617.789264</td>\n",
       "      <td>843.747</td>\n",
       "      <td>886.004428</td>\n",
       "      <td>663.774500</td>\n",
       "      <td>626.239128</td>\n",
       "      <td>NaN</td>\n",
       "      <td>Central Electricity Authority</td>\n",
       "      <td>NaN</td>\n",
       "    </tr>\n",
       "    <tr>\n",
       "      <th>4</th>\n",
       "      <td>IND</td>\n",
       "      <td>India</td>\n",
       "      <td>AKALTARA TPP</td>\n",
       "      <td>IND0000002</td>\n",
       "      <td>1800.0</td>\n",
       "      <td>21.9603</td>\n",
       "      <td>82.4091</td>\n",
       "      <td>Coal</td>\n",
       "      <td>Oil</td>\n",
       "      <td>NaN</td>\n",
       "      <td>NaN</td>\n",
       "      <td>2015.0</td>\n",
       "      <td>NaN</td>\n",
       "      <td>Central Electricity Authority</td>\n",
       "      <td>http://www.cea.nic.in/</td>\n",
       "      <td>WRI</td>\n",
       "      <td>NaN</td>\n",
       "      <td>2019.0</td>\n",
       "      <td>NaN</td>\n",
       "      <td>3035.550000</td>\n",
       "      <td>5916.370</td>\n",
       "      <td>6243.000000</td>\n",
       "      <td>5385.579736</td>\n",
       "      <td>7279.000000</td>\n",
       "      <td>NaN</td>\n",
       "      <td>Central Electricity Authority</td>\n",
       "      <td>NaN</td>\n",
       "    </tr>\n",
       "  </tbody>\n",
       "</table>\n",
       "</div>"
      ],
      "text/plain": [
       "  country country_long                      name   gppd_idnr  capacity_mw  \\\n",
       "0     IND        India          ACME Solar Tower  WRI1020239          2.5   \n",
       "1     IND        India       ADITYA CEMENT WORKS  WRI1019881         98.0   \n",
       "2     IND        India  AES Saurashtra Windfarms  WRI1026669         39.2   \n",
       "3     IND        India               AGARTALA GT  IND0000001        135.0   \n",
       "4     IND        India              AKALTARA TPP  IND0000002       1800.0   \n",
       "\n",
       "   latitude  longitude primary_fuel other_fuel1 other_fuel2  other_fuel3  \\\n",
       "0   28.1839    73.2407        Solar         NaN         NaN          NaN   \n",
       "1   24.7663    74.6090         Coal         NaN         NaN          NaN   \n",
       "2   21.9038    69.3732         Wind         NaN         NaN          NaN   \n",
       "3   23.8712    91.3602          Gas         NaN         NaN          NaN   \n",
       "4   21.9603    82.4091         Coal         Oil         NaN          NaN   \n",
       "\n",
       "   commissioning_year                 owner  \\\n",
       "0              2011.0           Solar Paces   \n",
       "1                 NaN  Ultratech Cement ltd   \n",
       "2                 NaN                   AES   \n",
       "3              2004.0                   NaN   \n",
       "4              2015.0                   NaN   \n",
       "\n",
       "                                 source  \\\n",
       "0  National Renewable Energy Laboratory   \n",
       "1                  Ultratech Cement ltd   \n",
       "2                                   CDM   \n",
       "3         Central Electricity Authority   \n",
       "4         Central Electricity Authority   \n",
       "\n",
       "                                                 url  \\\n",
       "0  http://www.nrel.gov/csp/solarpaces/project_det...   \n",
       "1                    http://www.ultratechcement.com/   \n",
       "2  https://cdm.unfccc.int/Projects/DB/DNV-CUK1328...   \n",
       "3                             http://www.cea.nic.in/   \n",
       "4                             http://www.cea.nic.in/   \n",
       "\n",
       "                     geolocation_source  wepp_id  year_of_capacity_data  \\\n",
       "0  National Renewable Energy Laboratory      NaN                    NaN   \n",
       "1                                   WRI      NaN                    NaN   \n",
       "2                                   WRI      NaN                    NaN   \n",
       "3                                   WRI      NaN                 2019.0   \n",
       "4                                   WRI      NaN                 2019.0   \n",
       "\n",
       "   generation_gwh_2013  generation_gwh_2014  generation_gwh_2015  \\\n",
       "0                  NaN                  NaN                  NaN   \n",
       "1                  NaN                  NaN                  NaN   \n",
       "2                  NaN                  NaN                  NaN   \n",
       "3                  NaN           617.789264              843.747   \n",
       "4                  NaN          3035.550000             5916.370   \n",
       "\n",
       "   generation_gwh_2016  generation_gwh_2017  generation_gwh_2018  \\\n",
       "0                  NaN                  NaN                  NaN   \n",
       "1                  NaN                  NaN                  NaN   \n",
       "2                  NaN                  NaN                  NaN   \n",
       "3           886.004428           663.774500           626.239128   \n",
       "4          6243.000000          5385.579736          7279.000000   \n",
       "\n",
       "   generation_gwh_2019         generation_data_source  \\\n",
       "0                  NaN                            NaN   \n",
       "1                  NaN                            NaN   \n",
       "2                  NaN                            NaN   \n",
       "3                  NaN  Central Electricity Authority   \n",
       "4                  NaN  Central Electricity Authority   \n",
       "\n",
       "   estimated_generation_gwh  \n",
       "0                       NaN  \n",
       "1                       NaN  \n",
       "2                       NaN  \n",
       "3                       NaN  \n",
       "4                       NaN  "
      ]
     },
     "execution_count": 3,
     "metadata": {},
     "output_type": "execute_result"
    }
   ],
   "source": [
    "# load the dataset\n",
    "df = pd.read_csv('Global Power Plant Database.csv')\n",
    "df.head()"
   ]
  },
  {
   "cell_type": "code",
   "execution_count": 4,
   "id": "d4e1a66e",
   "metadata": {},
   "outputs": [
    {
     "data": {
      "text/plain": [
       "(907, 27)"
      ]
     },
     "execution_count": 4,
     "metadata": {},
     "output_type": "execute_result"
    }
   ],
   "source": [
    "# rows and columns\n",
    "df.shape"
   ]
  },
  {
   "cell_type": "code",
   "execution_count": 5,
   "id": "1363234d",
   "metadata": {},
   "outputs": [
    {
     "data": {
      "text/plain": [
       "country                       0\n",
       "country_long                  0\n",
       "name                          0\n",
       "gppd_idnr                     0\n",
       "capacity_mw                   0\n",
       "latitude                     46\n",
       "longitude                    46\n",
       "primary_fuel                  0\n",
       "other_fuel1                 709\n",
       "other_fuel2                 906\n",
       "other_fuel3                 907\n",
       "commissioning_year          380\n",
       "owner                       565\n",
       "source                        0\n",
       "url                           0\n",
       "geolocation_source           19\n",
       "wepp_id                     907\n",
       "year_of_capacity_data       388\n",
       "generation_gwh_2013         907\n",
       "generation_gwh_2014         509\n",
       "generation_gwh_2015         485\n",
       "generation_gwh_2016         473\n",
       "generation_gwh_2017         467\n",
       "generation_gwh_2018         459\n",
       "generation_gwh_2019         907\n",
       "generation_data_source      458\n",
       "estimated_generation_gwh    907\n",
       "dtype: int64"
      ]
     },
     "execution_count": 5,
     "metadata": {},
     "output_type": "execute_result"
    }
   ],
   "source": [
    "# checking the null values\n",
    "df.isnull().sum()"
   ]
  },
  {
   "cell_type": "code",
   "execution_count": 6,
   "id": "c147ec40",
   "metadata": {},
   "outputs": [],
   "source": [
    "# drop unnecessary data\n",
    "data = df.drop(['country','wepp_id','url','country_long','geolocation_source','name','gppd_idnr','other_fuel2','other_fuel3','generation_gwh_2013','generation_gwh_2019','estimated_generation_gwh'],axis = 1)"
   ]
  },
  {
   "cell_type": "code",
   "execution_count": 7,
   "id": "9c356ddf",
   "metadata": {},
   "outputs": [],
   "source": [
    "from sklearn.preprocessing import OrdinalEncoder,LabelEncoder\n",
    "enc = OrdinalEncoder()\n",
    "le =LabelEncoder()"
   ]
  },
  {
   "cell_type": "code",
   "execution_count": 8,
   "id": "1da083c9",
   "metadata": {},
   "outputs": [],
   "source": [
    "for i in data.columns:\n",
    "    if data[i].dtypes == \"object\":\n",
    "        data[i]=enc.fit_transform(df[i].values.reshape(-1,1))\n",
    "        data[i]=le.fit_transform(df[i].values.reshape(-1,1))"
   ]
  },
  {
   "cell_type": "code",
   "execution_count": 9,
   "id": "39cd235e",
   "metadata": {},
   "outputs": [
    {
     "data": {
      "text/html": [
       "<div>\n",
       "<style scoped>\n",
       "    .dataframe tbody tr th:only-of-type {\n",
       "        vertical-align: middle;\n",
       "    }\n",
       "\n",
       "    .dataframe tbody tr th {\n",
       "        vertical-align: top;\n",
       "    }\n",
       "\n",
       "    .dataframe thead th {\n",
       "        text-align: right;\n",
       "    }\n",
       "</style>\n",
       "<table border=\"1\" class=\"dataframe\">\n",
       "  <thead>\n",
       "    <tr style=\"text-align: right;\">\n",
       "      <th></th>\n",
       "      <th>capacity_mw</th>\n",
       "      <th>latitude</th>\n",
       "      <th>longitude</th>\n",
       "      <th>primary_fuel</th>\n",
       "      <th>other_fuel1</th>\n",
       "      <th>commissioning_year</th>\n",
       "      <th>owner</th>\n",
       "      <th>source</th>\n",
       "      <th>year_of_capacity_data</th>\n",
       "      <th>generation_gwh_2014</th>\n",
       "      <th>generation_gwh_2015</th>\n",
       "      <th>generation_gwh_2016</th>\n",
       "      <th>generation_gwh_2017</th>\n",
       "      <th>generation_gwh_2018</th>\n",
       "      <th>generation_data_source</th>\n",
       "    </tr>\n",
       "  </thead>\n",
       "  <tbody>\n",
       "    <tr>\n",
       "      <th>902</th>\n",
       "      <td>1600.0</td>\n",
       "      <td>16.2949</td>\n",
       "      <td>77.3568</td>\n",
       "      <td>1</td>\n",
       "      <td>2</td>\n",
       "      <td>2016.0</td>\n",
       "      <td>280</td>\n",
       "      <td>22</td>\n",
       "      <td>2019.0</td>\n",
       "      <td>NaN</td>\n",
       "      <td>0.994875</td>\n",
       "      <td>233.59665</td>\n",
       "      <td>865.4</td>\n",
       "      <td>686.5</td>\n",
       "      <td>0</td>\n",
       "    </tr>\n",
       "    <tr>\n",
       "      <th>903</th>\n",
       "      <td>3.0</td>\n",
       "      <td>12.8932</td>\n",
       "      <td>78.1654</td>\n",
       "      <td>6</td>\n",
       "      <td>3</td>\n",
       "      <td>NaN</td>\n",
       "      <td>114</td>\n",
       "      <td>77</td>\n",
       "      <td>NaN</td>\n",
       "      <td>NaN</td>\n",
       "      <td>NaN</td>\n",
       "      <td>NaN</td>\n",
       "      <td>NaN</td>\n",
       "      <td>NaN</td>\n",
       "      <td>1</td>\n",
       "    </tr>\n",
       "    <tr>\n",
       "      <th>904</th>\n",
       "      <td>25.5</td>\n",
       "      <td>15.2758</td>\n",
       "      <td>75.5811</td>\n",
       "      <td>7</td>\n",
       "      <td>3</td>\n",
       "      <td>NaN</td>\n",
       "      <td>280</td>\n",
       "      <td>21</td>\n",
       "      <td>NaN</td>\n",
       "      <td>NaN</td>\n",
       "      <td>NaN</td>\n",
       "      <td>NaN</td>\n",
       "      <td>NaN</td>\n",
       "      <td>NaN</td>\n",
       "      <td>1</td>\n",
       "    </tr>\n",
       "    <tr>\n",
       "      <th>905</th>\n",
       "      <td>80.0</td>\n",
       "      <td>24.3500</td>\n",
       "      <td>73.7477</td>\n",
       "      <td>1</td>\n",
       "      <td>3</td>\n",
       "      <td>NaN</td>\n",
       "      <td>91</td>\n",
       "      <td>59</td>\n",
       "      <td>NaN</td>\n",
       "      <td>NaN</td>\n",
       "      <td>NaN</td>\n",
       "      <td>NaN</td>\n",
       "      <td>NaN</td>\n",
       "      <td>NaN</td>\n",
       "      <td>1</td>\n",
       "    </tr>\n",
       "    <tr>\n",
       "      <th>906</th>\n",
       "      <td>16.5</td>\n",
       "      <td>9.9344</td>\n",
       "      <td>77.4768</td>\n",
       "      <td>7</td>\n",
       "      <td>3</td>\n",
       "      <td>NaN</td>\n",
       "      <td>279</td>\n",
       "      <td>21</td>\n",
       "      <td>NaN</td>\n",
       "      <td>NaN</td>\n",
       "      <td>NaN</td>\n",
       "      <td>NaN</td>\n",
       "      <td>NaN</td>\n",
       "      <td>NaN</td>\n",
       "      <td>1</td>\n",
       "    </tr>\n",
       "  </tbody>\n",
       "</table>\n",
       "</div>"
      ],
      "text/plain": [
       "     capacity_mw  latitude  longitude  primary_fuel  other_fuel1  \\\n",
       "902       1600.0   16.2949    77.3568             1            2   \n",
       "903          3.0   12.8932    78.1654             6            3   \n",
       "904         25.5   15.2758    75.5811             7            3   \n",
       "905         80.0   24.3500    73.7477             1            3   \n",
       "906         16.5    9.9344    77.4768             7            3   \n",
       "\n",
       "     commissioning_year  owner  source  year_of_capacity_data  \\\n",
       "902              2016.0    280      22                 2019.0   \n",
       "903                 NaN    114      77                    NaN   \n",
       "904                 NaN    280      21                    NaN   \n",
       "905                 NaN     91      59                    NaN   \n",
       "906                 NaN    279      21                    NaN   \n",
       "\n",
       "     generation_gwh_2014  generation_gwh_2015  generation_gwh_2016  \\\n",
       "902                  NaN             0.994875            233.59665   \n",
       "903                  NaN                  NaN                  NaN   \n",
       "904                  NaN                  NaN                  NaN   \n",
       "905                  NaN                  NaN                  NaN   \n",
       "906                  NaN                  NaN                  NaN   \n",
       "\n",
       "     generation_gwh_2017  generation_gwh_2018  generation_data_source  \n",
       "902                865.4                686.5                       0  \n",
       "903                  NaN                  NaN                       1  \n",
       "904                  NaN                  NaN                       1  \n",
       "905                  NaN                  NaN                       1  \n",
       "906                  NaN                  NaN                       1  "
      ]
     },
     "execution_count": 9,
     "metadata": {},
     "output_type": "execute_result"
    }
   ],
   "source": [
    "data.tail()"
   ]
  },
  {
   "cell_type": "code",
   "execution_count": 10,
   "id": "3fe8850e",
   "metadata": {},
   "outputs": [],
   "source": [
    "# fill the null values\n",
    "from sklearn.impute import SimpleImputer\n",
    "im = SimpleImputer(missing_values=np.nan, strategy='mean')\n",
    "\n",
    "data['latitude'] = im.fit_transform(data['latitude'].values.reshape(-1,1))\n",
    "data['longitude'] = im.fit_transform(data['longitude'].values.reshape(-1,1))\n",
    "\n",
    "\n",
    "\n",
    "\n",
    "imp = SimpleImputer(missing_values=np.nan, strategy='most_frequent')\n",
    "data['owner']=imp.fit_transform(data['owner'].values.reshape(-1,1))\n",
    "data['other_fuel1'] = imp.fit_transform(data['other_fuel1'].values.reshape(-1,1))\n",
    "data['year_of_capacity_data']=imp.fit_transform(data['year_of_capacity_data'].values.reshape(-1,1))\n",
    "data['commissioning_year']= imp.fit_transform(data['commissioning_year'].values.reshape(-1,1))\n",
    "data['generation_gwh_2014']=imp.fit_transform(data['generation_gwh_2014'].values.reshape(-1,1))\n",
    "data['generation_gwh_2015']=imp.fit_transform(data['generation_gwh_2015'].values.reshape(-1,1))\n",
    "data['generation_gwh_2016']=imp.fit_transform(data['generation_gwh_2016'].values.reshape(-1,1))\n",
    "data['generation_gwh_2017']=imp.fit_transform(data['generation_gwh_2017'].values.reshape(-1,1))\n",
    "data['generation_gwh_2018']=imp.fit_transform(data['generation_gwh_2018'].values.reshape(-1,1))\n",
    "data['generation_data_source']=imp.fit_transform(data['generation_data_source'].values.reshape(-1,1))"
   ]
  },
  {
   "cell_type": "code",
   "execution_count": 11,
   "id": "ba45550f",
   "metadata": {},
   "outputs": [
    {
     "data": {
      "text/html": [
       "<div>\n",
       "<style scoped>\n",
       "    .dataframe tbody tr th:only-of-type {\n",
       "        vertical-align: middle;\n",
       "    }\n",
       "\n",
       "    .dataframe tbody tr th {\n",
       "        vertical-align: top;\n",
       "    }\n",
       "\n",
       "    .dataframe thead th {\n",
       "        text-align: right;\n",
       "    }\n",
       "</style>\n",
       "<table border=\"1\" class=\"dataframe\">\n",
       "  <thead>\n",
       "    <tr style=\"text-align: right;\">\n",
       "      <th></th>\n",
       "      <th>capacity_mw</th>\n",
       "      <th>latitude</th>\n",
       "      <th>longitude</th>\n",
       "      <th>primary_fuel</th>\n",
       "      <th>other_fuel1</th>\n",
       "      <th>commissioning_year</th>\n",
       "      <th>owner</th>\n",
       "      <th>source</th>\n",
       "      <th>year_of_capacity_data</th>\n",
       "      <th>generation_gwh_2014</th>\n",
       "      <th>generation_gwh_2015</th>\n",
       "      <th>generation_gwh_2016</th>\n",
       "      <th>generation_gwh_2017</th>\n",
       "      <th>generation_gwh_2018</th>\n",
       "      <th>generation_data_source</th>\n",
       "    </tr>\n",
       "  </thead>\n",
       "  <tbody>\n",
       "    <tr>\n",
       "      <th>0</th>\n",
       "      <td>2.5</td>\n",
       "      <td>28.1839</td>\n",
       "      <td>73.2407</td>\n",
       "      <td>6</td>\n",
       "      <td>3</td>\n",
       "      <td>2011.0</td>\n",
       "      <td>229</td>\n",
       "      <td>109</td>\n",
       "      <td>2019.0</td>\n",
       "      <td>0.000000</td>\n",
       "      <td>0.0000</td>\n",
       "      <td>0.000000</td>\n",
       "      <td>0.000000</td>\n",
       "      <td>0.000000</td>\n",
       "      <td>1</td>\n",
       "    </tr>\n",
       "    <tr>\n",
       "      <th>1</th>\n",
       "      <td>98.0</td>\n",
       "      <td>24.7663</td>\n",
       "      <td>74.6090</td>\n",
       "      <td>1</td>\n",
       "      <td>3</td>\n",
       "      <td>2015.0</td>\n",
       "      <td>258</td>\n",
       "      <td>174</td>\n",
       "      <td>2019.0</td>\n",
       "      <td>0.000000</td>\n",
       "      <td>0.0000</td>\n",
       "      <td>0.000000</td>\n",
       "      <td>0.000000</td>\n",
       "      <td>0.000000</td>\n",
       "      <td>1</td>\n",
       "    </tr>\n",
       "    <tr>\n",
       "      <th>2</th>\n",
       "      <td>39.2</td>\n",
       "      <td>21.9038</td>\n",
       "      <td>69.3732</td>\n",
       "      <td>7</td>\n",
       "      <td>3</td>\n",
       "      <td>2015.0</td>\n",
       "      <td>2</td>\n",
       "      <td>21</td>\n",
       "      <td>2019.0</td>\n",
       "      <td>0.000000</td>\n",
       "      <td>0.0000</td>\n",
       "      <td>0.000000</td>\n",
       "      <td>0.000000</td>\n",
       "      <td>0.000000</td>\n",
       "      <td>1</td>\n",
       "    </tr>\n",
       "    <tr>\n",
       "      <th>3</th>\n",
       "      <td>135.0</td>\n",
       "      <td>23.8712</td>\n",
       "      <td>91.3602</td>\n",
       "      <td>2</td>\n",
       "      <td>3</td>\n",
       "      <td>2004.0</td>\n",
       "      <td>280</td>\n",
       "      <td>22</td>\n",
       "      <td>2019.0</td>\n",
       "      <td>617.789264</td>\n",
       "      <td>843.7470</td>\n",
       "      <td>886.004428</td>\n",
       "      <td>663.774500</td>\n",
       "      <td>626.239128</td>\n",
       "      <td>0</td>\n",
       "    </tr>\n",
       "    <tr>\n",
       "      <th>4</th>\n",
       "      <td>1800.0</td>\n",
       "      <td>21.9603</td>\n",
       "      <td>82.4091</td>\n",
       "      <td>1</td>\n",
       "      <td>2</td>\n",
       "      <td>2015.0</td>\n",
       "      <td>280</td>\n",
       "      <td>22</td>\n",
       "      <td>2019.0</td>\n",
       "      <td>3035.550000</td>\n",
       "      <td>5916.3700</td>\n",
       "      <td>6243.000000</td>\n",
       "      <td>5385.579736</td>\n",
       "      <td>7279.000000</td>\n",
       "      <td>0</td>\n",
       "    </tr>\n",
       "    <tr>\n",
       "      <th>5</th>\n",
       "      <td>250.0</td>\n",
       "      <td>23.7689</td>\n",
       "      <td>68.6447</td>\n",
       "      <td>1</td>\n",
       "      <td>2</td>\n",
       "      <td>2005.0</td>\n",
       "      <td>280</td>\n",
       "      <td>22</td>\n",
       "      <td>2019.0</td>\n",
       "      <td>1153.421000</td>\n",
       "      <td>1208.8520</td>\n",
       "      <td>1175.765000</td>\n",
       "      <td>1147.913000</td>\n",
       "      <td>976.655000</td>\n",
       "      <td>0</td>\n",
       "    </tr>\n",
       "    <tr>\n",
       "      <th>6</th>\n",
       "      <td>60.0</td>\n",
       "      <td>10.4547</td>\n",
       "      <td>77.0078</td>\n",
       "      <td>3</td>\n",
       "      <td>3</td>\n",
       "      <td>1970.0</td>\n",
       "      <td>280</td>\n",
       "      <td>22</td>\n",
       "      <td>2019.0</td>\n",
       "      <td>157.558250</td>\n",
       "      <td>152.1952</td>\n",
       "      <td>61.421350</td>\n",
       "      <td>89.629600</td>\n",
       "      <td>48.327150</td>\n",
       "      <td>0</td>\n",
       "    </tr>\n",
       "    <tr>\n",
       "      <th>7</th>\n",
       "      <td>192.0</td>\n",
       "      <td>32.2258</td>\n",
       "      <td>77.2070</td>\n",
       "      <td>3</td>\n",
       "      <td>3</td>\n",
       "      <td>2010.0</td>\n",
       "      <td>280</td>\n",
       "      <td>22</td>\n",
       "      <td>2019.0</td>\n",
       "      <td>674.391100</td>\n",
       "      <td>721.3352</td>\n",
       "      <td>675.724400</td>\n",
       "      <td>679.594950</td>\n",
       "      <td>579.318850</td>\n",
       "      <td>0</td>\n",
       "    </tr>\n",
       "    <tr>\n",
       "      <th>8</th>\n",
       "      <td>290.0</td>\n",
       "      <td>16.3300</td>\n",
       "      <td>75.8863</td>\n",
       "      <td>3</td>\n",
       "      <td>3</td>\n",
       "      <td>2004.0</td>\n",
       "      <td>280</td>\n",
       "      <td>22</td>\n",
       "      <td>2019.0</td>\n",
       "      <td>480.594950</td>\n",
       "      <td>144.4342</td>\n",
       "      <td>402.029750</td>\n",
       "      <td>439.372100</td>\n",
       "      <td>406.377900</td>\n",
       "      <td>0</td>\n",
       "    </tr>\n",
       "    <tr>\n",
       "      <th>9</th>\n",
       "      <td>210.0</td>\n",
       "      <td>23.1642</td>\n",
       "      <td>81.6373</td>\n",
       "      <td>1</td>\n",
       "      <td>2</td>\n",
       "      <td>2008.0</td>\n",
       "      <td>280</td>\n",
       "      <td>22</td>\n",
       "      <td>2019.0</td>\n",
       "      <td>1887.904000</td>\n",
       "      <td>1643.0460</td>\n",
       "      <td>1338.093000</td>\n",
       "      <td>1563.457000</td>\n",
       "      <td>1487.880000</td>\n",
       "      <td>0</td>\n",
       "    </tr>\n",
       "  </tbody>\n",
       "</table>\n",
       "</div>"
      ],
      "text/plain": [
       "   capacity_mw  latitude  longitude  primary_fuel  other_fuel1  \\\n",
       "0          2.5   28.1839    73.2407             6            3   \n",
       "1         98.0   24.7663    74.6090             1            3   \n",
       "2         39.2   21.9038    69.3732             7            3   \n",
       "3        135.0   23.8712    91.3602             2            3   \n",
       "4       1800.0   21.9603    82.4091             1            2   \n",
       "5        250.0   23.7689    68.6447             1            2   \n",
       "6         60.0   10.4547    77.0078             3            3   \n",
       "7        192.0   32.2258    77.2070             3            3   \n",
       "8        290.0   16.3300    75.8863             3            3   \n",
       "9        210.0   23.1642    81.6373             1            2   \n",
       "\n",
       "   commissioning_year  owner  source  year_of_capacity_data  \\\n",
       "0              2011.0    229     109                 2019.0   \n",
       "1              2015.0    258     174                 2019.0   \n",
       "2              2015.0      2      21                 2019.0   \n",
       "3              2004.0    280      22                 2019.0   \n",
       "4              2015.0    280      22                 2019.0   \n",
       "5              2005.0    280      22                 2019.0   \n",
       "6              1970.0    280      22                 2019.0   \n",
       "7              2010.0    280      22                 2019.0   \n",
       "8              2004.0    280      22                 2019.0   \n",
       "9              2008.0    280      22                 2019.0   \n",
       "\n",
       "   generation_gwh_2014  generation_gwh_2015  generation_gwh_2016  \\\n",
       "0             0.000000               0.0000             0.000000   \n",
       "1             0.000000               0.0000             0.000000   \n",
       "2             0.000000               0.0000             0.000000   \n",
       "3           617.789264             843.7470           886.004428   \n",
       "4          3035.550000            5916.3700          6243.000000   \n",
       "5          1153.421000            1208.8520          1175.765000   \n",
       "6           157.558250             152.1952            61.421350   \n",
       "7           674.391100             721.3352           675.724400   \n",
       "8           480.594950             144.4342           402.029750   \n",
       "9          1887.904000            1643.0460          1338.093000   \n",
       "\n",
       "   generation_gwh_2017  generation_gwh_2018  generation_data_source  \n",
       "0             0.000000             0.000000                       1  \n",
       "1             0.000000             0.000000                       1  \n",
       "2             0.000000             0.000000                       1  \n",
       "3           663.774500           626.239128                       0  \n",
       "4          5385.579736          7279.000000                       0  \n",
       "5          1147.913000           976.655000                       0  \n",
       "6            89.629600            48.327150                       0  \n",
       "7           679.594950           579.318850                       0  \n",
       "8           439.372100           406.377900                       0  \n",
       "9          1563.457000          1487.880000                       0  "
      ]
     },
     "execution_count": 11,
     "metadata": {},
     "output_type": "execute_result"
    }
   ],
   "source": [
    "data.head(10)"
   ]
  },
  {
   "cell_type": "code",
   "execution_count": 12,
   "id": "2aca9e00",
   "metadata": {},
   "outputs": [
    {
     "data": {
      "text/plain": [
       "Index(['capacity_mw', 'latitude', 'longitude', 'primary_fuel', 'other_fuel1',\n",
       "       'commissioning_year', 'owner', 'source', 'year_of_capacity_data',\n",
       "       'generation_gwh_2014', 'generation_gwh_2015', 'generation_gwh_2016',\n",
       "       'generation_gwh_2017', 'generation_gwh_2018', 'generation_data_source'],\n",
       "      dtype='object')"
      ]
     },
     "execution_count": 12,
     "metadata": {},
     "output_type": "execute_result"
    }
   ],
   "source": [
    "# check columns\n",
    "data.columns"
   ]
  },
  {
   "cell_type": "code",
   "execution_count": 13,
   "id": "25c68dc6",
   "metadata": {},
   "outputs": [
    {
     "name": "stdout",
     "output_type": "stream",
     "text": [
      "<class 'pandas.core.frame.DataFrame'>\n",
      "RangeIndex: 907 entries, 0 to 906\n",
      "Data columns (total 15 columns):\n",
      " #   Column                  Non-Null Count  Dtype  \n",
      "---  ------                  --------------  -----  \n",
      " 0   capacity_mw             907 non-null    float64\n",
      " 1   latitude                907 non-null    float64\n",
      " 2   longitude               907 non-null    float64\n",
      " 3   primary_fuel            907 non-null    int32  \n",
      " 4   other_fuel1             907 non-null    int32  \n",
      " 5   commissioning_year      907 non-null    float64\n",
      " 6   owner                   907 non-null    int32  \n",
      " 7   source                  907 non-null    int32  \n",
      " 8   year_of_capacity_data   907 non-null    float64\n",
      " 9   generation_gwh_2014     907 non-null    float64\n",
      " 10  generation_gwh_2015     907 non-null    float64\n",
      " 11  generation_gwh_2016     907 non-null    float64\n",
      " 12  generation_gwh_2017     907 non-null    float64\n",
      " 13  generation_gwh_2018     907 non-null    float64\n",
      " 14  generation_data_source  907 non-null    int32  \n",
      "dtypes: float64(10), int32(5)\n",
      "memory usage: 88.7 KB\n"
     ]
    }
   ],
   "source": [
    "# data information\n",
    "data.info()"
   ]
  },
  {
   "cell_type": "code",
   "execution_count": 14,
   "id": "f9c51a12",
   "metadata": {
    "scrolled": true
   },
   "outputs": [
    {
     "data": {
      "text/plain": [
       "capacity_mw               0\n",
       "latitude                  0\n",
       "longitude                 0\n",
       "primary_fuel              0\n",
       "other_fuel1               0\n",
       "commissioning_year        0\n",
       "owner                     0\n",
       "source                    0\n",
       "year_of_capacity_data     0\n",
       "generation_gwh_2014       0\n",
       "generation_gwh_2015       0\n",
       "generation_gwh_2016       0\n",
       "generation_gwh_2017       0\n",
       "generation_gwh_2018       0\n",
       "generation_data_source    0\n",
       "dtype: int64"
      ]
     },
     "execution_count": 14,
     "metadata": {},
     "output_type": "execute_result"
    }
   ],
   "source": [
    "data.isnull().sum()"
   ]
  },
  {
   "cell_type": "code",
   "execution_count": 15,
   "id": "5a7b9c96",
   "metadata": {},
   "outputs": [
    {
     "data": {
      "text/plain": [
       "<AxesSubplot:>"
      ]
     },
     "execution_count": 15,
     "metadata": {},
     "output_type": "execute_result"
    },
    {
     "data": {
      "image/png": "[encoded data removed]",
      "text/plain": [
       "<Figure size 432x288 with 1 Axes>"
      ]
     },
     "metadata": {
      "needs_background": "light"
     },
     "output_type": "display_data"
    }
   ],
   "source": [
    "data['capacity_mw'].plot.box()"
   ]
  },
  {
   "cell_type": "code",
   "execution_count": 16,
   "id": "d614d510",
   "metadata": {},
   "outputs": [
    {
     "data": {
      "text/plain": [
       "<AxesSubplot:>"
      ]
     },
     "execution_count": 16,
     "metadata": {},
     "output_type": "execute_result"
    },
    {
     "data": {
      "image/png": "[encoded data removed]",
      "text/plain": [
       "<Figure size 432x288 with 1 Axes>"
      ]
     },
     "metadata": {
      "needs_background": "light"
     },
     "output_type": "display_data"
    }
   ],
   "source": [
    "data['primary_fuel'].plot.box()"
   ]
  },
  {
   "cell_type": "code",
   "execution_count": 17,
   "id": "904043ce",
   "metadata": {},
   "outputs": [
    {
     "data": {
      "text/plain": [
       "<AxesSubplot:>"
      ]
     },
     "execution_count": 17,
     "metadata": {},
     "output_type": "execute_result"
    },
    {
     "data": {
      "image/png": "[encoded data removed]",
      "text/plain": [
       "<Figure size 432x288 with 1 Axes>"
      ]
     },
     "metadata": {
      "needs_background": "light"
     },
     "output_type": "display_data"
    }
   ],
   "source": [
    "data['latitude'].plot.box()"
   ]
  },
  {
   "cell_type": "code",
   "execution_count": 18,
   "id": "d2ed0f55",
   "metadata": {},
   "outputs": [
    {
     "data": {
      "text/plain": [
       "<AxesSubplot:>"
      ]
     },
     "execution_count": 18,
     "metadata": {},
     "output_type": "execute_result"
    },
    {
     "data": {
      "image/png": "[encoded data removed]",
      "text/plain": [
       "<Figure size 432x288 with 1 Axes>"
      ]
     },
     "metadata": {
      "needs_background": "light"
     },
     "output_type": "display_data"
    }
   ],
   "source": [
    "data['longitude'].plot.box()"
   ]
  },
  {
   "cell_type": "code",
   "execution_count": 19,
   "id": "00b0ff08",
   "metadata": {},
   "outputs": [
    {
     "data": {
      "text/plain": [
       "<AxesSubplot:>"
      ]
     },
     "execution_count": 19,
     "metadata": {},
     "output_type": "execute_result"
    },
    {
     "data": {
      "image/png": "[encoded data removed]",
      "text/plain": [
       "<Figure size 432x288 with 1 Axes>"
      ]
     },
     "metadata": {
      "needs_background": "light"
     },
     "output_type": "display_data"
    }
   ],
   "source": [
    "data['other_fuel1'].plot.box()"
   ]
  },
  {
   "cell_type": "code",
   "execution_count": 20,
   "id": "0728ca6c",
   "metadata": {},
   "outputs": [
    {
     "data": {
      "text/plain": [
       "<AxesSubplot:>"
      ]
     },
     "execution_count": 20,
     "metadata": {},
     "output_type": "execute_result"
    },
    {
     "data": {
      "image/png": "[encoded data removed]",
      "text/plain": [
       "<Figure size 432x288 with 1 Axes>"
      ]
     },
     "metadata": {
      "needs_background": "light"
     },
     "output_type": "display_data"
    }
   ],
   "source": [
    "data['commissioning_year'].plot.box()"
   ]
  },
  {
   "cell_type": "code",
   "execution_count": 21,
   "id": "0bd36776",
   "metadata": {},
   "outputs": [
    {
     "data": {
      "text/plain": [
       "<AxesSubplot:>"
      ]
     },
     "execution_count": 21,
     "metadata": {},
     "output_type": "execute_result"
    },
    {
     "data": {
      "image/png": "[encoded data removed]",
      "text/plain": [
       "<Figure size 432x288 with 1 Axes>"
      ]
     },
     "metadata": {
      "needs_background": "light"
     },
     "output_type": "display_data"
    }
   ],
   "source": [
    "data['owner'].plot.box()"
   ]
  },
  {
   "cell_type": "code",
   "execution_count": 22,
   "id": "51e0f72e",
   "metadata": {},
   "outputs": [
    {
     "data": {
      "text/plain": [
       "<AxesSubplot:>"
      ]
     },
     "execution_count": 22,
     "metadata": {},
     "output_type": "execute_result"
    },
    {
     "data": {
      "image/png": "[encoded data removed]",
      "text/plain": [
       "<Figure size 432x288 with 1 Axes>"
      ]
     },
     "metadata": {
      "needs_background": "light"
     },
     "output_type": "display_data"
    }
   ],
   "source": [
    "data['source'].plot.box()"
   ]
  },
  {
   "cell_type": "code",
   "execution_count": 23,
   "id": "ae548197",
   "metadata": {},
   "outputs": [
    {
     "data": {
      "text/plain": [
       "<AxesSubplot:>"
      ]
     },
     "execution_count": 23,
     "metadata": {},
     "output_type": "execute_result"
    },
    {
     "data": {
      "image/png": "[encoded data removed]",
      "text/plain": [
       "<Figure size 432x288 with 1 Axes>"
      ]
     },
     "metadata": {
      "needs_background": "light"
     },
     "output_type": "display_data"
    }
   ],
   "source": [
    "data['year_of_capacity_data'].plot.box()"
   ]
  },
  {
   "cell_type": "code",
   "execution_count": 24,
   "id": "37b813be",
   "metadata": {},
   "outputs": [
    {
     "data": {
      "text/plain": [
       "<AxesSubplot:>"
      ]
     },
     "execution_count": 24,
     "metadata": {},
     "output_type": "execute_result"
    },
    {
     "data": {
      "image/png": "[encoded data removed]",
      "text/plain": [
       "<Figure size 432x288 with 1 Axes>"
      ]
     },
     "metadata": {
      "needs_background": "light"
     },
     "output_type": "display_data"
    }
   ],
   "source": [
    "data['generation_gwh_2018'].plot.box()"
   ]
  },
  {
   "cell_type": "code",
   "execution_count": 25,
   "id": "e0e03785",
   "metadata": {},
   "outputs": [
    {
     "data": {
      "text/plain": [
       "<AxesSubplot:>"
      ]
     },
     "execution_count": 25,
     "metadata": {},
     "output_type": "execute_result"
    },
    {
     "data": {
      "image/png": "[encoded data removed]",
      "text/plain": [
       "<Figure size 432x288 with 1 Axes>"
      ]
     },
     "metadata": {
      "needs_background": "light"
     },
     "output_type": "display_data"
    }
   ],
   "source": [
    "data['generation_data_source'].plot.box()"
   ]
  },
  {
   "cell_type": "markdown",
   "id": "97478d5b",
   "metadata": {},
   "source": [
    "# scatterplot"
   ]
  },
  {
   "cell_type": "code",
   "execution_count": 26,
   "id": "b782ad10",
   "metadata": {},
   "outputs": [
    {
     "data": {
      "text/plain": [
       "<AxesSubplot:xlabel='commissioning_year', ylabel='owner'>"
      ]
     },
     "execution_count": 26,
     "metadata": {},
     "output_type": "execute_result"
    },
    {
     "data": {
      "image/png": "[encoded data removed]",
      "text/plain": [
       "<Figure size 432x288 with 1 Axes>"
      ]
     },
     "metadata": {
      "needs_background": "light"
     },
     "output_type": "display_data"
    }
   ],
   "source": [
    "sns.scatterplot(x=\"commissioning_year\", y=\"owner\", data=data)"
   ]
  },
  {
   "cell_type": "code",
   "execution_count": 27,
   "id": "8ef2fe8f",
   "metadata": {},
   "outputs": [
    {
     "data": {
      "text/plain": [
       "<AxesSubplot:xlabel='capacity_mw', ylabel='primary_fuel'>"
      ]
     },
     "execution_count": 27,
     "metadata": {},
     "output_type": "execute_result"
    },
    {
     "data": {
      "image/png": "[encoded data removed]",
      "text/plain": [
       "<Figure size 432x288 with 1 Axes>"
      ]
     },
     "metadata": {
      "needs_background": "light"
     },
     "output_type": "display_data"
    }
   ],
   "source": [
    "sns.scatterplot(x=\"capacity_mw\", y=\"primary_fuel\", data=data)"
   ]
  },
  {
   "cell_type": "code",
   "execution_count": 28,
   "id": "b587244d",
   "metadata": {},
   "outputs": [
    {
     "data": {
      "text/plain": [
       "<AxesSubplot:xlabel='latitude', ylabel='longitude'>"
      ]
     },
     "execution_count": 28,
     "metadata": {},
     "output_type": "execute_result"
    },
    {
     "data": {
      "image/png": "[encoded data removed]",
      "text/plain": [
       "<Figure size 432x288 with 1 Axes>"
      ]
     },
     "metadata": {
      "needs_background": "light"
     },
     "output_type": "display_data"
    }
   ],
   "source": [
    "sns.scatterplot(x=\"latitude\", y=\"longitude\", data=data)"
   ]
  },
  {
   "cell_type": "code",
   "execution_count": 29,
   "id": "adc596dc",
   "metadata": {},
   "outputs": [
    {
     "data": {
      "text/plain": [
       "<AxesSubplot:xlabel='year_of_capacity_data', ylabel='source'>"
      ]
     },
     "execution_count": 29,
     "metadata": {},
     "output_type": "execute_result"
    },
    {
     "data": {
      "image/png": "[encoded data removed]",
      "text/plain": [
       "<Figure size 432x288 with 1 Axes>"
      ]
     },
     "metadata": {
      "needs_background": "light"
     },
     "output_type": "display_data"
    }
   ],
   "source": [
    "sns.scatterplot(x=\"year_of_capacity_data\", y=\"source\", data=data)"
   ]
  },
  {
   "cell_type": "code",
   "execution_count": 30,
   "id": "451db9ae",
   "metadata": {},
   "outputs": [
    {
     "data": {
      "text/plain": [
       "<AxesSubplot:xlabel='commissioning_year', ylabel='owner'>"
      ]
     },
     "execution_count": 30,
     "metadata": {},
     "output_type": "execute_result"
    },
    {
     "data": {
      "image/png": "[encoded data removed]",
      "text/plain": [
       "<Figure size 432x288 with 1 Axes>"
      ]
     },
     "metadata": {
      "needs_background": "light"
     },
     "output_type": "display_data"
    }
   ],
   "source": [
    "sns.scatterplot(x=\"commissioning_year\", y=\"owner\", data=data)"
   ]
  },
  {
   "cell_type": "code",
   "execution_count": 31,
   "id": "34c1bbab",
   "metadata": {},
   "outputs": [
    {
     "data": {
      "text/plain": [
       "<AxesSubplot:xlabel='generation_gwh_2018', ylabel='generation_data_source'>"
      ]
     },
     "execution_count": 31,
     "metadata": {},
     "output_type": "execute_result"
    },
    {
     "data": {
      "image/png": "[encoded data removed]",
      "text/plain": [
       "<Figure size 432x288 with 1 Axes>"
      ]
     },
     "metadata": {
      "needs_background": "light"
     },
     "output_type": "display_data"
    }
   ],
   "source": [
    "sns.scatterplot(x=\"generation_gwh_2018\", y=\"generation_data_source\", data=data)"
   ]
  },
  {
   "cell_type": "markdown",
   "id": "f41f7c40",
   "metadata": {},
   "source": [
    "## correlation"
   ]
  },
  {
   "cell_type": "code",
   "execution_count": 32,
   "id": "3e75686f",
   "metadata": {},
   "outputs": [
    {
     "data": {
      "text/html": [
       "<div>\n",
       "<style scoped>\n",
       "    .dataframe tbody tr th:only-of-type {\n",
       "        vertical-align: middle;\n",
       "    }\n",
       "\n",
       "    .dataframe tbody tr th {\n",
       "        vertical-align: top;\n",
       "    }\n",
       "\n",
       "    .dataframe thead th {\n",
       "        text-align: right;\n",
       "    }\n",
       "</style>\n",
       "<table border=\"1\" class=\"dataframe\">\n",
       "  <thead>\n",
       "    <tr style=\"text-align: right;\">\n",
       "      <th></th>\n",
       "      <th>capacity_mw</th>\n",
       "      <th>latitude</th>\n",
       "      <th>longitude</th>\n",
       "      <th>primary_fuel</th>\n",
       "      <th>other_fuel1</th>\n",
       "      <th>commissioning_year</th>\n",
       "      <th>owner</th>\n",
       "      <th>source</th>\n",
       "      <th>year_of_capacity_data</th>\n",
       "      <th>generation_gwh_2014</th>\n",
       "      <th>generation_gwh_2015</th>\n",
       "      <th>generation_gwh_2016</th>\n",
       "      <th>generation_gwh_2017</th>\n",
       "      <th>generation_gwh_2018</th>\n",
       "      <th>generation_data_source</th>\n",
       "    </tr>\n",
       "  </thead>\n",
       "  <tbody>\n",
       "    <tr>\n",
       "      <th>capacity_mw</th>\n",
       "      <td>1.000000</td>\n",
       "      <td>0.050984</td>\n",
       "      <td>0.195882</td>\n",
       "      <td>-0.380395</td>\n",
       "      <td>-0.606289</td>\n",
       "      <td>-0.004072</td>\n",
       "      <td>0.304322</td>\n",
       "      <td>-0.242122</td>\n",
       "      <td>NaN</td>\n",
       "      <td>0.815794</td>\n",
       "      <td>0.842964</td>\n",
       "      <td>0.876811</td>\n",
       "      <td>0.894259</td>\n",
       "      <td>0.906774</td>\n",
       "      <td>-0.495833</td>\n",
       "    </tr>\n",
       "    <tr>\n",
       "      <th>latitude</th>\n",
       "      <td>0.050984</td>\n",
       "      <td>1.000000</td>\n",
       "      <td>0.036362</td>\n",
       "      <td>-0.010204</td>\n",
       "      <td>-0.032790</td>\n",
       "      <td>0.034519</td>\n",
       "      <td>0.007221</td>\n",
       "      <td>0.055927</td>\n",
       "      <td>NaN</td>\n",
       "      <td>0.063351</td>\n",
       "      <td>0.059343</td>\n",
       "      <td>0.053012</td>\n",
       "      <td>0.067991</td>\n",
       "      <td>0.062911</td>\n",
       "      <td>-0.086910</td>\n",
       "    </tr>\n",
       "    <tr>\n",
       "      <th>longitude</th>\n",
       "      <td>0.195882</td>\n",
       "      <td>0.036362</td>\n",
       "      <td>1.000000</td>\n",
       "      <td>-0.347948</td>\n",
       "      <td>-0.275689</td>\n",
       "      <td>-0.159025</td>\n",
       "      <td>0.278443</td>\n",
       "      <td>-0.239333</td>\n",
       "      <td>NaN</td>\n",
       "      <td>0.143435</td>\n",
       "      <td>0.157995</td>\n",
       "      <td>0.180983</td>\n",
       "      <td>0.196417</td>\n",
       "      <td>0.195423</td>\n",
       "      <td>-0.409803</td>\n",
       "    </tr>\n",
       "    <tr>\n",
       "      <th>primary_fuel</th>\n",
       "      <td>-0.380395</td>\n",
       "      <td>-0.010204</td>\n",
       "      <td>-0.347948</td>\n",
       "      <td>1.000000</td>\n",
       "      <td>0.476410</td>\n",
       "      <td>0.164947</td>\n",
       "      <td>-0.260389</td>\n",
       "      <td>0.053613</td>\n",
       "      <td>NaN</td>\n",
       "      <td>-0.285822</td>\n",
       "      <td>-0.291273</td>\n",
       "      <td>-0.304119</td>\n",
       "      <td>-0.313935</td>\n",
       "      <td>-0.315301</td>\n",
       "      <td>0.482339</td>\n",
       "    </tr>\n",
       "    <tr>\n",
       "      <th>other_fuel1</th>\n",
       "      <td>-0.606289</td>\n",
       "      <td>-0.032790</td>\n",
       "      <td>-0.275689</td>\n",
       "      <td>0.476410</td>\n",
       "      <td>1.000000</td>\n",
       "      <td>-0.019109</td>\n",
       "      <td>-0.324999</td>\n",
       "      <td>0.254138</td>\n",
       "      <td>NaN</td>\n",
       "      <td>-0.490559</td>\n",
       "      <td>-0.500829</td>\n",
       "      <td>-0.522554</td>\n",
       "      <td>-0.539283</td>\n",
       "      <td>-0.541120</td>\n",
       "      <td>0.524183</td>\n",
       "    </tr>\n",
       "    <tr>\n",
       "      <th>commissioning_year</th>\n",
       "      <td>-0.004072</td>\n",
       "      <td>0.034519</td>\n",
       "      <td>-0.159025</td>\n",
       "      <td>0.164947</td>\n",
       "      <td>-0.019109</td>\n",
       "      <td>1.000000</td>\n",
       "      <td>-0.412890</td>\n",
       "      <td>0.322222</td>\n",
       "      <td>NaN</td>\n",
       "      <td>-0.093965</td>\n",
       "      <td>-0.058619</td>\n",
       "      <td>-0.034681</td>\n",
       "      <td>-0.025173</td>\n",
       "      <td>-0.021896</td>\n",
       "      <td>0.390076</td>\n",
       "    </tr>\n",
       "    <tr>\n",
       "      <th>owner</th>\n",
       "      <td>0.304322</td>\n",
       "      <td>0.007221</td>\n",
       "      <td>0.278443</td>\n",
       "      <td>-0.260389</td>\n",
       "      <td>-0.324999</td>\n",
       "      <td>-0.412890</td>\n",
       "      <td>1.000000</td>\n",
       "      <td>-0.243587</td>\n",
       "      <td>NaN</td>\n",
       "      <td>0.228491</td>\n",
       "      <td>0.227931</td>\n",
       "      <td>0.236302</td>\n",
       "      <td>0.242964</td>\n",
       "      <td>0.244030</td>\n",
       "      <td>-0.620010</td>\n",
       "    </tr>\n",
       "    <tr>\n",
       "      <th>source</th>\n",
       "      <td>-0.242122</td>\n",
       "      <td>0.055927</td>\n",
       "      <td>-0.239333</td>\n",
       "      <td>0.053613</td>\n",
       "      <td>0.254138</td>\n",
       "      <td>0.322222</td>\n",
       "      <td>-0.243587</td>\n",
       "      <td>1.000000</td>\n",
       "      <td>NaN</td>\n",
       "      <td>-0.178673</td>\n",
       "      <td>-0.178234</td>\n",
       "      <td>-0.184780</td>\n",
       "      <td>-0.189989</td>\n",
       "      <td>-0.190823</td>\n",
       "      <td>0.484827</td>\n",
       "    </tr>\n",
       "    <tr>\n",
       "      <th>year_of_capacity_data</th>\n",
       "      <td>NaN</td>\n",
       "      <td>NaN</td>\n",
       "      <td>NaN</td>\n",
       "      <td>NaN</td>\n",
       "      <td>NaN</td>\n",
       "      <td>NaN</td>\n",
       "      <td>NaN</td>\n",
       "      <td>NaN</td>\n",
       "      <td>NaN</td>\n",
       "      <td>NaN</td>\n",
       "      <td>NaN</td>\n",
       "      <td>NaN</td>\n",
       "      <td>NaN</td>\n",
       "      <td>NaN</td>\n",
       "      <td>NaN</td>\n",
       "    </tr>\n",
       "    <tr>\n",
       "      <th>generation_gwh_2014</th>\n",
       "      <td>0.815794</td>\n",
       "      <td>0.063351</td>\n",
       "      <td>0.143435</td>\n",
       "      <td>-0.285822</td>\n",
       "      <td>-0.490559</td>\n",
       "      <td>-0.093965</td>\n",
       "      <td>0.228491</td>\n",
       "      <td>-0.178673</td>\n",
       "      <td>NaN</td>\n",
       "      <td>1.000000</td>\n",
       "      <td>0.966869</td>\n",
       "      <td>0.938079</td>\n",
       "      <td>0.907753</td>\n",
       "      <td>0.898900</td>\n",
       "      <td>-0.368528</td>\n",
       "    </tr>\n",
       "    <tr>\n",
       "      <th>generation_gwh_2015</th>\n",
       "      <td>0.842964</td>\n",
       "      <td>0.059343</td>\n",
       "      <td>0.157995</td>\n",
       "      <td>-0.291273</td>\n",
       "      <td>-0.500829</td>\n",
       "      <td>-0.058619</td>\n",
       "      <td>0.227931</td>\n",
       "      <td>-0.178234</td>\n",
       "      <td>NaN</td>\n",
       "      <td>0.966869</td>\n",
       "      <td>1.000000</td>\n",
       "      <td>0.974772</td>\n",
       "      <td>0.944057</td>\n",
       "      <td>0.936856</td>\n",
       "      <td>-0.367625</td>\n",
       "    </tr>\n",
       "    <tr>\n",
       "      <th>generation_gwh_2016</th>\n",
       "      <td>0.876811</td>\n",
       "      <td>0.053012</td>\n",
       "      <td>0.180983</td>\n",
       "      <td>-0.304119</td>\n",
       "      <td>-0.522554</td>\n",
       "      <td>-0.034681</td>\n",
       "      <td>0.236302</td>\n",
       "      <td>-0.184780</td>\n",
       "      <td>NaN</td>\n",
       "      <td>0.938079</td>\n",
       "      <td>0.974772</td>\n",
       "      <td>1.000000</td>\n",
       "      <td>0.976470</td>\n",
       "      <td>0.967814</td>\n",
       "      <td>-0.381126</td>\n",
       "    </tr>\n",
       "    <tr>\n",
       "      <th>generation_gwh_2017</th>\n",
       "      <td>0.894259</td>\n",
       "      <td>0.067991</td>\n",
       "      <td>0.196417</td>\n",
       "      <td>-0.313935</td>\n",
       "      <td>-0.539283</td>\n",
       "      <td>-0.025173</td>\n",
       "      <td>0.242964</td>\n",
       "      <td>-0.189989</td>\n",
       "      <td>NaN</td>\n",
       "      <td>0.907753</td>\n",
       "      <td>0.944057</td>\n",
       "      <td>0.976470</td>\n",
       "      <td>1.000000</td>\n",
       "      <td>0.988117</td>\n",
       "      <td>-0.391870</td>\n",
       "    </tr>\n",
       "    <tr>\n",
       "      <th>generation_gwh_2018</th>\n",
       "      <td>0.906774</td>\n",
       "      <td>0.062911</td>\n",
       "      <td>0.195423</td>\n",
       "      <td>-0.315301</td>\n",
       "      <td>-0.541120</td>\n",
       "      <td>-0.021896</td>\n",
       "      <td>0.244030</td>\n",
       "      <td>-0.190823</td>\n",
       "      <td>NaN</td>\n",
       "      <td>0.898900</td>\n",
       "      <td>0.936856</td>\n",
       "      <td>0.967814</td>\n",
       "      <td>0.988117</td>\n",
       "      <td>1.000000</td>\n",
       "      <td>-0.393590</td>\n",
       "    </tr>\n",
       "    <tr>\n",
       "      <th>generation_data_source</th>\n",
       "      <td>-0.495833</td>\n",
       "      <td>-0.086910</td>\n",
       "      <td>-0.409803</td>\n",
       "      <td>0.482339</td>\n",
       "      <td>0.524183</td>\n",
       "      <td>0.390076</td>\n",
       "      <td>-0.620010</td>\n",
       "      <td>0.484827</td>\n",
       "      <td>NaN</td>\n",
       "      <td>-0.368528</td>\n",
       "      <td>-0.367625</td>\n",
       "      <td>-0.381126</td>\n",
       "      <td>-0.391870</td>\n",
       "      <td>-0.393590</td>\n",
       "      <td>1.000000</td>\n",
       "    </tr>\n",
       "  </tbody>\n",
       "</table>\n",
       "</div>"
      ],
      "text/plain": [
       "                        capacity_mw  latitude  longitude  primary_fuel  \\\n",
       "capacity_mw                1.000000  0.050984   0.195882     -0.380395   \n",
       "latitude                   0.050984  1.000000   0.036362     -0.010204   \n",
       "longitude                  0.195882  0.036362   1.000000     -0.347948   \n",
       "primary_fuel              -0.380395 -0.010204  -0.347948      1.000000   \n",
       "other_fuel1               -0.606289 -0.032790  -0.275689      0.476410   \n",
       "commissioning_year        -0.004072  0.034519  -0.159025      0.164947   \n",
       "owner                      0.304322  0.007221   0.278443     -0.260389   \n",
       "source                    -0.242122  0.055927  -0.239333      0.053613   \n",
       "year_of_capacity_data           NaN       NaN        NaN           NaN   \n",
       "generation_gwh_2014        0.815794  0.063351   0.143435     -0.285822   \n",
       "generation_gwh_2015        0.842964  0.059343   0.157995     -0.291273   \n",
       "generation_gwh_2016        0.876811  0.053012   0.180983     -0.304119   \n",
       "generation_gwh_2017        0.894259  0.067991   0.196417     -0.313935   \n",
       "generation_gwh_2018        0.906774  0.062911   0.195423     -0.315301   \n",
       "generation_data_source    -0.495833 -0.086910  -0.409803      0.482339   \n",
       "\n",
       "                        other_fuel1  commissioning_year     owner    source  \\\n",
       "capacity_mw               -0.606289           -0.004072  0.304322 -0.242122   \n",
       "latitude                  -0.032790            0.034519  0.007221  0.055927   \n",
       "longitude                 -0.275689           -0.159025  0.278443 -0.239333   \n",
       "primary_fuel               0.476410            0.164947 -0.260389  0.053613   \n",
       "other_fuel1                1.000000           -0.019109 -0.324999  0.254138   \n",
       "commissioning_year        -0.019109            1.000000 -0.412890  0.322222   \n",
       "owner                     -0.324999           -0.412890  1.000000 -0.243587   \n",
       "source                     0.254138            0.322222 -0.243587  1.000000   \n",
       "year_of_capacity_data           NaN                 NaN       NaN       NaN   \n",
       "generation_gwh_2014       -0.490559           -0.093965  0.228491 -0.178673   \n",
       "generation_gwh_2015       -0.500829           -0.058619  0.227931 -0.178234   \n",
       "generation_gwh_2016       -0.522554           -0.034681  0.236302 -0.184780   \n",
       "generation_gwh_2017       -0.539283           -0.025173  0.242964 -0.189989   \n",
       "generation_gwh_2018       -0.541120           -0.021896  0.244030 -0.190823   \n",
       "generation_data_source     0.524183            0.390076 -0.620010  0.484827   \n",
       "\n",
       "                        year_of_capacity_data  generation_gwh_2014  \\\n",
       "capacity_mw                               NaN             0.815794   \n",
       "latitude                                  NaN             0.063351   \n",
       "longitude                                 NaN             0.143435   \n",
       "primary_fuel                              NaN            -0.285822   \n",
       "other_fuel1                               NaN            -0.490559   \n",
       "commissioning_year                        NaN            -0.093965   \n",
       "owner                                     NaN             0.228491   \n",
       "source                                    NaN            -0.178673   \n",
       "year_of_capacity_data                     NaN                  NaN   \n",
       "generation_gwh_2014                       NaN             1.000000   \n",
       "generation_gwh_2015                       NaN             0.966869   \n",
       "generation_gwh_2016                       NaN             0.938079   \n",
       "generation_gwh_2017                       NaN             0.907753   \n",
       "generation_gwh_2018                       NaN             0.898900   \n",
       "generation_data_source                    NaN            -0.368528   \n",
       "\n",
       "                        generation_gwh_2015  generation_gwh_2016  \\\n",
       "capacity_mw                        0.842964             0.876811   \n",
       "latitude                           0.059343             0.053012   \n",
       "longitude                          0.157995             0.180983   \n",
       "primary_fuel                      -0.291273            -0.304119   \n",
       "other_fuel1                       -0.500829            -0.522554   \n",
       "commissioning_year                -0.058619            -0.034681   \n",
       "owner                              0.227931             0.236302   \n",
       "source                            -0.178234            -0.184780   \n",
       "year_of_capacity_data                   NaN                  NaN   \n",
       "generation_gwh_2014                0.966869             0.938079   \n",
       "generation_gwh_2015                1.000000             0.974772   \n",
       "generation_gwh_2016                0.974772             1.000000   \n",
       "generation_gwh_2017                0.944057             0.976470   \n",
       "generation_gwh_2018                0.936856             0.967814   \n",
       "generation_data_source            -0.367625            -0.381126   \n",
       "\n",
       "                        generation_gwh_2017  generation_gwh_2018  \\\n",
       "capacity_mw                        0.894259             0.906774   \n",
       "latitude                           0.067991             0.062911   \n",
       "longitude                          0.196417             0.195423   \n",
       "primary_fuel                      -0.313935            -0.315301   \n",
       "other_fuel1                       -0.539283            -0.541120   \n",
       "commissioning_year                -0.025173            -0.021896   \n",
       "owner                              0.242964             0.244030   \n",
       "source                            -0.189989            -0.190823   \n",
       "year_of_capacity_data                   NaN                  NaN   \n",
       "generation_gwh_2014                0.907753             0.898900   \n",
       "generation_gwh_2015                0.944057             0.936856   \n",
       "generation_gwh_2016                0.976470             0.967814   \n",
       "generation_gwh_2017                1.000000             0.988117   \n",
       "generation_gwh_2018                0.988117             1.000000   \n",
       "generation_data_source            -0.391870            -0.393590   \n",
       "\n",
       "                        generation_data_source  \n",
       "capacity_mw                          -0.495833  \n",
       "latitude                             -0.086910  \n",
       "longitude                            -0.409803  \n",
       "primary_fuel                          0.482339  \n",
       "other_fuel1                           0.524183  \n",
       "commissioning_year                    0.390076  \n",
       "owner                                -0.620010  \n",
       "source                                0.484827  \n",
       "year_of_capacity_data                      NaN  \n",
       "generation_gwh_2014                  -0.368528  \n",
       "generation_gwh_2015                  -0.367625  \n",
       "generation_gwh_2016                  -0.381126  \n",
       "generation_gwh_2017                  -0.391870  \n",
       "generation_gwh_2018                  -0.393590  \n",
       "generation_data_source                1.000000  "
      ]
     },
     "execution_count": 32,
     "metadata": {},
     "output_type": "execute_result"
    }
   ],
   "source": [
    "data_cor = data.corr()\n",
    "data_cor"
   ]
  },
  {
   "cell_type": "code",
   "execution_count": 33,
   "id": "b3522368",
   "metadata": {},
   "outputs": [
    {
     "data": {
      "text/plain": [
       "<AxesSubplot:>"
      ]
     },
     "execution_count": 33,
     "metadata": {},
     "output_type": "execute_result"
    },
    {
     "data": {
      "image/png": "[encoded data removed]",
      "text/plain": [
       "<Figure size 1584x504 with 2 Axes>"
      ]
     },
     "metadata": {
      "needs_background": "light"
     },
     "output_type": "display_data"
    }
   ],
   "source": [
    "plt.figure(figsize=(22,7))\n",
    "sns.heatmap(data_cor,annot =True , fmt='0.2f')"
   ]
  },
  {
   "cell_type": "code",
   "execution_count": 34,
   "id": "a1d684f6",
   "metadata": {},
   "outputs": [
    {
     "data": {
      "text/plain": [
       "<AxesSubplot:xlabel='capacity_mw', ylabel='Density'>"
      ]
     },
     "execution_count": 34,
     "metadata": {},
     "output_type": "execute_result"
    },
    {
     "data": {
      "image/png": "[encoded data removed]",
      "text/plain": [
       "<Figure size 432x288 with 1 Axes>"
      ]
     },
     "metadata": {
      "needs_background": "light"
     },
     "output_type": "display_data"
    }
   ],
   "source": [
    "sns.distplot(data['capacity_mw'])"
   ]
  },
  {
   "cell_type": "code",
   "execution_count": 35,
   "id": "e9218dd0",
   "metadata": {},
   "outputs": [
    {
     "data": {
      "text/plain": [
       "<AxesSubplot:xlabel='latitude', ylabel='Density'>"
      ]
     },
     "execution_count": 35,
     "metadata": {},
     "output_type": "execute_result"
    },
    {
     "data": {
      "image/png": "[encoded data removed]",
      "text/plain": [
       "<Figure size 432x288 with 1 Axes>"
      ]
     },
     "metadata": {
      "needs_background": "light"
     },
     "output_type": "display_data"
    }
   ],
   "source": [
    "sns.distplot(data['latitude'])"
   ]
  },
  {
   "cell_type": "code",
   "execution_count": 36,
   "id": "f58a7821",
   "metadata": {},
   "outputs": [
    {
     "data": {
      "text/plain": [
       "<AxesSubplot:xlabel='longitude', ylabel='Density'>"
      ]
     },
     "execution_count": 36,
     "metadata": {},
     "output_type": "execute_result"
    },
    {
     "data": {
      "image/png": "[encoded data removed]",
      "text/plain": [
       "<Figure size 432x288 with 1 Axes>"
      ]
     },
     "metadata": {
      "needs_background": "light"
     },
     "output_type": "display_data"
    }
   ],
   "source": [
    "sns.distplot(data['longitude'])"
   ]
  },
  {
   "cell_type": "markdown",
   "id": "e12d9b10",
   "metadata": {},
   "source": [
    "sns.distplot(data['primary_fuel'])"
   ]
  },
  {
   "cell_type": "code",
   "execution_count": 37,
   "id": "cbb79421",
   "metadata": {},
   "outputs": [
    {
     "data": {
      "text/plain": [
       "<AxesSubplot:xlabel='other_fuel1', ylabel='Density'>"
      ]
     },
     "execution_count": 37,
     "metadata": {},
     "output_type": "execute_result"
    },
    {
     "data": {
      "image/png": "[encoded data removed]",
      "text/plain": [
       "<Figure size 432x288 with 1 Axes>"
      ]
     },
     "metadata": {
      "needs_background": "light"
     },
     "output_type": "display_data"
    }
   ],
   "source": [
    "sns.distplot(data['other_fuel1'])"
   ]
  },
  {
   "cell_type": "code",
   "execution_count": 38,
   "id": "09f74cb0",
   "metadata": {},
   "outputs": [
    {
     "data": {
      "text/plain": [
       "<AxesSubplot:xlabel='commissioning_year', ylabel='Density'>"
      ]
     },
     "execution_count": 38,
     "metadata": {},
     "output_type": "execute_result"
    },
    {
     "data": {
      "image/png": "[encoded data removed]",
      "text/plain": [
       "<Figure size 432x288 with 1 Axes>"
      ]
     },
     "metadata": {
      "needs_background": "light"
     },
     "output_type": "display_data"
    }
   ],
   "source": [
    "sns.distplot(data['commissioning_year'])"
   ]
  },
  {
   "cell_type": "code",
   "execution_count": 39,
   "id": "3a8f1c0f",
   "metadata": {},
   "outputs": [
    {
     "data": {
      "text/plain": [
       "<AxesSubplot:xlabel='owner', ylabel='Density'>"
      ]
     },
     "execution_count": 39,
     "metadata": {},
     "output_type": "execute_result"
    },
    {
     "data": {
      "image/png": "[encoded data removed]",
      "text/plain": [
       "<Figure size 432x288 with 1 Axes>"
      ]
     },
     "metadata": {
      "needs_background": "light"
     },
     "output_type": "display_data"
    }
   ],
   "source": [
    "sns.distplot(data['owner'])"
   ]
  },
  {
   "cell_type": "code",
   "execution_count": 40,
   "id": "7229ba46",
   "metadata": {},
   "outputs": [
    {
     "data": {
      "text/plain": [
       "<AxesSubplot:xlabel='source', ylabel='Density'>"
      ]
     },
     "execution_count": 40,
     "metadata": {},
     "output_type": "execute_result"
    },
    {
     "data": {
      "image/png": "[encoded data removed]",
      "text/plain": [
       "<Figure size 432x288 with 1 Axes>"
      ]
     },
     "metadata": {
      "needs_background": "light"
     },
     "output_type": "display_data"
    }
   ],
   "source": [
    "sns.distplot(data['source'])"
   ]
  },
  {
   "cell_type": "code",
   "execution_count": 41,
   "id": "a49db607",
   "metadata": {},
   "outputs": [
    {
     "data": {
      "text/plain": [
       "<AxesSubplot:xlabel='year_of_capacity_data', ylabel='Density'>"
      ]
     },
     "execution_count": 41,
     "metadata": {},
     "output_type": "execute_result"
    },
    {
     "data": {
      "image/png": "[encoded data removed]",
      "text/plain": [
       "<Figure size 432x288 with 1 Axes>"
      ]
     },
     "metadata": {
      "needs_background": "light"
     },
     "output_type": "display_data"
    }
   ],
   "source": [
    "sns.distplot(data['year_of_capacity_data'])"
   ]
  },
  {
   "cell_type": "code",
   "execution_count": 42,
   "id": "21921222",
   "metadata": {},
   "outputs": [
    {
     "data": {
      "text/plain": [
       "<AxesSubplot:xlabel='generation_gwh_2018', ylabel='Density'>"
      ]
     },
     "execution_count": 42,
     "metadata": {},
     "output_type": "execute_result"
    },
    {
     "data": {
      "image/png": "[encoded data removed]",
      "text/plain": [
       "<Figure size 432x288 with 1 Axes>"
      ]
     },
     "metadata": {
      "needs_background": "light"
     },
     "output_type": "display_data"
    }
   ],
   "source": [
    "sns.distplot(data['generation_gwh_2018'])"
   ]
  },
  {
   "cell_type": "code",
   "execution_count": 43,
   "id": "78559fb3",
   "metadata": {},
   "outputs": [
    {
     "data": {
      "text/plain": [
       "<AxesSubplot:xlabel='generation_data_source', ylabel='Density'>"
      ]
     },
     "execution_count": 43,
     "metadata": {},
     "output_type": "execute_result"
    },
    {
     "data": {
      "image/png": "[encoded data removed]",
      "text/plain": [
       "<Figure size 432x288 with 1 Axes>"
      ]
     },
     "metadata": {
      "needs_background": "light"
     },
     "output_type": "display_data"
    }
   ],
   "source": [
    "sns.distplot(data['generation_data_source'])"
   ]
  },
  {
   "cell_type": "code",
   "execution_count": 44,
   "id": "3b243d98",
   "metadata": {},
   "outputs": [],
   "source": [
    "x = data.drop('primary_fuel',axis=1)"
   ]
  },
  {
   "cell_type": "code",
   "execution_count": 45,
   "id": "d41b6b1a",
   "metadata": {},
   "outputs": [],
   "source": [
    "y = data['primary_fuel']"
   ]
  },
  {
   "cell_type": "markdown",
   "id": "98c2cf7a",
   "metadata": {},
   "source": [
    "## Remove skewness"
   ]
  },
  {
   "cell_type": "code",
   "execution_count": 46,
   "id": "e060f38f",
   "metadata": {},
   "outputs": [
    {
     "data": {
      "text/plain": [
       "array([[-1.69576688,  1.1594364 , -0.95254457, ..., -0.87813097,\n",
       "        -0.88378789,  0.99012592],\n",
       "       [ 0.19369368,  0.57903232, -0.54497608, ..., -0.87813097,\n",
       "        -0.88378789,  0.99012592],\n",
       "       [-0.2923371 ,  0.09991208, -2.3798638 , ..., -0.87813097,\n",
       "        -0.88378789,  0.99012592],\n",
       "       ...,\n",
       "       [-0.52277344, -0.98053644, -0.28081924, ..., -0.87813097,\n",
       "        -0.88378789,  0.99012592],\n",
       "       [ 0.08691496,  0.50893808, -0.79637432, ..., -0.87813097,\n",
       "        -0.88378789,  0.99012592],\n",
       "       [-0.75589054, -1.81390048,  0.18088944, ..., -0.87813097,\n",
       "        -0.88378789,  0.99012592]])"
      ]
     },
     "execution_count": 46,
     "metadata": {},
     "output_type": "execute_result"
    }
   ],
   "source": [
    "from sklearn.preprocessing import power_transform\n",
    "x = power_transform(x,method='yeo-johnson')\n",
    "x"
   ]
  },
  {
   "cell_type": "code",
   "execution_count": 47,
   "id": "8c0fd497",
   "metadata": {},
   "outputs": [],
   "source": [
    "from sklearn.linear_model import LogisticRegression\n",
    "from sklearn.ensemble import RandomForestClassifier\n",
    "from sklearn.neighbors import KNeighborsClassifier\n",
    "from sklearn.tree import DecisionTreeClassifier\n",
    "from sklearn.metrics import accuracy_score, confusion_matrix, classification_report#mean_squared_error,mean_absolute_error,r2_score\n",
    "\n",
    "from sklearn.model_selection import train_test_split\n",
    "\n",
    "x_train, x_test, y_train, y_test = train_test_split(x, y, test_size=0.2, random_state=43)"
   ]
  },
  {
   "cell_type": "markdown",
   "id": "ff79c141",
   "metadata": {},
   "source": [
    "# Logistic Regression"
   ]
  },
  {
   "cell_type": "code",
   "execution_count": 48,
   "id": "9cc35a7c",
   "metadata": {},
   "outputs": [
    {
     "name": "stdout",
     "output_type": "stream",
     "text": [
      "Accuracy Score 0.7857142857142857\n",
      "[[ 2  0  0  0  0  0  3  0]\n",
      " [ 2 48  0  0  0  0  2  2]\n",
      " [ 2  3  5  8  0  1  0  1]\n",
      " [ 0  0  2 43  0  0  0  0]\n",
      " [ 0  0  0  1  0  0  0  0]\n",
      " [ 1  0  2  0  0  0  1  0]\n",
      " [ 0  2  0  0  0  0 20  3]\n",
      " [ 0  1  0  0  0  0  2 25]]\n",
      "              precision    recall  f1-score   support\n",
      "\n",
      "           0       0.29      0.40      0.33         5\n",
      "           1       0.89      0.89      0.89        54\n",
      "           2       0.56      0.25      0.34        20\n",
      "           3       0.83      0.96      0.89        45\n",
      "           4       0.00      0.00      0.00         1\n",
      "           5       0.00      0.00      0.00         4\n",
      "           6       0.71      0.80      0.75        25\n",
      "           7       0.81      0.89      0.85        28\n",
      "\n",
      "    accuracy                           0.79       182\n",
      "   macro avg       0.51      0.52      0.51       182\n",
      "weighted avg       0.76      0.79      0.76       182\n",
      "\n"
     ]
    }
   ],
   "source": [
    "lr = LogisticRegression()\n",
    "lr.fit(x_train, y_train)\n",
    "pred = lr.predict(x_test)\n",
    "\n",
    "print('Accuracy Score',accuracy_score(y_test,pred))\n",
    "print(confusion_matrix(y_test,pred))\n",
    "print(classification_report(y_test,pred))"
   ]
  },
  {
   "cell_type": "markdown",
   "id": "6dea15e7",
   "metadata": {},
   "source": [
    "# Random Forest Classifier"
   ]
  },
  {
   "cell_type": "code",
   "execution_count": 49,
   "id": "eeb6faca",
   "metadata": {},
   "outputs": [
    {
     "name": "stdout",
     "output_type": "stream",
     "text": [
      "Accuracy score 0.8571428571428571\n",
      "[[ 2  1  0  0  0  0  2  0]\n",
      " [ 5 48  0  0  0  0  0  1]\n",
      " [ 0  2  8  7  1  1  1  0]\n",
      " [ 0  0  0 45  0  0  0  0]\n",
      " [ 0  0  1  0  0  0  0  0]\n",
      " [ 0  0  1  2  0  1  0  0]\n",
      " [ 0  0  0  0  0  0 24  1]\n",
      " [ 0  0  0  0  0  0  0 28]]\n",
      "              precision    recall  f1-score   support\n",
      "\n",
      "           0       0.29      0.40      0.33         5\n",
      "           1       0.94      0.89      0.91        54\n",
      "           2       0.80      0.40      0.53        20\n",
      "           3       0.83      1.00      0.91        45\n",
      "           4       0.00      0.00      0.00         1\n",
      "           5       0.50      0.25      0.33         4\n",
      "           6       0.89      0.96      0.92        25\n",
      "           7       0.93      1.00      0.97        28\n",
      "\n",
      "    accuracy                           0.86       182\n",
      "   macro avg       0.65      0.61      0.61       182\n",
      "weighted avg       0.86      0.86      0.85       182\n",
      "\n"
     ]
    }
   ],
   "source": [
    "rf = RandomForestClassifier()\n",
    "rf.fit(x_train,y_train)\n",
    "pred1 = rf.predict(x_test)\n",
    "print('Accuracy score',accuracy_score(y_test,pred1))\n",
    "print(confusion_matrix(y_test,pred1))\n",
    "print(classification_report(y_test,pred1))"
   ]
  },
  {
   "cell_type": "markdown",
   "id": "4f78d19e",
   "metadata": {},
   "source": [
    "# KNeighbors Classifier"
   ]
  },
  {
   "cell_type": "code",
   "execution_count": 50,
   "id": "6c06fa23",
   "metadata": {},
   "outputs": [
    {
     "name": "stdout",
     "output_type": "stream",
     "text": [
      "Accuracy 0.8021978021978022\n",
      "[[ 2  2  0  0  0  0  1  0]\n",
      " [ 3 48  0  0  0  0  0  3]\n",
      " [ 1  2  7  8  0  0  1  1]\n",
      " [ 0  0  4 41  0  0  0  0]\n",
      " [ 0  0  0  1  0  0  0  0]\n",
      " [ 0  0  1  1  0  2  0  0]\n",
      " [ 1  5  0  0  0  0 18  1]\n",
      " [ 0  0  0  0  0  0  0 28]]\n",
      "              precision    recall  f1-score   support\n",
      "\n",
      "           0       0.29      0.40      0.33         5\n",
      "           1       0.84      0.89      0.86        54\n",
      "           2       0.58      0.35      0.44        20\n",
      "           3       0.80      0.91      0.85        45\n",
      "           4       0.00      0.00      0.00         1\n",
      "           5       1.00      0.50      0.67         4\n",
      "           6       0.90      0.72      0.80        25\n",
      "           7       0.85      1.00      0.92        28\n",
      "\n",
      "    accuracy                           0.80       182\n",
      "   macro avg       0.66      0.60      0.61       182\n",
      "weighted avg       0.80      0.80      0.79       182\n",
      "\n"
     ]
    }
   ],
   "source": [
    "kn = KNeighborsClassifier()\n",
    "kn.fit(x_train,y_train)\n",
    "pred2 = kn.predict(x_test)\n",
    "print('Accuracy',accuracy_score(y_test,pred2))\n",
    "print(confusion_matrix(y_test,pred2))\n",
    "print(classification_report(y_test,pred2))"
   ]
  },
  {
   "cell_type": "markdown",
   "id": "9bb438a5",
   "metadata": {},
   "source": [
    "## Decision Tree Classifier"
   ]
  },
  {
   "cell_type": "code",
   "execution_count": 51,
   "id": "61d0753a",
   "metadata": {},
   "outputs": [
    {
     "name": "stdout",
     "output_type": "stream",
     "text": [
      "Accuracy 0.8076923076923077\n",
      "[[ 2  2  0  0  0  0  1  0]\n",
      " [ 3 44  0  0  0  2  4  1]\n",
      " [ 0  3 10  4  1  2  0  0]\n",
      " [ 0  0  3 39  1  1  1  0]\n",
      " [ 0  0  1  0  0  0  0  0]\n",
      " [ 0  0  2  1  0  1  0  0]\n",
      " [ 1  1  0  0  0  0 23  0]\n",
      " [ 0  0  0  0  0  0  0 28]]\n",
      "              precision    recall  f1-score   support\n",
      "\n",
      "           0       0.33      0.40      0.36         5\n",
      "           1       0.88      0.81      0.85        54\n",
      "           2       0.62      0.50      0.56        20\n",
      "           3       0.89      0.87      0.88        45\n",
      "           4       0.00      0.00      0.00         1\n",
      "           5       0.17      0.25      0.20         4\n",
      "           6       0.79      0.92      0.85        25\n",
      "           7       0.97      1.00      0.98        28\n",
      "\n",
      "    accuracy                           0.81       182\n",
      "   macro avg       0.58      0.59      0.58       182\n",
      "weighted avg       0.82      0.81      0.81       182\n",
      "\n"
     ]
    }
   ],
   "source": [
    "dt = DecisionTreeClassifier()\n",
    "dt.fit(x_train, y_train)\n",
    "preddt = dt.predict(x_test)\n",
    "print('Accuracy',accuracy_score(y_test, preddt))\n",
    "print(confusion_matrix(y_test,preddt))\n",
    "print(classification_report(y_test, preddt))"
   ]
  },
  {
   "cell_type": "markdown",
   "id": "dc641c08",
   "metadata": {},
   "source": [
    "# Cross validation"
   ]
  },
  {
   "cell_type": "code",
   "execution_count": 52,
   "id": "1ca207ce",
   "metadata": {},
   "outputs": [
    {
     "name": "stdout",
     "output_type": "stream",
     "text": [
      "Cross validation score of logistic Regression model : 0.7993685872138911\n"
     ]
    }
   ],
   "source": [
    "from sklearn.model_selection import cross_val_score\n",
    "\n",
    "scr = cross_val_score(lr, x, y, cv=5)\n",
    "print(\"Cross validation score of logistic Regression model :\",scr.mean())"
   ]
  },
  {
   "cell_type": "code",
   "execution_count": 53,
   "id": "49074fb6",
   "metadata": {},
   "outputs": [
    {
     "name": "stdout",
     "output_type": "stream",
     "text": [
      "Cross validation score of Random Forest model : 0.884238965454435\n"
     ]
    }
   ],
   "source": [
    "scr = cross_val_score(rf, x, y, cv=5)\n",
    "print(\"Cross validation score of Random Forest model :\", scr.mean())"
   ]
  },
  {
   "cell_type": "code",
   "execution_count": 54,
   "id": "d4876bef",
   "metadata": {},
   "outputs": [
    {
     "name": "stdout",
     "output_type": "stream",
     "text": [
      "Cross validation score of KNeighbors model : 0.8324509744399247\n"
     ]
    }
   ],
   "source": [
    "scr = cross_val_score(kn, x, y, cv=5)\n",
    "print('Cross validation score of KNeighbors model :', scr.mean())"
   ]
  },
  {
   "cell_type": "code",
   "execution_count": 55,
   "id": "1a4de6ce",
   "metadata": {},
   "outputs": [
    {
     "name": "stdout",
     "output_type": "stream",
     "text": [
      "Cross validation score of Decision Tree  model : 0.8379697650415883\n"
     ]
    }
   ],
   "source": [
    "scr = cross_val_score(dt, x, y, cv=5)\n",
    "print('Cross validation score of Decision Tree  model :', scr.mean())"
   ]
  },
  {
   "cell_type": "markdown",
   "id": "058b6702",
   "metadata": {},
   "source": [
    "## Hyper parameter tuning"
   ]
  },
  {
   "cell_type": "code",
   "execution_count": 56,
   "id": "b6b004ba",
   "metadata": {},
   "outputs": [
    {
     "data": {
      "text/plain": [
       "{'criterion': 'entropy', 'max_depth': 8, 'max_features': 'log2'}"
      ]
     },
     "execution_count": 56,
     "metadata": {},
     "output_type": "execute_result"
    }
   ],
   "source": [
    "from sklearn.model_selection import GridSearchCV\n",
    "\n",
    "parameters = {'max_features': ['auto', 'sqrt', 'log2'],\n",
    "               'max_depth':[4,5,6,7,8],\n",
    "                'criterion':['gini','entropy']}\n",
    "GCV = GridSearchCV(RandomForestClassifier(),parameters,cv=5,scoring='accuracy')\n",
    "GCV.fit(x_train, y_train) #Fitting the data in model\n",
    "GCV.best_params_ # printing the best parameter found by GridSearchCV"
   ]
  },
  {
   "cell_type": "code",
   "execution_count": 57,
   "id": "a78dadc5",
   "metadata": {},
   "outputs": [
    {
     "data": {
      "text/plain": [
       "0.8516483516483516"
      ]
     },
     "execution_count": 57,
     "metadata": {},
     "output_type": "execute_result"
    }
   ],
   "source": [
    "GCV_pred = GCV.best_estimator_.predict(x_test) # predicting with best parameters\n",
    "accuracy_score(y_test, GCV_pred) #Checking final accuracy"
   ]
  },
  {
   "cell_type": "markdown",
   "id": "186b84d5",
   "metadata": {},
   "source": [
    "## Saving the model in pickle format"
   ]
  },
  {
   "cell_type": "code",
   "execution_count": 58,
   "id": "d3ebd124",
   "metadata": {},
   "outputs": [
    {
     "data": {
      "text/plain": [
       "['Global_Power_Plant.pkl']"
      ]
     },
     "execution_count": 58,
     "metadata": {},
     "output_type": "execute_result"
    }
   ],
   "source": [
    "import joblib\n",
    "joblib.dump(rf,\"Global_Power_Plant.pkl\")"
   ]
  },
  {
   "cell_type": "code",
   "execution_count": null,
   "id": "1f2de5fd",
   "metadata": {},
   "outputs": [],
   "source": []
  }
 ],
 "metadata": {
  "kernelspec": {
   "display_name": "Python 3",
   "language": "python",
   "name": "python3"
  },
  "language_info": {
   "codemirror_mode": {
    "name": "ipython",
    "version": 3
   },
   "file_extension": ".py",
   "mimetype": "text/x-python",
   "name": "python",
   "nbconvert_exporter": "python",
   "pygments_lexer": "ipython3",
   "version": "3.8.8"
  }
 },
 "nbformat": 4,
 "nbformat_minor": 5
}
