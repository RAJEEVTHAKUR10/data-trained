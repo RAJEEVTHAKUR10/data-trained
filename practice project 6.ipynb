{
 "cells": [
  {
   "cell_type": "markdown",
   "id": "bab4ce6b",
   "metadata": {},
   "source": [
    "# Advertising"
   ]
  },
  {
   "cell_type": "code",
   "execution_count": 28,
   "id": "ffd0f398",
   "metadata": {},
   "outputs": [],
   "source": [
    "# import libraries\n",
    "import pandas as pd\n",
    "import numpy as np\n",
    "import seaborn as sns\n",
    "import matplotlib.pyplot as plt\n",
    "from sklearn.model_selection import train_test_split\n",
    "from sklearn.metrics import accuracy_score\n",
    "from sklearn.metrics import mean_absolute_error,mean_squared_error\n",
    "import warnings\n",
    "warnings.filterwarnings('ignore')"
   ]
  },
  {
   "cell_type": "code",
   "execution_count": 29,
   "id": "2cf2e0f8",
   "metadata": {},
   "outputs": [
    {
     "data": {
      "text/html": [
       "<div>\n",
       "<style scoped>\n",
       "    .dataframe tbody tr th:only-of-type {\n",
       "        vertical-align: middle;\n",
       "    }\n",
       "\n",
       "    .dataframe tbody tr th {\n",
       "        vertical-align: top;\n",
       "    }\n",
       "\n",
       "    .dataframe thead th {\n",
       "        text-align: right;\n",
       "    }\n",
       "</style>\n",
       "<table border=\"1\" class=\"dataframe\">\n",
       "  <thead>\n",
       "    <tr style=\"text-align: right;\">\n",
       "      <th></th>\n",
       "      <th>Unnamed: 0</th>\n",
       "      <th>TV</th>\n",
       "      <th>radio</th>\n",
       "      <th>newspaper</th>\n",
       "      <th>sales</th>\n",
       "    </tr>\n",
       "  </thead>\n",
       "  <tbody>\n",
       "    <tr>\n",
       "      <th>0</th>\n",
       "      <td>1</td>\n",
       "      <td>230.1</td>\n",
       "      <td>37.8</td>\n",
       "      <td>69.2</td>\n",
       "      <td>22.1</td>\n",
       "    </tr>\n",
       "    <tr>\n",
       "      <th>1</th>\n",
       "      <td>2</td>\n",
       "      <td>44.5</td>\n",
       "      <td>39.3</td>\n",
       "      <td>45.1</td>\n",
       "      <td>10.4</td>\n",
       "    </tr>\n",
       "    <tr>\n",
       "      <th>2</th>\n",
       "      <td>3</td>\n",
       "      <td>17.2</td>\n",
       "      <td>45.9</td>\n",
       "      <td>69.3</td>\n",
       "      <td>9.3</td>\n",
       "    </tr>\n",
       "    <tr>\n",
       "      <th>3</th>\n",
       "      <td>4</td>\n",
       "      <td>151.5</td>\n",
       "      <td>41.3</td>\n",
       "      <td>58.5</td>\n",
       "      <td>18.5</td>\n",
       "    </tr>\n",
       "    <tr>\n",
       "      <th>4</th>\n",
       "      <td>5</td>\n",
       "      <td>180.8</td>\n",
       "      <td>10.8</td>\n",
       "      <td>58.4</td>\n",
       "      <td>12.9</td>\n",
       "    </tr>\n",
       "  </tbody>\n",
       "</table>\n",
       "</div>"
      ],
      "text/plain": [
       "   Unnamed: 0     TV  radio  newspaper  sales\n",
       "0           1  230.1   37.8       69.2   22.1\n",
       "1           2   44.5   39.3       45.1   10.4\n",
       "2           3   17.2   45.9       69.3    9.3\n",
       "3           4  151.5   41.3       58.5   18.5\n",
       "4           5  180.8   10.8       58.4   12.9"
      ]
     },
     "execution_count": 29,
     "metadata": {},
     "output_type": "execute_result"
    }
   ],
   "source": [
    "# loading the dataset\n",
    "ad = pd.read_csv('Advertising.csv')\n",
    "ad.head()"
   ]
  },
  {
   "cell_type": "code",
   "execution_count": 30,
   "id": "02fa85be",
   "metadata": {},
   "outputs": [
    {
     "data": {
      "text/plain": [
       "(200, 5)"
      ]
     },
     "execution_count": 30,
     "metadata": {},
     "output_type": "execute_result"
    }
   ],
   "source": [
    "# checking the data dimenstion\n",
    "ad.shape"
   ]
  },
  {
   "cell_type": "code",
   "execution_count": 31,
   "id": "21088543",
   "metadata": {},
   "outputs": [
    {
     "data": {
      "text/plain": [
       "Unnamed: 0      int64\n",
       "TV            float64\n",
       "radio         float64\n",
       "newspaper     float64\n",
       "sales         float64\n",
       "dtype: object"
      ]
     },
     "execution_count": 31,
     "metadata": {},
     "output_type": "execute_result"
    }
   ],
   "source": [
    "# checking the datatype\n",
    "ad.dtypes"
   ]
  },
  {
   "cell_type": "code",
   "execution_count": 32,
   "id": "d55aeaff",
   "metadata": {},
   "outputs": [
    {
     "name": "stdout",
     "output_type": "stream",
     "text": [
      "<class 'pandas.core.frame.DataFrame'>\n",
      "RangeIndex: 200 entries, 0 to 199\n",
      "Data columns (total 5 columns):\n",
      " #   Column      Non-Null Count  Dtype  \n",
      "---  ------      --------------  -----  \n",
      " 0   Unnamed: 0  200 non-null    int64  \n",
      " 1   TV          200 non-null    float64\n",
      " 2   radio       200 non-null    float64\n",
      " 3   newspaper   200 non-null    float64\n",
      " 4   sales       200 non-null    float64\n",
      "dtypes: float64(4), int64(1)\n",
      "memory usage: 7.9 KB\n"
     ]
    }
   ],
   "source": [
    "# cheching the information\n",
    "ad.info()"
   ]
  },
  {
   "cell_type": "code",
   "execution_count": 33,
   "id": "390d8082",
   "metadata": {},
   "outputs": [
    {
     "data": {
      "text/plain": [
       "Unnamed: 0    0\n",
       "TV            0\n",
       "radio         0\n",
       "newspaper     0\n",
       "sales         0\n",
       "dtype: int64"
      ]
     },
     "execution_count": 33,
     "metadata": {},
     "output_type": "execute_result"
    }
   ],
   "source": [
    "# checking the null value\n",
    "ad.isnull().sum()"
   ]
  },
  {
   "cell_type": "code",
   "execution_count": 34,
   "id": "a6c6aad1",
   "metadata": {},
   "outputs": [
    {
     "data": {
      "text/plain": [
       "<AxesSubplot:>"
      ]
     },
     "execution_count": 34,
     "metadata": {},
     "output_type": "execute_result"
    },
    {
     "data": {
      "image/png": "[encoded data removed]",
      "text/plain": [
       "<Figure size 432x288 with 2 Axes>"
      ]
     },
     "metadata": {
      "needs_background": "light"
     },
     "output_type": "display_data"
    }
   ],
   "source": [
    "sns.heatmap(ad.isnull())"
   ]
  },
  {
   "cell_type": "markdown",
   "id": "7c3e73d2",
   "metadata": {},
   "source": [
    "# summary statistics"
   ]
  },
  {
   "cell_type": "code",
   "execution_count": 35,
   "id": "e71575a1",
   "metadata": {},
   "outputs": [
    {
     "data": {
      "text/html": [
       "<div>\n",
       "<style scoped>\n",
       "    .dataframe tbody tr th:only-of-type {\n",
       "        vertical-align: middle;\n",
       "    }\n",
       "\n",
       "    .dataframe tbody tr th {\n",
       "        vertical-align: top;\n",
       "    }\n",
       "\n",
       "    .dataframe thead th {\n",
       "        text-align: right;\n",
       "    }\n",
       "</style>\n",
       "<table border=\"1\" class=\"dataframe\">\n",
       "  <thead>\n",
       "    <tr style=\"text-align: right;\">\n",
       "      <th></th>\n",
       "      <th>Unnamed: 0</th>\n",
       "      <th>TV</th>\n",
       "      <th>radio</th>\n",
       "      <th>newspaper</th>\n",
       "      <th>sales</th>\n",
       "    </tr>\n",
       "  </thead>\n",
       "  <tbody>\n",
       "    <tr>\n",
       "      <th>count</th>\n",
       "      <td>200.000000</td>\n",
       "      <td>200.000000</td>\n",
       "      <td>200.000000</td>\n",
       "      <td>200.000000</td>\n",
       "      <td>200.000000</td>\n",
       "    </tr>\n",
       "    <tr>\n",
       "      <th>mean</th>\n",
       "      <td>100.500000</td>\n",
       "      <td>147.042500</td>\n",
       "      <td>23.264000</td>\n",
       "      <td>30.554000</td>\n",
       "      <td>14.022500</td>\n",
       "    </tr>\n",
       "    <tr>\n",
       "      <th>std</th>\n",
       "      <td>57.879185</td>\n",
       "      <td>85.854236</td>\n",
       "      <td>14.846809</td>\n",
       "      <td>21.778621</td>\n",
       "      <td>5.217457</td>\n",
       "    </tr>\n",
       "    <tr>\n",
       "      <th>min</th>\n",
       "      <td>1.000000</td>\n",
       "      <td>0.700000</td>\n",
       "      <td>0.000000</td>\n",
       "      <td>0.300000</td>\n",
       "      <td>1.600000</td>\n",
       "    </tr>\n",
       "    <tr>\n",
       "      <th>25%</th>\n",
       "      <td>50.750000</td>\n",
       "      <td>74.375000</td>\n",
       "      <td>9.975000</td>\n",
       "      <td>12.750000</td>\n",
       "      <td>10.375000</td>\n",
       "    </tr>\n",
       "    <tr>\n",
       "      <th>50%</th>\n",
       "      <td>100.500000</td>\n",
       "      <td>149.750000</td>\n",
       "      <td>22.900000</td>\n",
       "      <td>25.750000</td>\n",
       "      <td>12.900000</td>\n",
       "    </tr>\n",
       "    <tr>\n",
       "      <th>75%</th>\n",
       "      <td>150.250000</td>\n",
       "      <td>218.825000</td>\n",
       "      <td>36.525000</td>\n",
       "      <td>45.100000</td>\n",
       "      <td>17.400000</td>\n",
       "    </tr>\n",
       "    <tr>\n",
       "      <th>max</th>\n",
       "      <td>200.000000</td>\n",
       "      <td>296.400000</td>\n",
       "      <td>49.600000</td>\n",
       "      <td>114.000000</td>\n",
       "      <td>27.000000</td>\n",
       "    </tr>\n",
       "  </tbody>\n",
       "</table>\n",
       "</div>"
      ],
      "text/plain": [
       "       Unnamed: 0          TV       radio   newspaper       sales\n",
       "count  200.000000  200.000000  200.000000  200.000000  200.000000\n",
       "mean   100.500000  147.042500   23.264000   30.554000   14.022500\n",
       "std     57.879185   85.854236   14.846809   21.778621    5.217457\n",
       "min      1.000000    0.700000    0.000000    0.300000    1.600000\n",
       "25%     50.750000   74.375000    9.975000   12.750000   10.375000\n",
       "50%    100.500000  149.750000   22.900000   25.750000   12.900000\n",
       "75%    150.250000  218.825000   36.525000   45.100000   17.400000\n",
       "max    200.000000  296.400000   49.600000  114.000000   27.000000"
      ]
     },
     "execution_count": 35,
     "metadata": {},
     "output_type": "execute_result"
    }
   ],
   "source": [
    "ad.describe()"
   ]
  },
  {
   "cell_type": "markdown",
   "id": "4b21fbb6",
   "metadata": {},
   "source": [
    "# correlation"
   ]
  },
  {
   "cell_type": "code",
   "execution_count": 36,
   "id": "8b005ae2",
   "metadata": {},
   "outputs": [
    {
     "data": {
      "text/html": [
       "<div>\n",
       "<style scoped>\n",
       "    .dataframe tbody tr th:only-of-type {\n",
       "        vertical-align: middle;\n",
       "    }\n",
       "\n",
       "    .dataframe tbody tr th {\n",
       "        vertical-align: top;\n",
       "    }\n",
       "\n",
       "    .dataframe thead th {\n",
       "        text-align: right;\n",
       "    }\n",
       "</style>\n",
       "<table border=\"1\" class=\"dataframe\">\n",
       "  <thead>\n",
       "    <tr style=\"text-align: right;\">\n",
       "      <th></th>\n",
       "      <th>Unnamed: 0</th>\n",
       "      <th>TV</th>\n",
       "      <th>radio</th>\n",
       "      <th>newspaper</th>\n",
       "      <th>sales</th>\n",
       "    </tr>\n",
       "  </thead>\n",
       "  <tbody>\n",
       "    <tr>\n",
       "      <th>Unnamed: 0</th>\n",
       "      <td>1.000000</td>\n",
       "      <td>0.017715</td>\n",
       "      <td>-0.110680</td>\n",
       "      <td>-0.154944</td>\n",
       "      <td>-0.051616</td>\n",
       "    </tr>\n",
       "    <tr>\n",
       "      <th>TV</th>\n",
       "      <td>0.017715</td>\n",
       "      <td>1.000000</td>\n",
       "      <td>0.054809</td>\n",
       "      <td>0.056648</td>\n",
       "      <td>0.782224</td>\n",
       "    </tr>\n",
       "    <tr>\n",
       "      <th>radio</th>\n",
       "      <td>-0.110680</td>\n",
       "      <td>0.054809</td>\n",
       "      <td>1.000000</td>\n",
       "      <td>0.354104</td>\n",
       "      <td>0.576223</td>\n",
       "    </tr>\n",
       "    <tr>\n",
       "      <th>newspaper</th>\n",
       "      <td>-0.154944</td>\n",
       "      <td>0.056648</td>\n",
       "      <td>0.354104</td>\n",
       "      <td>1.000000</td>\n",
       "      <td>0.228299</td>\n",
       "    </tr>\n",
       "    <tr>\n",
       "      <th>sales</th>\n",
       "      <td>-0.051616</td>\n",
       "      <td>0.782224</td>\n",
       "      <td>0.576223</td>\n",
       "      <td>0.228299</td>\n",
       "      <td>1.000000</td>\n",
       "    </tr>\n",
       "  </tbody>\n",
       "</table>\n",
       "</div>"
      ],
      "text/plain": [
       "            Unnamed: 0        TV     radio  newspaper     sales\n",
       "Unnamed: 0    1.000000  0.017715 -0.110680  -0.154944 -0.051616\n",
       "TV            0.017715  1.000000  0.054809   0.056648  0.782224\n",
       "radio        -0.110680  0.054809  1.000000   0.354104  0.576223\n",
       "newspaper    -0.154944  0.056648  0.354104   1.000000  0.228299\n",
       "sales        -0.051616  0.782224  0.576223   0.228299  1.000000"
      ]
     },
     "execution_count": 36,
     "metadata": {},
     "output_type": "execute_result"
    }
   ],
   "source": [
    "ad_corr=ad.corr()\n",
    "ad_corr"
   ]
  },
  {
   "cell_type": "code",
   "execution_count": 37,
   "id": "6b17d3fd",
   "metadata": {},
   "outputs": [
    {
     "data": {
      "text/plain": [
       "<AxesSubplot:>"
      ]
     },
     "execution_count": 37,
     "metadata": {},
     "output_type": "execute_result"
    },
    {
     "data": {
      "image/png": "[encoded data removed]",
      "text/plain": [
       "<Figure size 432x288 with 2 Axes>"
      ]
     },
     "metadata": {
      "needs_background": "light"
     },
     "output_type": "display_data"
    }
   ],
   "source": [
    "sns.heatmap(ad_corr,annot=True)"
   ]
  },
  {
   "cell_type": "code",
   "execution_count": 38,
   "id": "6d9dea30",
   "metadata": {
    "scrolled": true
   },
   "outputs": [
    {
     "data": {
      "text/plain": [
       "Unnamed: 0   -0.051616\n",
       "newspaper     0.228299\n",
       "radio         0.576223\n",
       "TV            0.782224\n",
       "sales         1.000000\n",
       "Name: sales, dtype: float64"
      ]
     },
     "execution_count": 38,
     "metadata": {},
     "output_type": "execute_result"
    }
   ],
   "source": [
    "ad.corr()['sales'].sort_values()"
   ]
  },
  {
   "cell_type": "code",
   "execution_count": 39,
   "id": "8f9d849c",
   "metadata": {},
   "outputs": [
    {
     "data": {
      "text/plain": [
       "<AxesSubplot:>"
      ]
     },
     "execution_count": 39,
     "metadata": {},
     "output_type": "execute_result"
    },
    {
     "data": {
      "image/png": "[encoded data removed]",
      "text/plain": [
       "<Figure size 432x288 with 1 Axes>"
      ]
     },
     "metadata": {
      "needs_background": "light"
     },
     "output_type": "display_data"
    }
   ],
   "source": [
    "ad['TV'].plot.box()"
   ]
  },
  {
   "cell_type": "code",
   "execution_count": 40,
   "id": "84798fad",
   "metadata": {},
   "outputs": [
    {
     "data": {
      "text/plain": [
       "<AxesSubplot:>"
      ]
     },
     "execution_count": 40,
     "metadata": {},
     "output_type": "execute_result"
    },
    {
     "data": {
      "image/png": "[encoded data removed]",
      "text/plain": [
       "<Figure size 432x288 with 1 Axes>"
      ]
     },
     "metadata": {
      "needs_background": "light"
     },
     "output_type": "display_data"
    }
   ],
   "source": [
    "ad['radio'].plot.box()"
   ]
  },
  {
   "cell_type": "code",
   "execution_count": 41,
   "id": "267eddd7",
   "metadata": {},
   "outputs": [
    {
     "data": {
      "text/plain": [
       "<AxesSubplot:>"
      ]
     },
     "execution_count": 41,
     "metadata": {},
     "output_type": "execute_result"
    },
    {
     "data": {
      "image/png": "[encoded data removed]",
      "text/plain": [
       "<Figure size 432x288 with 1 Axes>"
      ]
     },
     "metadata": {
      "needs_background": "light"
     },
     "output_type": "display_data"
    }
   ],
   "source": [
    "ad['newspaper'].plot.box()"
   ]
  },
  {
   "cell_type": "code",
   "execution_count": 42,
   "id": "e39e4ded",
   "metadata": {},
   "outputs": [
    {
     "data": {
      "text/plain": [
       "<AxesSubplot:>"
      ]
     },
     "execution_count": 42,
     "metadata": {},
     "output_type": "execute_result"
    },
    {
     "data": {
      "image/png": "[encoded data removed]",
      "text/plain": [
       "<Figure size 432x288 with 1 Axes>"
      ]
     },
     "metadata": {
      "needs_background": "light"
     },
     "output_type": "display_data"
    }
   ],
   "source": [
    "ad['sales'].plot.box()"
   ]
  },
  {
   "cell_type": "code",
   "execution_count": 43,
   "id": "da489092",
   "metadata": {},
   "outputs": [
    {
     "data": {
      "text/plain": [
       "Unnamed: 0    0.000000\n",
       "TV           -0.069853\n",
       "radio         0.094175\n",
       "newspaper     0.894720\n",
       "sales         0.407571\n",
       "dtype: float64"
      ]
     },
     "execution_count": 43,
     "metadata": {},
     "output_type": "execute_result"
    }
   ],
   "source": [
    "ad.skew()"
   ]
  },
  {
   "cell_type": "code",
   "execution_count": 44,
   "id": "2a165873",
   "metadata": {},
   "outputs": [
    {
     "data": {
      "text/plain": [
       "<AxesSubplot:xlabel='newspaper', ylabel='Density'>"
      ]
     },
     "execution_count": 44,
     "metadata": {},
     "output_type": "execute_result"
    },
    {
     "data": {
      "image/png": "[encoded data removed]",
      "text/plain": [
       "<Figure size 432x288 with 1 Axes>"
      ]
     },
     "metadata": {
      "needs_background": "light"
     },
     "output_type": "display_data"
    }
   ],
   "source": [
    "sns.distplot(ad['newspaper'])"
   ]
  },
  {
   "cell_type": "code",
   "execution_count": 45,
   "id": "5088e915",
   "metadata": {},
   "outputs": [
    {
     "data": {
      "text/plain": [
       "<AxesSubplot:xlabel='TV', ylabel='Density'>"
      ]
     },
     "execution_count": 45,
     "metadata": {},
     "output_type": "execute_result"
    },
    {
     "data": {
      "image/png": "[encoded data removed]",
      "text/plain": [
       "<Figure size 432x288 with 1 Axes>"
      ]
     },
     "metadata": {
      "needs_background": "light"
     },
     "output_type": "display_data"
    }
   ],
   "source": [
    "sns.distplot(ad['TV'])"
   ]
  },
  {
   "cell_type": "code",
   "execution_count": 46,
   "id": "a7165c97",
   "metadata": {},
   "outputs": [
    {
     "data": {
      "text/plain": [
       "<AxesSubplot:xlabel='radio', ylabel='Density'>"
      ]
     },
     "execution_count": 46,
     "metadata": {},
     "output_type": "execute_result"
    },
    {
     "data": {
      "image/png": "[encoded data removed]",
      "text/plain": [
       "<Figure size 432x288 with 1 Axes>"
      ]
     },
     "metadata": {
      "needs_background": "light"
     },
     "output_type": "display_data"
    }
   ],
   "source": [
    "sns.distplot(ad['radio'])"
   ]
  },
  {
   "cell_type": "code",
   "execution_count": 47,
   "id": "028dabc0",
   "metadata": {},
   "outputs": [],
   "source": [
    "x = ad.iloc[:,1:4]\n",
    "y = ad.iloc[:,-1]\n"
   ]
  },
  {
   "cell_type": "code",
   "execution_count": 48,
   "id": "6a7bc2dd",
   "metadata": {},
   "outputs": [],
   "source": [
    "x_train,x_test,y_train,y_test=train_test_split(x,y,test_size=.20,random_state=43)"
   ]
  },
  {
   "cell_type": "markdown",
   "id": "dc12b430",
   "metadata": {},
   "source": [
    "# LinearRegression"
   ]
  },
  {
   "cell_type": "code",
   "execution_count": 49,
   "id": "7ce1f490",
   "metadata": {},
   "outputs": [
    {
     "name": "stdout",
     "output_type": "stream",
     "text": [
      "Predicted results price: [ 8.54034679 15.57247463 12.00612144  9.67279861 11.42385092 18.55293488\n",
      " 24.02278242  7.05365828 22.12551494 16.72065638  7.85081793 23.11509395\n",
      " 19.18719498  5.40127091 15.23576551  9.90642579 11.94342451  9.81855823\n",
      " 21.14401409  9.1534307  20.44468759 12.29808365 13.5869414  10.57031008\n",
      " 16.26513055  7.86253245 20.69472029 20.35016487  9.00527669 14.11934464\n",
      " 17.20367735 15.11272068 17.23013018 19.08466691 17.13277712 12.31707038\n",
      " 12.73960467  6.07982336 10.01695956 13.32737828]\n",
      "actual price  56      5.5\n",
      "37     14.7\n",
      "67     13.4\n",
      "79     11.0\n",
      "80     11.8\n",
      "188    15.9\n",
      "183    26.2\n",
      "10      8.6\n",
      "128    24.7\n",
      "62     15.7\n",
      "65      9.3\n",
      "17     24.4\n",
      "133    19.6\n",
      "195     7.6\n",
      "146    13.2\n",
      "38     10.1\n",
      "173    11.7\n",
      "149    10.1\n",
      "93     22.2\n",
      "29     10.5\n",
      "0      22.1\n",
      "2       9.3\n",
      "122    11.6\n",
      "180    10.5\n",
      "95     16.9\n",
      "121     7.0\n",
      "185    22.6\n",
      "39     21.5\n",
      "66      9.5\n",
      "19     14.6\n",
      "11     17.4\n",
      "45     14.9\n",
      "41     17.1\n",
      "92     19.4\n",
      "168    17.1\n",
      "1      10.4\n",
      "57     13.2\n",
      "189     6.7\n",
      "151    11.6\n",
      "167    12.2\n",
      "Name: sales, dtype: float64\n"
     ]
    }
   ],
   "source": [
    "from sklearn.linear_model import LinearRegression\n",
    "lr = LinearRegression()\n",
    "lr.fit(x_train,y_train)\n",
    "pred = lr.predict(x_test)\n",
    "\n",
    "print(\"Predicted results price:\",pred)\n",
    "print(\"actual price \",y_test)"
   ]
  },
  {
   "cell_type": "markdown",
   "id": "8fa1c524",
   "metadata": {},
   "source": [
    "# Error:"
   ]
  },
  {
   "cell_type": "code",
   "execution_count": 50,
   "id": "f702badd",
   "metadata": {},
   "outputs": [
    {
     "name": "stdout",
     "output_type": "stream",
     "text": [
      "Mean absolute error: 1.1579489313567053\n",
      "Mean squared error : 2.055024793441357\n",
      "Root Mean Squared Error: 1.433535766362792\n"
     ]
    }
   ],
   "source": [
    "print('Mean absolute error:',mean_absolute_error(y_test,pred))\n",
    "print('Mean squared error :',mean_squared_error(y_test,pred))\n",
    "print('Root Mean Squared Error:',np.sqrt(mean_squared_error(y_test,pred)))"
   ]
  },
  {
   "cell_type": "markdown",
   "id": "b157d811",
   "metadata": {},
   "source": [
    "# SVR"
   ]
  },
  {
   "cell_type": "code",
   "execution_count": 51,
   "id": "23c0fa0e",
   "metadata": {},
   "outputs": [
    {
     "name": "stdout",
     "output_type": "stream",
     "text": [
      "Predicted results price: [ 7.69749242 13.5562022  12.9926591  11.52404225 11.38877488 16.67586878\n",
      " 19.75548246  9.07678054 19.470906   16.70176037  9.35371887 19.72169614\n",
      " 18.74237608  7.61635356 15.3552679   9.43403595 13.14453766  9.35538401\n",
      " 19.50932094 10.35012528 19.47458558  9.50795236 14.4295584  12.12010226\n",
      " 16.87837294  7.99023028 19.24216562 19.19346986  8.56161801 14.64747502\n",
      " 16.57251747 15.78328982 17.39586392 18.80215115 17.56103292 10.53035317\n",
      " 13.56477346  7.2648137  12.29922772 14.30373859]\n",
      "actual price  56      5.5\n",
      "37     14.7\n",
      "67     13.4\n",
      "79     11.0\n",
      "80     11.8\n",
      "188    15.9\n",
      "183    26.2\n",
      "10      8.6\n",
      "128    24.7\n",
      "62     15.7\n",
      "65      9.3\n",
      "17     24.4\n",
      "133    19.6\n",
      "195     7.6\n",
      "146    13.2\n",
      "38     10.1\n",
      "173    11.7\n",
      "149    10.1\n",
      "93     22.2\n",
      "29     10.5\n",
      "0      22.1\n",
      "2       9.3\n",
      "122    11.6\n",
      "180    10.5\n",
      "95     16.9\n",
      "121     7.0\n",
      "185    22.6\n",
      "39     21.5\n",
      "66      9.5\n",
      "19     14.6\n",
      "11     17.4\n",
      "45     14.9\n",
      "41     17.1\n",
      "92     19.4\n",
      "168    17.1\n",
      "1      10.4\n",
      "57     13.2\n",
      "189     6.7\n",
      "151    11.6\n",
      "167    12.2\n",
      "Name: sales, dtype: float64\n"
     ]
    }
   ],
   "source": [
    "from sklearn.svm import SVR\n",
    "svr = SVR()\n",
    "svr.fit(x_train,y_train)\n",
    "pred1=svr.predict(x_test)\n",
    "print(\"Predicted results price:\",pred1)\n",
    "print(\"actual price \",y_test)"
   ]
  },
  {
   "cell_type": "markdown",
   "id": "e136af65",
   "metadata": {},
   "source": [
    "# RandomForestRegressor"
   ]
  },
  {
   "cell_type": "code",
   "execution_count": 52,
   "id": "050fab5b",
   "metadata": {},
   "outputs": [
    {
     "name": "stdout",
     "output_type": "stream",
     "text": [
      "Predicted results price: [ 6.02  13.974 12.758 11.013 12.017 15.317 25.064  9.504 23.192 15.354\n",
      "  9.88  23.394 19.734  8.48  12.793 10.276 12.139 10.047 22.145 11.371\n",
      " 21.388  8.104 11.187 10.728 17.735  7.357 21.963 20.972  7.42  15.463\n",
      " 17.169 15.91  18.53  19.271 16.926 10.981 13.525  6.701 11.624 11.977]\n",
      "actual price  56      5.5\n",
      "37     14.7\n",
      "67     13.4\n",
      "79     11.0\n",
      "80     11.8\n",
      "188    15.9\n",
      "183    26.2\n",
      "10      8.6\n",
      "128    24.7\n",
      "62     15.7\n",
      "65      9.3\n",
      "17     24.4\n",
      "133    19.6\n",
      "195     7.6\n",
      "146    13.2\n",
      "38     10.1\n",
      "173    11.7\n",
      "149    10.1\n",
      "93     22.2\n",
      "29     10.5\n",
      "0      22.1\n",
      "2       9.3\n",
      "122    11.6\n",
      "180    10.5\n",
      "95     16.9\n",
      "121     7.0\n",
      "185    22.6\n",
      "39     21.5\n",
      "66      9.5\n",
      "19     14.6\n",
      "11     17.4\n",
      "45     14.9\n",
      "41     17.1\n",
      "92     19.4\n",
      "168    17.1\n",
      "1      10.4\n",
      "57     13.2\n",
      "189     6.7\n",
      "151    11.6\n",
      "167    12.2\n",
      "Name: sales, dtype: float64\n"
     ]
    }
   ],
   "source": [
    "from sklearn.ensemble import RandomForestRegressor\n",
    "rm = RandomForestRegressor()\n",
    "rm.fit(x_train, y_train)\n",
    "pred1 = rm.predict(x_test)\n",
    "print(\"Predicted results price:\",pred1)\n",
    "print(\"actual price \",y_test)"
   ]
  },
  {
   "cell_type": "markdown",
   "id": "d05e1e04",
   "metadata": {},
   "source": [
    "# DecisionTreeRegressor"
   ]
  },
  {
   "cell_type": "code",
   "execution_count": 53,
   "id": "9d7291e6",
   "metadata": {},
   "outputs": [
    {
     "name": "stdout",
     "output_type": "stream",
     "text": [
      "Predicted results price: [12.2  9.6  3.2 11.3 14.4 12.2 14.5  9.2 23.7 14.2  5.6  9.7 19.2 14.8\n",
      " 12.9 10.6 22.4 16.1  6.9  6.6 12.4 11.2 11.7  8.5 11.5 20.2 20.1 15.9\n",
      " 21.2 18.  21.4 14.6  7.6 15.  11.4  5.9 12.6 17.6 13.4 19.8 12.6 25.4\n",
      " 15.5 22.3 13.3 11.5  8.7  8.8 12.9  1.6 11.7 12.  23.8 11.3 10.8 11.9\n",
      " 11.4 10.9 10.9 10.4 15.  12.   9.5 12.9 20.8 10.6 12.9 11.9 20.2 20.7\n",
      " 10.3  4.8  9.7  7.2 17.4 12.3 11.9 18.4  8.  14.7 14.   5.3  5.3 19.7\n",
      " 17.3 19.2 12.8 20.7 16.6  6.6 16.6 10.8 13.6 19.  15.2 27.   9.9 10.6\n",
      " 11.8 25.4  9.7 18.3  8.7 12.7 15.5 22.6  7.2 19.6 15.3 17.2 18.  13.2\n",
      " 15.9 17.   9.7 15.6 15.9 10.1 19.  18.5 20.7 23.2 21.7 24.2 11.6  8.4\n",
      " 18.9 15.5 14.8 14.9 11.  14.1  8.1  9.6 11.7 25.4  5.7  9.4  8.7  9.5\n",
      " 21.8 16.7 15.2 11.8  8.8 12.8 25.5 16.   7.3 13.4  7.3 17.3 10.3 10.7\n",
      " 12.5 23.8 12.5  9.7 18.  18.9]\n",
      "actual price  56      5.5\n",
      "37     14.7\n",
      "67     13.4\n",
      "79     11.0\n",
      "80     11.8\n",
      "188    15.9\n",
      "183    26.2\n",
      "10      8.6\n",
      "128    24.7\n",
      "62     15.7\n",
      "65      9.3\n",
      "17     24.4\n",
      "133    19.6\n",
      "195     7.6\n",
      "146    13.2\n",
      "38     10.1\n",
      "173    11.7\n",
      "149    10.1\n",
      "93     22.2\n",
      "29     10.5\n",
      "0      22.1\n",
      "2       9.3\n",
      "122    11.6\n",
      "180    10.5\n",
      "95     16.9\n",
      "121     7.0\n",
      "185    22.6\n",
      "39     21.5\n",
      "66      9.5\n",
      "19     14.6\n",
      "11     17.4\n",
      "45     14.9\n",
      "41     17.1\n",
      "92     19.4\n",
      "168    17.1\n",
      "1      10.4\n",
      "57     13.2\n",
      "189     6.7\n",
      "151    11.6\n",
      "167    12.2\n",
      "Name: sales, dtype: float64\n"
     ]
    }
   ],
   "source": [
    "from sklearn.tree import DecisionTreeRegressor\n",
    "tr = DecisionTreeRegressor()\n",
    "tr.fit(x_train, y_train)\n",
    "pred2 = tr.predict(x_train)\n",
    "print(\"Predicted results price:\",pred2)\n",
    "print(\"actual price \",y_test)"
   ]
  },
  {
   "cell_type": "markdown",
   "id": "0cf14910",
   "metadata": {},
   "source": [
    "# cross validation"
   ]
  },
  {
   "cell_type": "code",
   "execution_count": 55,
   "id": "f485e65e",
   "metadata": {},
   "outputs": [
    {
     "name": "stdout",
     "output_type": "stream",
     "text": [
      "[0.87865198 0.91763212 0.92933032 0.81443904 0.89547829]\n",
      "0.8871063495438436\n",
      "0.04034052587780586\n"
     ]
    }
   ],
   "source": [
    "from sklearn.model_selection import cross_val_score\n",
    "score=cross_val_score(lr,x,y, cv=5)\n",
    "print(score)\n",
    "print(score.mean())\n",
    "print(score.std())"
   ]
  },
  {
   "cell_type": "markdown",
   "id": "a55466ed",
   "metadata": {},
   "source": [
    "# saving model"
   ]
  },
  {
   "cell_type": "code",
   "execution_count": 56,
   "id": "d8a17b5e",
   "metadata": {},
   "outputs": [
    {
     "data": {
      "text/plain": [
       "['adv.pkl']"
      ]
     },
     "execution_count": 56,
     "metadata": {},
     "output_type": "execute_result"
    }
   ],
   "source": [
    "import joblib\n",
    "joblib.dump(lr,'adv.pkl')"
   ]
  }
 ],
 "metadata": {
  "kernelspec": {
   "display_name": "Python 3",
   "language": "python",
   "name": "python3"
  },
  "language_info": {
   "codemirror_mode": {
    "name": "ipython",
    "version": 3
   },
   "file_extension": ".py",
   "mimetype": "text/x-python",
   "name": "python",
   "nbconvert_exporter": "python",
   "pygments_lexer": "ipython3",
   "version": "3.8.8"
  }
 },
 "nbformat": 4,
 "nbformat_minor": 5
}
