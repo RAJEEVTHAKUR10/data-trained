{
 "cells": [
  {
   "cell_type": "markdown",
   "id": "4806f3e1",
   "metadata": {},
   "source": [
    "## Rain Prediction"
   ]
  },
  {
   "cell_type": "code",
   "execution_count": 1,
   "id": "6b56196b",
   "metadata": {},
   "outputs": [],
   "source": [
    "# Import Liabraries\n",
    "import pandas as pd\n",
    "import numpy as np\n",
    "import seaborn as sns\n",
    "import matplotlib.pyplot as plt\n",
    "from sklearn.model_selection import train_test_split\n",
    "from sklearn.linear_model import LogisticRegression\n",
    "from sklearn.naive_bayes import GaussianNB\n",
    "from sklearn.svm import SVC\n",
    "from sklearn.ensemble import RandomForestClassifier\n",
    "from sklearn.metrics import accuracy_score,confusion_matrix,classification_report\n",
    "from sklearn.model_selection import  cross_val_score\n",
    "\n",
    "import warnings\n",
    "warnings.filterwarnings('ignore')"
   ]
  },
  {
   "cell_type": "code",
   "execution_count": 2,
   "id": "4d73b14f",
   "metadata": {},
   "outputs": [
    {
     "data": {
      "text/html": [
       "<div>\n",
       "<style scoped>\n",
       "    .dataframe tbody tr th:only-of-type {\n",
       "        vertical-align: middle;\n",
       "    }\n",
       "\n",
       "    .dataframe tbody tr th {\n",
       "        vertical-align: top;\n",
       "    }\n",
       "\n",
       "    .dataframe thead th {\n",
       "        text-align: right;\n",
       "    }\n",
       "</style>\n",
       "<table border=\"1\" class=\"dataframe\">\n",
       "  <thead>\n",
       "    <tr style=\"text-align: right;\">\n",
       "      <th></th>\n",
       "      <th>Date</th>\n",
       "      <th>Location</th>\n",
       "      <th>MinTemp</th>\n",
       "      <th>MaxTemp</th>\n",
       "      <th>Rainfall</th>\n",
       "      <th>Evaporation</th>\n",
       "      <th>Sunshine</th>\n",
       "      <th>WindGustDir</th>\n",
       "      <th>WindGustSpeed</th>\n",
       "      <th>WindDir9am</th>\n",
       "      <th>...</th>\n",
       "      <th>Humidity9am</th>\n",
       "      <th>Humidity3pm</th>\n",
       "      <th>Pressure9am</th>\n",
       "      <th>Pressure3pm</th>\n",
       "      <th>Cloud9am</th>\n",
       "      <th>Cloud3pm</th>\n",
       "      <th>Temp9am</th>\n",
       "      <th>Temp3pm</th>\n",
       "      <th>RainToday</th>\n",
       "      <th>RainTomorrow</th>\n",
       "    </tr>\n",
       "  </thead>\n",
       "  <tbody>\n",
       "    <tr>\n",
       "      <th>0</th>\n",
       "      <td>2008-12-01</td>\n",
       "      <td>Albury</td>\n",
       "      <td>13.4</td>\n",
       "      <td>22.9</td>\n",
       "      <td>0.6</td>\n",
       "      <td>NaN</td>\n",
       "      <td>NaN</td>\n",
       "      <td>W</td>\n",
       "      <td>44.0</td>\n",
       "      <td>W</td>\n",
       "      <td>...</td>\n",
       "      <td>71.0</td>\n",
       "      <td>22.0</td>\n",
       "      <td>1007.7</td>\n",
       "      <td>1007.1</td>\n",
       "      <td>8.0</td>\n",
       "      <td>NaN</td>\n",
       "      <td>16.9</td>\n",
       "      <td>21.8</td>\n",
       "      <td>No</td>\n",
       "      <td>No</td>\n",
       "    </tr>\n",
       "    <tr>\n",
       "      <th>1</th>\n",
       "      <td>2008-12-02</td>\n",
       "      <td>Albury</td>\n",
       "      <td>7.4</td>\n",
       "      <td>25.1</td>\n",
       "      <td>0.0</td>\n",
       "      <td>NaN</td>\n",
       "      <td>NaN</td>\n",
       "      <td>WNW</td>\n",
       "      <td>44.0</td>\n",
       "      <td>NNW</td>\n",
       "      <td>...</td>\n",
       "      <td>44.0</td>\n",
       "      <td>25.0</td>\n",
       "      <td>1010.6</td>\n",
       "      <td>1007.8</td>\n",
       "      <td>NaN</td>\n",
       "      <td>NaN</td>\n",
       "      <td>17.2</td>\n",
       "      <td>24.3</td>\n",
       "      <td>No</td>\n",
       "      <td>No</td>\n",
       "    </tr>\n",
       "    <tr>\n",
       "      <th>2</th>\n",
       "      <td>2008-12-03</td>\n",
       "      <td>Albury</td>\n",
       "      <td>12.9</td>\n",
       "      <td>25.7</td>\n",
       "      <td>0.0</td>\n",
       "      <td>NaN</td>\n",
       "      <td>NaN</td>\n",
       "      <td>WSW</td>\n",
       "      <td>46.0</td>\n",
       "      <td>W</td>\n",
       "      <td>...</td>\n",
       "      <td>38.0</td>\n",
       "      <td>30.0</td>\n",
       "      <td>1007.6</td>\n",
       "      <td>1008.7</td>\n",
       "      <td>NaN</td>\n",
       "      <td>2.0</td>\n",
       "      <td>21.0</td>\n",
       "      <td>23.2</td>\n",
       "      <td>No</td>\n",
       "      <td>No</td>\n",
       "    </tr>\n",
       "    <tr>\n",
       "      <th>3</th>\n",
       "      <td>2008-12-04</td>\n",
       "      <td>Albury</td>\n",
       "      <td>9.2</td>\n",
       "      <td>28.0</td>\n",
       "      <td>0.0</td>\n",
       "      <td>NaN</td>\n",
       "      <td>NaN</td>\n",
       "      <td>NE</td>\n",
       "      <td>24.0</td>\n",
       "      <td>SE</td>\n",
       "      <td>...</td>\n",
       "      <td>45.0</td>\n",
       "      <td>16.0</td>\n",
       "      <td>1017.6</td>\n",
       "      <td>1012.8</td>\n",
       "      <td>NaN</td>\n",
       "      <td>NaN</td>\n",
       "      <td>18.1</td>\n",
       "      <td>26.5</td>\n",
       "      <td>No</td>\n",
       "      <td>No</td>\n",
       "    </tr>\n",
       "    <tr>\n",
       "      <th>4</th>\n",
       "      <td>2008-12-05</td>\n",
       "      <td>Albury</td>\n",
       "      <td>17.5</td>\n",
       "      <td>32.3</td>\n",
       "      <td>1.0</td>\n",
       "      <td>NaN</td>\n",
       "      <td>NaN</td>\n",
       "      <td>W</td>\n",
       "      <td>41.0</td>\n",
       "      <td>ENE</td>\n",
       "      <td>...</td>\n",
       "      <td>82.0</td>\n",
       "      <td>33.0</td>\n",
       "      <td>1010.8</td>\n",
       "      <td>1006.0</td>\n",
       "      <td>7.0</td>\n",
       "      <td>8.0</td>\n",
       "      <td>17.8</td>\n",
       "      <td>29.7</td>\n",
       "      <td>No</td>\n",
       "      <td>No</td>\n",
       "    </tr>\n",
       "  </tbody>\n",
       "</table>\n",
       "<p>5 rows × 23 columns</p>\n",
       "</div>"
      ],
      "text/plain": [
       "         Date Location  MinTemp  MaxTemp  Rainfall  Evaporation  Sunshine  \\\n",
       "0  2008-12-01   Albury     13.4     22.9       0.6          NaN       NaN   \n",
       "1  2008-12-02   Albury      7.4     25.1       0.0          NaN       NaN   \n",
       "2  2008-12-03   Albury     12.9     25.7       0.0          NaN       NaN   \n",
       "3  2008-12-04   Albury      9.2     28.0       0.0          NaN       NaN   \n",
       "4  2008-12-05   Albury     17.5     32.3       1.0          NaN       NaN   \n",
       "\n",
       "  WindGustDir  WindGustSpeed WindDir9am  ... Humidity9am  Humidity3pm  \\\n",
       "0           W           44.0          W  ...        71.0         22.0   \n",
       "1         WNW           44.0        NNW  ...        44.0         25.0   \n",
       "2         WSW           46.0          W  ...        38.0         30.0   \n",
       "3          NE           24.0         SE  ...        45.0         16.0   \n",
       "4           W           41.0        ENE  ...        82.0         33.0   \n",
       "\n",
       "   Pressure9am  Pressure3pm  Cloud9am  Cloud3pm  Temp9am  Temp3pm  RainToday  \\\n",
       "0       1007.7       1007.1       8.0       NaN     16.9     21.8         No   \n",
       "1       1010.6       1007.8       NaN       NaN     17.2     24.3         No   \n",
       "2       1007.6       1008.7       NaN       2.0     21.0     23.2         No   \n",
       "3       1017.6       1012.8       NaN       NaN     18.1     26.5         No   \n",
       "4       1010.8       1006.0       7.0       8.0     17.8     29.7         No   \n",
       "\n",
       "   RainTomorrow  \n",
       "0            No  \n",
       "1            No  \n",
       "2            No  \n",
       "3            No  \n",
       "4            No  \n",
       "\n",
       "[5 rows x 23 columns]"
      ]
     },
     "execution_count": 2,
     "metadata": {},
     "output_type": "execute_result"
    }
   ],
   "source": [
    "# Load the dataset into df\n",
    "df = pd.read_csv('rain.csv')\n",
    "df.head()"
   ]
  },
  {
   "cell_type": "code",
   "execution_count": 3,
   "id": "d73ee733",
   "metadata": {},
   "outputs": [
    {
     "data": {
      "text/plain": [
       "(8425, 23)"
      ]
     },
     "execution_count": 3,
     "metadata": {},
     "output_type": "execute_result"
    }
   ],
   "source": [
    "# checking the data dimension\n",
    "df.shape"
   ]
  },
  {
   "cell_type": "code",
   "execution_count": 4,
   "id": "7f6ce3cb",
   "metadata": {},
   "outputs": [
    {
     "data": {
      "text/plain": [
       "Date              object\n",
       "Location          object\n",
       "MinTemp          float64\n",
       "MaxTemp          float64\n",
       "Rainfall         float64\n",
       "Evaporation      float64\n",
       "Sunshine         float64\n",
       "WindGustDir       object\n",
       "WindGustSpeed    float64\n",
       "WindDir9am        object\n",
       "WindDir3pm        object\n",
       "WindSpeed9am     float64\n",
       "WindSpeed3pm     float64\n",
       "Humidity9am      float64\n",
       "Humidity3pm      float64\n",
       "Pressure9am      float64\n",
       "Pressure3pm      float64\n",
       "Cloud9am         float64\n",
       "Cloud3pm         float64\n",
       "Temp9am          float64\n",
       "Temp3pm          float64\n",
       "RainToday         object\n",
       "RainTomorrow      object\n",
       "dtype: object"
      ]
     },
     "execution_count": 4,
     "metadata": {},
     "output_type": "execute_result"
    }
   ],
   "source": [
    "# checking the DataType\n",
    "df.dtypes"
   ]
  },
  {
   "cell_type": "markdown",
   "id": "5beb7612",
   "metadata": {},
   "source": [
    "# Describing the attribute"
   ]
  },
  {
   "cell_type": "code",
   "execution_count": 5,
   "id": "41a598e0",
   "metadata": {},
   "outputs": [
    {
     "name": "stdout",
     "output_type": "stream",
     "text": [
      "<class 'pandas.core.frame.DataFrame'>\n",
      "RangeIndex: 8425 entries, 0 to 8424\n",
      "Data columns (total 23 columns):\n",
      " #   Column         Non-Null Count  Dtype  \n",
      "---  ------         --------------  -----  \n",
      " 0   Date           8425 non-null   object \n",
      " 1   Location       8425 non-null   object \n",
      " 2   MinTemp        8350 non-null   float64\n",
      " 3   MaxTemp        8365 non-null   float64\n",
      " 4   Rainfall       8185 non-null   float64\n",
      " 5   Evaporation    4913 non-null   float64\n",
      " 6   Sunshine       4431 non-null   float64\n",
      " 7   WindGustDir    7434 non-null   object \n",
      " 8   WindGustSpeed  7434 non-null   float64\n",
      " 9   WindDir9am     7596 non-null   object \n",
      " 10  WindDir3pm     8117 non-null   object \n",
      " 11  WindSpeed9am   8349 non-null   float64\n",
      " 12  WindSpeed3pm   8318 non-null   float64\n",
      " 13  Humidity9am    8366 non-null   float64\n",
      " 14  Humidity3pm    8323 non-null   float64\n",
      " 15  Pressure9am    7116 non-null   float64\n",
      " 16  Pressure3pm    7113 non-null   float64\n",
      " 17  Cloud9am       6004 non-null   float64\n",
      " 18  Cloud3pm       5970 non-null   float64\n",
      " 19  Temp9am        8369 non-null   float64\n",
      " 20  Temp3pm        8329 non-null   float64\n",
      " 21  RainToday      8185 non-null   object \n",
      " 22  RainTomorrow   8186 non-null   object \n",
      "dtypes: float64(16), object(7)\n",
      "memory usage: 1.5+ MB\n"
     ]
    }
   ],
   "source": [
    "df.info()"
   ]
  },
  {
   "cell_type": "markdown",
   "id": "89b1027e",
   "metadata": {},
   "source": [
    "## checking the null values"
   ]
  },
  {
   "cell_type": "code",
   "execution_count": 6,
   "id": "5a5b5008",
   "metadata": {},
   "outputs": [
    {
     "data": {
      "text/plain": [
       "Date                0\n",
       "Location            0\n",
       "MinTemp            75\n",
       "MaxTemp            60\n",
       "Rainfall          240\n",
       "Evaporation      3512\n",
       "Sunshine         3994\n",
       "WindGustDir       991\n",
       "WindGustSpeed     991\n",
       "WindDir9am        829\n",
       "WindDir3pm        308\n",
       "WindSpeed9am       76\n",
       "WindSpeed3pm      107\n",
       "Humidity9am        59\n",
       "Humidity3pm       102\n",
       "Pressure9am      1309\n",
       "Pressure3pm      1312\n",
       "Cloud9am         2421\n",
       "Cloud3pm         2455\n",
       "Temp9am            56\n",
       "Temp3pm            96\n",
       "RainToday         240\n",
       "RainTomorrow      239\n",
       "dtype: int64"
      ]
     },
     "execution_count": 6,
     "metadata": {},
     "output_type": "execute_result"
    }
   ],
   "source": [
    "df.isnull().sum()"
   ]
  },
  {
   "cell_type": "code",
   "execution_count": 7,
   "id": "55d49896",
   "metadata": {},
   "outputs": [
    {
     "data": {
      "text/plain": [
       "<AxesSubplot:>"
      ]
     },
     "execution_count": 7,
     "metadata": {},
     "output_type": "execute_result"
    },
    {
     "data": {
      "image/png": "[encoded data removed]",
      "text/plain": [
       "<Figure size 432x288 with 2 Axes>"
      ]
     },
     "metadata": {
      "needs_background": "light"
     },
     "output_type": "display_data"
    }
   ],
   "source": [
    "sns.heatmap(df.isnull())"
   ]
  },
  {
   "cell_type": "markdown",
   "id": "f5bb4e89",
   "metadata": {},
   "source": [
    "There are huge null values"
   ]
  },
  {
   "cell_type": "markdown",
   "id": "19be8ae4",
   "metadata": {},
   "source": [
    "# Unique values"
   ]
  },
  {
   "cell_type": "code",
   "execution_count": 8,
   "id": "f392b05e",
   "metadata": {},
   "outputs": [
    {
     "data": {
      "text/plain": [
       "Date             3004\n",
       "Location           12\n",
       "MinTemp           285\n",
       "MaxTemp           331\n",
       "Rainfall          250\n",
       "Evaporation       116\n",
       "Sunshine          140\n",
       "WindGustDir        16\n",
       "WindGustSpeed      52\n",
       "WindDir9am         16\n",
       "WindDir3pm         16\n",
       "WindSpeed9am       34\n",
       "WindSpeed3pm       35\n",
       "Humidity9am        90\n",
       "Humidity3pm        94\n",
       "Pressure9am       384\n",
       "Pressure3pm       374\n",
       "Cloud9am            9\n",
       "Cloud3pm            9\n",
       "Temp9am           304\n",
       "Temp3pm           328\n",
       "RainToday           2\n",
       "RainTomorrow        2\n",
       "dtype: int64"
      ]
     },
     "execution_count": 8,
     "metadata": {},
     "output_type": "execute_result"
    }
   ],
   "source": [
    "df.nunique()"
   ]
  },
  {
   "cell_type": "markdown",
   "id": "8cfd0678",
   "metadata": {},
   "source": [
    "## Statistcal Summary"
   ]
  },
  {
   "cell_type": "code",
   "execution_count": 9,
   "id": "ad364b56",
   "metadata": {},
   "outputs": [
    {
     "data": {
      "text/html": [
       "<div>\n",
       "<style scoped>\n",
       "    .dataframe tbody tr th:only-of-type {\n",
       "        vertical-align: middle;\n",
       "    }\n",
       "\n",
       "    .dataframe tbody tr th {\n",
       "        vertical-align: top;\n",
       "    }\n",
       "\n",
       "    .dataframe thead th {\n",
       "        text-align: right;\n",
       "    }\n",
       "</style>\n",
       "<table border=\"1\" class=\"dataframe\">\n",
       "  <thead>\n",
       "    <tr style=\"text-align: right;\">\n",
       "      <th></th>\n",
       "      <th>MinTemp</th>\n",
       "      <th>MaxTemp</th>\n",
       "      <th>Rainfall</th>\n",
       "      <th>Evaporation</th>\n",
       "      <th>Sunshine</th>\n",
       "      <th>WindGustSpeed</th>\n",
       "      <th>WindSpeed9am</th>\n",
       "      <th>WindSpeed3pm</th>\n",
       "      <th>Humidity9am</th>\n",
       "      <th>Humidity3pm</th>\n",
       "      <th>Pressure9am</th>\n",
       "      <th>Pressure3pm</th>\n",
       "      <th>Cloud9am</th>\n",
       "      <th>Cloud3pm</th>\n",
       "      <th>Temp9am</th>\n",
       "      <th>Temp3pm</th>\n",
       "    </tr>\n",
       "  </thead>\n",
       "  <tbody>\n",
       "    <tr>\n",
       "      <th>count</th>\n",
       "      <td>8350.000000</td>\n",
       "      <td>8365.000000</td>\n",
       "      <td>8185.000000</td>\n",
       "      <td>4913.000000</td>\n",
       "      <td>4431.000000</td>\n",
       "      <td>7434.000000</td>\n",
       "      <td>8349.000000</td>\n",
       "      <td>8318.000000</td>\n",
       "      <td>8366.000000</td>\n",
       "      <td>8323.000000</td>\n",
       "      <td>7116.000000</td>\n",
       "      <td>7113.000000</td>\n",
       "      <td>6004.000000</td>\n",
       "      <td>5970.000000</td>\n",
       "      <td>8369.000000</td>\n",
       "      <td>8329.000000</td>\n",
       "    </tr>\n",
       "    <tr>\n",
       "      <th>mean</th>\n",
       "      <td>13.193305</td>\n",
       "      <td>23.859976</td>\n",
       "      <td>2.805913</td>\n",
       "      <td>5.389395</td>\n",
       "      <td>7.632205</td>\n",
       "      <td>40.174469</td>\n",
       "      <td>13.847646</td>\n",
       "      <td>18.533662</td>\n",
       "      <td>67.822496</td>\n",
       "      <td>51.249790</td>\n",
       "      <td>1017.640233</td>\n",
       "      <td>1015.236075</td>\n",
       "      <td>4.566622</td>\n",
       "      <td>4.503183</td>\n",
       "      <td>17.762015</td>\n",
       "      <td>22.442934</td>\n",
       "    </tr>\n",
       "    <tr>\n",
       "      <th>std</th>\n",
       "      <td>5.403596</td>\n",
       "      <td>6.136408</td>\n",
       "      <td>10.459379</td>\n",
       "      <td>5.044484</td>\n",
       "      <td>3.896235</td>\n",
       "      <td>14.665721</td>\n",
       "      <td>10.174579</td>\n",
       "      <td>9.766986</td>\n",
       "      <td>16.833283</td>\n",
       "      <td>18.423774</td>\n",
       "      <td>6.828699</td>\n",
       "      <td>6.766681</td>\n",
       "      <td>2.877658</td>\n",
       "      <td>2.731659</td>\n",
       "      <td>5.627035</td>\n",
       "      <td>5.980020</td>\n",
       "    </tr>\n",
       "    <tr>\n",
       "      <th>min</th>\n",
       "      <td>-2.000000</td>\n",
       "      <td>8.200000</td>\n",
       "      <td>0.000000</td>\n",
       "      <td>0.000000</td>\n",
       "      <td>0.000000</td>\n",
       "      <td>7.000000</td>\n",
       "      <td>0.000000</td>\n",
       "      <td>0.000000</td>\n",
       "      <td>10.000000</td>\n",
       "      <td>6.000000</td>\n",
       "      <td>989.800000</td>\n",
       "      <td>982.900000</td>\n",
       "      <td>0.000000</td>\n",
       "      <td>0.000000</td>\n",
       "      <td>1.900000</td>\n",
       "      <td>7.300000</td>\n",
       "    </tr>\n",
       "    <tr>\n",
       "      <th>25%</th>\n",
       "      <td>9.200000</td>\n",
       "      <td>19.300000</td>\n",
       "      <td>0.000000</td>\n",
       "      <td>2.600000</td>\n",
       "      <td>4.750000</td>\n",
       "      <td>30.000000</td>\n",
       "      <td>6.000000</td>\n",
       "      <td>11.000000</td>\n",
       "      <td>56.000000</td>\n",
       "      <td>39.000000</td>\n",
       "      <td>1013.000000</td>\n",
       "      <td>1010.400000</td>\n",
       "      <td>1.000000</td>\n",
       "      <td>2.000000</td>\n",
       "      <td>13.800000</td>\n",
       "      <td>18.000000</td>\n",
       "    </tr>\n",
       "    <tr>\n",
       "      <th>50%</th>\n",
       "      <td>13.300000</td>\n",
       "      <td>23.300000</td>\n",
       "      <td>0.000000</td>\n",
       "      <td>4.600000</td>\n",
       "      <td>8.700000</td>\n",
       "      <td>39.000000</td>\n",
       "      <td>13.000000</td>\n",
       "      <td>19.000000</td>\n",
       "      <td>68.000000</td>\n",
       "      <td>51.000000</td>\n",
       "      <td>1017.700000</td>\n",
       "      <td>1015.300000</td>\n",
       "      <td>5.000000</td>\n",
       "      <td>5.000000</td>\n",
       "      <td>17.800000</td>\n",
       "      <td>21.900000</td>\n",
       "    </tr>\n",
       "    <tr>\n",
       "      <th>75%</th>\n",
       "      <td>17.400000</td>\n",
       "      <td>28.000000</td>\n",
       "      <td>1.000000</td>\n",
       "      <td>7.000000</td>\n",
       "      <td>10.700000</td>\n",
       "      <td>50.000000</td>\n",
       "      <td>20.000000</td>\n",
       "      <td>24.000000</td>\n",
       "      <td>80.000000</td>\n",
       "      <td>63.000000</td>\n",
       "      <td>1022.300000</td>\n",
       "      <td>1019.800000</td>\n",
       "      <td>7.000000</td>\n",
       "      <td>7.000000</td>\n",
       "      <td>21.900000</td>\n",
       "      <td>26.400000</td>\n",
       "    </tr>\n",
       "    <tr>\n",
       "      <th>max</th>\n",
       "      <td>28.500000</td>\n",
       "      <td>45.500000</td>\n",
       "      <td>371.000000</td>\n",
       "      <td>145.000000</td>\n",
       "      <td>13.900000</td>\n",
       "      <td>107.000000</td>\n",
       "      <td>63.000000</td>\n",
       "      <td>83.000000</td>\n",
       "      <td>100.000000</td>\n",
       "      <td>99.000000</td>\n",
       "      <td>1039.000000</td>\n",
       "      <td>1036.000000</td>\n",
       "      <td>8.000000</td>\n",
       "      <td>8.000000</td>\n",
       "      <td>39.400000</td>\n",
       "      <td>44.100000</td>\n",
       "    </tr>\n",
       "  </tbody>\n",
       "</table>\n",
       "</div>"
      ],
      "text/plain": [
       "           MinTemp      MaxTemp     Rainfall  Evaporation     Sunshine  \\\n",
       "count  8350.000000  8365.000000  8185.000000  4913.000000  4431.000000   \n",
       "mean     13.193305    23.859976     2.805913     5.389395     7.632205   \n",
       "std       5.403596     6.136408    10.459379     5.044484     3.896235   \n",
       "min      -2.000000     8.200000     0.000000     0.000000     0.000000   \n",
       "25%       9.200000    19.300000     0.000000     2.600000     4.750000   \n",
       "50%      13.300000    23.300000     0.000000     4.600000     8.700000   \n",
       "75%      17.400000    28.000000     1.000000     7.000000    10.700000   \n",
       "max      28.500000    45.500000   371.000000   145.000000    13.900000   \n",
       "\n",
       "       WindGustSpeed  WindSpeed9am  WindSpeed3pm  Humidity9am  Humidity3pm  \\\n",
       "count    7434.000000   8349.000000   8318.000000  8366.000000  8323.000000   \n",
       "mean       40.174469     13.847646     18.533662    67.822496    51.249790   \n",
       "std        14.665721     10.174579      9.766986    16.833283    18.423774   \n",
       "min         7.000000      0.000000      0.000000    10.000000     6.000000   \n",
       "25%        30.000000      6.000000     11.000000    56.000000    39.000000   \n",
       "50%        39.000000     13.000000     19.000000    68.000000    51.000000   \n",
       "75%        50.000000     20.000000     24.000000    80.000000    63.000000   \n",
       "max       107.000000     63.000000     83.000000   100.000000    99.000000   \n",
       "\n",
       "       Pressure9am  Pressure3pm     Cloud9am     Cloud3pm      Temp9am  \\\n",
       "count  7116.000000  7113.000000  6004.000000  5970.000000  8369.000000   \n",
       "mean   1017.640233  1015.236075     4.566622     4.503183    17.762015   \n",
       "std       6.828699     6.766681     2.877658     2.731659     5.627035   \n",
       "min     989.800000   982.900000     0.000000     0.000000     1.900000   \n",
       "25%    1013.000000  1010.400000     1.000000     2.000000    13.800000   \n",
       "50%    1017.700000  1015.300000     5.000000     5.000000    17.800000   \n",
       "75%    1022.300000  1019.800000     7.000000     7.000000    21.900000   \n",
       "max    1039.000000  1036.000000     8.000000     8.000000    39.400000   \n",
       "\n",
       "           Temp3pm  \n",
       "count  8329.000000  \n",
       "mean     22.442934  \n",
       "std       5.980020  \n",
       "min       7.300000  \n",
       "25%      18.000000  \n",
       "50%      21.900000  \n",
       "75%      26.400000  \n",
       "max      44.100000  "
      ]
     },
     "execution_count": 9,
     "metadata": {},
     "output_type": "execute_result"
    }
   ],
   "source": [
    "df.describe()"
   ]
  },
  {
   "cell_type": "markdown",
   "id": "cfbcc614",
   "metadata": {},
   "source": [
    "## correlation"
   ]
  },
  {
   "cell_type": "code",
   "execution_count": 10,
   "id": "597eb3c8",
   "metadata": {},
   "outputs": [
    {
     "data": {
      "text/html": [
       "<div>\n",
       "<style scoped>\n",
       "    .dataframe tbody tr th:only-of-type {\n",
       "        vertical-align: middle;\n",
       "    }\n",
       "\n",
       "    .dataframe tbody tr th {\n",
       "        vertical-align: top;\n",
       "    }\n",
       "\n",
       "    .dataframe thead th {\n",
       "        text-align: right;\n",
       "    }\n",
       "</style>\n",
       "<table border=\"1\" class=\"dataframe\">\n",
       "  <thead>\n",
       "    <tr style=\"text-align: right;\">\n",
       "      <th></th>\n",
       "      <th>MinTemp</th>\n",
       "      <th>MaxTemp</th>\n",
       "      <th>Rainfall</th>\n",
       "      <th>Evaporation</th>\n",
       "      <th>Sunshine</th>\n",
       "      <th>WindGustSpeed</th>\n",
       "      <th>WindSpeed9am</th>\n",
       "      <th>WindSpeed3pm</th>\n",
       "      <th>Humidity9am</th>\n",
       "      <th>Humidity3pm</th>\n",
       "      <th>Pressure9am</th>\n",
       "      <th>Pressure3pm</th>\n",
       "      <th>Cloud9am</th>\n",
       "      <th>Cloud3pm</th>\n",
       "      <th>Temp9am</th>\n",
       "      <th>Temp3pm</th>\n",
       "    </tr>\n",
       "  </thead>\n",
       "  <tbody>\n",
       "    <tr>\n",
       "      <th>MinTemp</th>\n",
       "      <td>1.000000</td>\n",
       "      <td>0.720955</td>\n",
       "      <td>0.091642</td>\n",
       "      <td>0.348643</td>\n",
       "      <td>0.081365</td>\n",
       "      <td>0.241317</td>\n",
       "      <td>0.137263</td>\n",
       "      <td>0.180091</td>\n",
       "      <td>-0.130906</td>\n",
       "      <td>0.079569</td>\n",
       "      <td>-0.465478</td>\n",
       "      <td>-0.458665</td>\n",
       "      <td>0.111213</td>\n",
       "      <td>0.046889</td>\n",
       "      <td>0.888342</td>\n",
       "      <td>0.689652</td>\n",
       "    </tr>\n",
       "    <tr>\n",
       "      <th>MaxTemp</th>\n",
       "      <td>0.720955</td>\n",
       "      <td>1.000000</td>\n",
       "      <td>-0.088906</td>\n",
       "      <td>0.424728</td>\n",
       "      <td>0.523909</td>\n",
       "      <td>0.146113</td>\n",
       "      <td>0.013425</td>\n",
       "      <td>0.088797</td>\n",
       "      <td>-0.392496</td>\n",
       "      <td>-0.424217</td>\n",
       "      <td>-0.347285</td>\n",
       "      <td>-0.430074</td>\n",
       "      <td>-0.307700</td>\n",
       "      <td>-0.301675</td>\n",
       "      <td>0.869503</td>\n",
       "      <td>0.978665</td>\n",
       "    </tr>\n",
       "    <tr>\n",
       "      <th>Rainfall</th>\n",
       "      <td>0.091642</td>\n",
       "      <td>-0.088906</td>\n",
       "      <td>1.000000</td>\n",
       "      <td>0.043463</td>\n",
       "      <td>-0.209654</td>\n",
       "      <td>0.104999</td>\n",
       "      <td>0.051349</td>\n",
       "      <td>0.025185</td>\n",
       "      <td>0.231702</td>\n",
       "      <td>0.238730</td>\n",
       "      <td>-0.080412</td>\n",
       "      <td>-0.037270</td>\n",
       "      <td>0.195157</td>\n",
       "      <td>0.159250</td>\n",
       "      <td>-0.007191</td>\n",
       "      <td>-0.092263</td>\n",
       "    </tr>\n",
       "    <tr>\n",
       "      <th>Evaporation</th>\n",
       "      <td>0.348643</td>\n",
       "      <td>0.424728</td>\n",
       "      <td>0.043463</td>\n",
       "      <td>1.000000</td>\n",
       "      <td>0.340893</td>\n",
       "      <td>0.214069</td>\n",
       "      <td>0.176701</td>\n",
       "      <td>0.142421</td>\n",
       "      <td>-0.286869</td>\n",
       "      <td>-0.221244</td>\n",
       "      <td>-0.218171</td>\n",
       "      <td>-0.233401</td>\n",
       "      <td>-0.084288</td>\n",
       "      <td>-0.152637</td>\n",
       "      <td>0.405467</td>\n",
       "      <td>0.414156</td>\n",
       "    </tr>\n",
       "    <tr>\n",
       "      <th>Sunshine</th>\n",
       "      <td>0.081365</td>\n",
       "      <td>0.523909</td>\n",
       "      <td>-0.209654</td>\n",
       "      <td>0.340893</td>\n",
       "      <td>1.000000</td>\n",
       "      <td>-0.018455</td>\n",
       "      <td>-0.025112</td>\n",
       "      <td>0.045031</td>\n",
       "      <td>-0.512349</td>\n",
       "      <td>-0.630536</td>\n",
       "      <td>0.028666</td>\n",
       "      <td>-0.047098</td>\n",
       "      <td>-0.705577</td>\n",
       "      <td>-0.723957</td>\n",
       "      <td>0.348708</td>\n",
       "      <td>0.546057</td>\n",
       "    </tr>\n",
       "    <tr>\n",
       "      <th>WindGustSpeed</th>\n",
       "      <td>0.241317</td>\n",
       "      <td>0.146113</td>\n",
       "      <td>0.104999</td>\n",
       "      <td>0.214069</td>\n",
       "      <td>-0.018455</td>\n",
       "      <td>1.000000</td>\n",
       "      <td>0.656079</td>\n",
       "      <td>0.711403</td>\n",
       "      <td>-0.286045</td>\n",
       "      <td>-0.097380</td>\n",
       "      <td>-0.430736</td>\n",
       "      <td>-0.394745</td>\n",
       "      <td>0.030124</td>\n",
       "      <td>0.104157</td>\n",
       "      <td>0.211477</td>\n",
       "      <td>0.106872</td>\n",
       "    </tr>\n",
       "    <tr>\n",
       "      <th>WindSpeed9am</th>\n",
       "      <td>0.137263</td>\n",
       "      <td>0.013425</td>\n",
       "      <td>0.051349</td>\n",
       "      <td>0.176701</td>\n",
       "      <td>-0.025112</td>\n",
       "      <td>0.656079</td>\n",
       "      <td>1.000000</td>\n",
       "      <td>0.566322</td>\n",
       "      <td>-0.358981</td>\n",
       "      <td>-0.111595</td>\n",
       "      <td>-0.197189</td>\n",
       "      <td>-0.156517</td>\n",
       "      <td>-0.000607</td>\n",
       "      <td>0.068930</td>\n",
       "      <td>0.109936</td>\n",
       "      <td>-0.002619</td>\n",
       "    </tr>\n",
       "    <tr>\n",
       "      <th>WindSpeed3pm</th>\n",
       "      <td>0.180091</td>\n",
       "      <td>0.088797</td>\n",
       "      <td>0.025185</td>\n",
       "      <td>0.142421</td>\n",
       "      <td>0.045031</td>\n",
       "      <td>0.711403</td>\n",
       "      <td>0.566322</td>\n",
       "      <td>1.000000</td>\n",
       "      <td>-0.252488</td>\n",
       "      <td>-0.091248</td>\n",
       "      <td>-0.291271</td>\n",
       "      <td>-0.240378</td>\n",
       "      <td>0.005807</td>\n",
       "      <td>0.003894</td>\n",
       "      <td>0.185329</td>\n",
       "      <td>0.066201</td>\n",
       "    </tr>\n",
       "    <tr>\n",
       "      <th>Humidity9am</th>\n",
       "      <td>-0.130906</td>\n",
       "      <td>-0.392496</td>\n",
       "      <td>0.231702</td>\n",
       "      <td>-0.286869</td>\n",
       "      <td>-0.512349</td>\n",
       "      <td>-0.286045</td>\n",
       "      <td>-0.358981</td>\n",
       "      <td>-0.252488</td>\n",
       "      <td>1.000000</td>\n",
       "      <td>0.636255</td>\n",
       "      <td>0.154699</td>\n",
       "      <td>0.188463</td>\n",
       "      <td>0.472126</td>\n",
       "      <td>0.352736</td>\n",
       "      <td>-0.378389</td>\n",
       "      <td>-0.383788</td>\n",
       "    </tr>\n",
       "    <tr>\n",
       "      <th>Humidity3pm</th>\n",
       "      <td>0.079569</td>\n",
       "      <td>-0.424217</td>\n",
       "      <td>0.238730</td>\n",
       "      <td>-0.221244</td>\n",
       "      <td>-0.630536</td>\n",
       "      <td>-0.097380</td>\n",
       "      <td>-0.111595</td>\n",
       "      <td>-0.091248</td>\n",
       "      <td>0.636255</td>\n",
       "      <td>1.000000</td>\n",
       "      <td>0.001763</td>\n",
       "      <td>0.076002</td>\n",
       "      <td>0.509797</td>\n",
       "      <td>0.520221</td>\n",
       "      <td>-0.130973</td>\n",
       "      <td>-0.491634</td>\n",
       "    </tr>\n",
       "    <tr>\n",
       "      <th>Pressure9am</th>\n",
       "      <td>-0.465478</td>\n",
       "      <td>-0.347285</td>\n",
       "      <td>-0.080412</td>\n",
       "      <td>-0.218171</td>\n",
       "      <td>0.028666</td>\n",
       "      <td>-0.430736</td>\n",
       "      <td>-0.197189</td>\n",
       "      <td>-0.291271</td>\n",
       "      <td>0.154699</td>\n",
       "      <td>0.001763</td>\n",
       "      <td>1.000000</td>\n",
       "      <td>0.961922</td>\n",
       "      <td>-0.091391</td>\n",
       "      <td>-0.104535</td>\n",
       "      <td>-0.441901</td>\n",
       "      <td>-0.302488</td>\n",
       "    </tr>\n",
       "    <tr>\n",
       "      <th>Pressure3pm</th>\n",
       "      <td>-0.458665</td>\n",
       "      <td>-0.430074</td>\n",
       "      <td>-0.037270</td>\n",
       "      <td>-0.233401</td>\n",
       "      <td>-0.047098</td>\n",
       "      <td>-0.394745</td>\n",
       "      <td>-0.156517</td>\n",
       "      <td>-0.240378</td>\n",
       "      <td>0.188463</td>\n",
       "      <td>0.076002</td>\n",
       "      <td>0.961922</td>\n",
       "      <td>1.000000</td>\n",
       "      <td>-0.015692</td>\n",
       "      <td>-0.035986</td>\n",
       "      <td>-0.472788</td>\n",
       "      <td>-0.394852</td>\n",
       "    </tr>\n",
       "    <tr>\n",
       "      <th>Cloud9am</th>\n",
       "      <td>0.111213</td>\n",
       "      <td>-0.307700</td>\n",
       "      <td>0.195157</td>\n",
       "      <td>-0.084288</td>\n",
       "      <td>-0.705577</td>\n",
       "      <td>0.030124</td>\n",
       "      <td>-0.000607</td>\n",
       "      <td>0.005807</td>\n",
       "      <td>0.472126</td>\n",
       "      <td>0.509797</td>\n",
       "      <td>-0.091391</td>\n",
       "      <td>-0.015692</td>\n",
       "      <td>1.000000</td>\n",
       "      <td>0.619202</td>\n",
       "      <td>-0.161867</td>\n",
       "      <td>-0.326547</td>\n",
       "    </tr>\n",
       "    <tr>\n",
       "      <th>Cloud3pm</th>\n",
       "      <td>0.046889</td>\n",
       "      <td>-0.301675</td>\n",
       "      <td>0.159250</td>\n",
       "      <td>-0.152637</td>\n",
       "      <td>-0.723957</td>\n",
       "      <td>0.104157</td>\n",
       "      <td>0.068930</td>\n",
       "      <td>0.003894</td>\n",
       "      <td>0.352736</td>\n",
       "      <td>0.520221</td>\n",
       "      <td>-0.104535</td>\n",
       "      <td>-0.035986</td>\n",
       "      <td>0.619202</td>\n",
       "      <td>1.000000</td>\n",
       "      <td>-0.151438</td>\n",
       "      <td>-0.348986</td>\n",
       "    </tr>\n",
       "    <tr>\n",
       "      <th>Temp9am</th>\n",
       "      <td>0.888342</td>\n",
       "      <td>0.869503</td>\n",
       "      <td>-0.007191</td>\n",
       "      <td>0.405467</td>\n",
       "      <td>0.348708</td>\n",
       "      <td>0.211477</td>\n",
       "      <td>0.109936</td>\n",
       "      <td>0.185329</td>\n",
       "      <td>-0.378389</td>\n",
       "      <td>-0.130973</td>\n",
       "      <td>-0.441901</td>\n",
       "      <td>-0.472788</td>\n",
       "      <td>-0.161867</td>\n",
       "      <td>-0.151438</td>\n",
       "      <td>1.000000</td>\n",
       "      <td>0.837552</td>\n",
       "    </tr>\n",
       "    <tr>\n",
       "      <th>Temp3pm</th>\n",
       "      <td>0.689652</td>\n",
       "      <td>0.978665</td>\n",
       "      <td>-0.092263</td>\n",
       "      <td>0.414156</td>\n",
       "      <td>0.546057</td>\n",
       "      <td>0.106872</td>\n",
       "      <td>-0.002619</td>\n",
       "      <td>0.066201</td>\n",
       "      <td>-0.383788</td>\n",
       "      <td>-0.491634</td>\n",
       "      <td>-0.302488</td>\n",
       "      <td>-0.394852</td>\n",
       "      <td>-0.326547</td>\n",
       "      <td>-0.348986</td>\n",
       "      <td>0.837552</td>\n",
       "      <td>1.000000</td>\n",
       "    </tr>\n",
       "  </tbody>\n",
       "</table>\n",
       "</div>"
      ],
      "text/plain": [
       "                MinTemp   MaxTemp  Rainfall  Evaporation  Sunshine  \\\n",
       "MinTemp        1.000000  0.720955  0.091642     0.348643  0.081365   \n",
       "MaxTemp        0.720955  1.000000 -0.088906     0.424728  0.523909   \n",
       "Rainfall       0.091642 -0.088906  1.000000     0.043463 -0.209654   \n",
       "Evaporation    0.348643  0.424728  0.043463     1.000000  0.340893   \n",
       "Sunshine       0.081365  0.523909 -0.209654     0.340893  1.000000   \n",
       "WindGustSpeed  0.241317  0.146113  0.104999     0.214069 -0.018455   \n",
       "WindSpeed9am   0.137263  0.013425  0.051349     0.176701 -0.025112   \n",
       "WindSpeed3pm   0.180091  0.088797  0.025185     0.142421  0.045031   \n",
       "Humidity9am   -0.130906 -0.392496  0.231702    -0.286869 -0.512349   \n",
       "Humidity3pm    0.079569 -0.424217  0.238730    -0.221244 -0.630536   \n",
       "Pressure9am   -0.465478 -0.347285 -0.080412    -0.218171  0.028666   \n",
       "Pressure3pm   -0.458665 -0.430074 -0.037270    -0.233401 -0.047098   \n",
       "Cloud9am       0.111213 -0.307700  0.195157    -0.084288 -0.705577   \n",
       "Cloud3pm       0.046889 -0.301675  0.159250    -0.152637 -0.723957   \n",
       "Temp9am        0.888342  0.869503 -0.007191     0.405467  0.348708   \n",
       "Temp3pm        0.689652  0.978665 -0.092263     0.414156  0.546057   \n",
       "\n",
       "               WindGustSpeed  WindSpeed9am  WindSpeed3pm  Humidity9am  \\\n",
       "MinTemp             0.241317      0.137263      0.180091    -0.130906   \n",
       "MaxTemp             0.146113      0.013425      0.088797    -0.392496   \n",
       "Rainfall            0.104999      0.051349      0.025185     0.231702   \n",
       "Evaporation         0.214069      0.176701      0.142421    -0.286869   \n",
       "Sunshine           -0.018455     -0.025112      0.045031    -0.512349   \n",
       "WindGustSpeed       1.000000      0.656079      0.711403    -0.286045   \n",
       "WindSpeed9am        0.656079      1.000000      0.566322    -0.358981   \n",
       "WindSpeed3pm        0.711403      0.566322      1.000000    -0.252488   \n",
       "Humidity9am        -0.286045     -0.358981     -0.252488     1.000000   \n",
       "Humidity3pm        -0.097380     -0.111595     -0.091248     0.636255   \n",
       "Pressure9am        -0.430736     -0.197189     -0.291271     0.154699   \n",
       "Pressure3pm        -0.394745     -0.156517     -0.240378     0.188463   \n",
       "Cloud9am            0.030124     -0.000607      0.005807     0.472126   \n",
       "Cloud3pm            0.104157      0.068930      0.003894     0.352736   \n",
       "Temp9am             0.211477      0.109936      0.185329    -0.378389   \n",
       "Temp3pm             0.106872     -0.002619      0.066201    -0.383788   \n",
       "\n",
       "               Humidity3pm  Pressure9am  Pressure3pm  Cloud9am  Cloud3pm  \\\n",
       "MinTemp           0.079569    -0.465478    -0.458665  0.111213  0.046889   \n",
       "MaxTemp          -0.424217    -0.347285    -0.430074 -0.307700 -0.301675   \n",
       "Rainfall          0.238730    -0.080412    -0.037270  0.195157  0.159250   \n",
       "Evaporation      -0.221244    -0.218171    -0.233401 -0.084288 -0.152637   \n",
       "Sunshine         -0.630536     0.028666    -0.047098 -0.705577 -0.723957   \n",
       "WindGustSpeed    -0.097380    -0.430736    -0.394745  0.030124  0.104157   \n",
       "WindSpeed9am     -0.111595    -0.197189    -0.156517 -0.000607  0.068930   \n",
       "WindSpeed3pm     -0.091248    -0.291271    -0.240378  0.005807  0.003894   \n",
       "Humidity9am       0.636255     0.154699     0.188463  0.472126  0.352736   \n",
       "Humidity3pm       1.000000     0.001763     0.076002  0.509797  0.520221   \n",
       "Pressure9am       0.001763     1.000000     0.961922 -0.091391 -0.104535   \n",
       "Pressure3pm       0.076002     0.961922     1.000000 -0.015692 -0.035986   \n",
       "Cloud9am          0.509797    -0.091391    -0.015692  1.000000  0.619202   \n",
       "Cloud3pm          0.520221    -0.104535    -0.035986  0.619202  1.000000   \n",
       "Temp9am          -0.130973    -0.441901    -0.472788 -0.161867 -0.151438   \n",
       "Temp3pm          -0.491634    -0.302488    -0.394852 -0.326547 -0.348986   \n",
       "\n",
       "                Temp9am   Temp3pm  \n",
       "MinTemp        0.888342  0.689652  \n",
       "MaxTemp        0.869503  0.978665  \n",
       "Rainfall      -0.007191 -0.092263  \n",
       "Evaporation    0.405467  0.414156  \n",
       "Sunshine       0.348708  0.546057  \n",
       "WindGustSpeed  0.211477  0.106872  \n",
       "WindSpeed9am   0.109936 -0.002619  \n",
       "WindSpeed3pm   0.185329  0.066201  \n",
       "Humidity9am   -0.378389 -0.383788  \n",
       "Humidity3pm   -0.130973 -0.491634  \n",
       "Pressure9am   -0.441901 -0.302488  \n",
       "Pressure3pm   -0.472788 -0.394852  \n",
       "Cloud9am      -0.161867 -0.326547  \n",
       "Cloud3pm      -0.151438 -0.348986  \n",
       "Temp9am        1.000000  0.837552  \n",
       "Temp3pm        0.837552  1.000000  "
      ]
     },
     "execution_count": 10,
     "metadata": {},
     "output_type": "execute_result"
    }
   ],
   "source": [
    "df_cor = df.corr()\n",
    "df_cor"
   ]
  },
  {
   "cell_type": "code",
   "execution_count": 11,
   "id": "7f678c6f",
   "metadata": {},
   "outputs": [
    {
     "data": {
      "text/plain": [
       "<AxesSubplot:>"
      ]
     },
     "execution_count": 11,
     "metadata": {},
     "output_type": "execute_result"
    },
    {
     "data": {
      "image/png": "[encoded data removed]",
      "text/plain": [
       "<Figure size 1584x576 with 2 Axes>"
      ]
     },
     "metadata": {
      "needs_background": "light"
     },
     "output_type": "display_data"
    }
   ],
   "source": [
    "plt.figure(figsize=(22,8))\n",
    "sns.heatmap(df_cor ,annot=True ,fmt='0.2f')"
   ]
  },
  {
   "cell_type": "code",
   "execution_count": null,
   "id": "55320efb",
   "metadata": {},
   "outputs": [],
   "source": []
  },
  {
   "cell_type": "code",
   "execution_count": 12,
   "id": "9cbff432",
   "metadata": {},
   "outputs": [],
   "source": [
    "# filling the null values with mean\n",
    "from sklearn.impute import SimpleImputer\n",
    "sm = SimpleImputer(missing_values = np.nan , strategy = 'mean')\n",
    "df['MinTemp'] = sm.fit_transform(df['MinTemp'].values.reshape(-1,1))\n",
    "\n",
    "df['MaxTemp']=sm.fit_transform(df['MaxTemp'].values.reshape(-1,1))\n",
    "df['Rainfall']=sm.fit_transform(df['Rainfall'].values.reshape(-1,1))\n",
    "df['Evaporation']=sm.fit_transform(df['Evaporation'].values.reshape(-1,1))\n",
    "df['Sunshine']=sm.fit_transform(df['Sunshine'].values.reshape(-1,1))\n",
    "df['WindGustSpeed']=sm.fit_transform(df['WindGustSpeed'].values.reshape(-1,1))\n",
    "df['WindSpeed9am']=sm.fit_transform(df['WindSpeed9am'].values.reshape(-1,1))\n",
    "df['WindSpeed3pm']=sm.fit_transform(df['WindSpeed3pm'].values.reshape(-1,1))\n",
    "df['Humidity9am']=sm.fit_transform(df['Humidity9am'].values.reshape(-1,1))\n",
    "df['Humidity3pm']=sm.fit_transform(df['Humidity3pm'].values.reshape(-1,1))\n",
    "df['Pressure9am']=sm.fit_transform(df['Pressure9am'].values.reshape(-1,1))\n",
    "df['Pressure3pm']=sm.fit_transform(df['Pressure3pm'].values.reshape(-1,1))\n",
    "df['Cloud9am']=sm.fit_transform(df['Cloud9am'].values.reshape(-1,1))\n",
    "df['Cloud3pm']=sm.fit_transform(df['Cloud3pm'].values.reshape(-1,1))\n",
    "df['Temp9am']=sm.fit_transform(df['Temp9am'].values.reshape(-1,1))\n",
    "df['Temp3pm']=sm.fit_transform(df['Temp3pm'].values.reshape(-1,1))\n"
   ]
  },
  {
   "cell_type": "code",
   "execution_count": 13,
   "id": "589f480f",
   "metadata": {},
   "outputs": [],
   "source": [
    "# filling the null values with most_frequent\n",
    "sim = SimpleImputer(missing_values = np.nan ,strategy = 'most_frequent')\n",
    "\n",
    "df['RainToday']= sim.fit_transform(df['RainToday'].values.reshape(-1,1))\n",
    "df['RainTomorrow']= sim.fit_transform(df['RainTomorrow'].values.reshape(-1,1))\n",
    "df['WindDir9am'] = sim.fit_transform(df['WindDir9am'].values.reshape(-1,1))\n",
    "df['WindDir3pm'] = sim.fit_transform(df['WindDir3pm'].values.reshape(-1,1))\n",
    "df['WindGustDir'] = sim.fit_transform(df['WindGustDir'].values.reshape(-1,1))\n"
   ]
  },
  {
   "cell_type": "code",
   "execution_count": 14,
   "id": "3041dea4",
   "metadata": {},
   "outputs": [],
   "source": [
    "from sklearn.preprocessing import LabelEncoder\n",
    "le = LabelEncoder()\n",
    "df['RainToday'] = le.fit_transform(df['RainToday'])\n",
    "df['RainTomorrow'] = le.fit_transform(df['RainTomorrow'])"
   ]
  },
  {
   "cell_type": "code",
   "execution_count": 15,
   "id": "502b9508",
   "metadata": {},
   "outputs": [
    {
     "data": {
      "text/plain": [
       "0    6435\n",
       "1    1990\n",
       "Name: RainToday, dtype: int64"
      ]
     },
     "execution_count": 15,
     "metadata": {},
     "output_type": "execute_result"
    }
   ],
   "source": [
    "df['RainToday'].value_counts()"
   ]
  },
  {
   "cell_type": "code",
   "execution_count": 16,
   "id": "793f5dbd",
   "metadata": {},
   "outputs": [
    {
     "data": {
      "text/plain": [
       "Date             0\n",
       "Location         0\n",
       "MinTemp          0\n",
       "MaxTemp          0\n",
       "Rainfall         0\n",
       "Evaporation      0\n",
       "Sunshine         0\n",
       "WindGustDir      0\n",
       "WindGustSpeed    0\n",
       "WindDir9am       0\n",
       "WindDir3pm       0\n",
       "WindSpeed9am     0\n",
       "WindSpeed3pm     0\n",
       "Humidity9am      0\n",
       "Humidity3pm      0\n",
       "Pressure9am      0\n",
       "Pressure3pm      0\n",
       "Cloud9am         0\n",
       "Cloud3pm         0\n",
       "Temp9am          0\n",
       "Temp3pm          0\n",
       "RainToday        0\n",
       "RainTomorrow     0\n",
       "dtype: int64"
      ]
     },
     "execution_count": 16,
     "metadata": {},
     "output_type": "execute_result"
    }
   ],
   "source": [
    "df.isnull().sum()"
   ]
  },
  {
   "cell_type": "markdown",
   "id": "ddf88944",
   "metadata": {},
   "source": [
    "## DATA VISUALIZATION"
   ]
  },
  {
   "cell_type": "code",
   "execution_count": 17,
   "id": "85a0967b",
   "metadata": {},
   "outputs": [
    {
     "data": {
      "text/plain": [
       "0    6435\n",
       "1    1990\n",
       "Name: RainToday, dtype: int64"
      ]
     },
     "execution_count": 17,
     "metadata": {},
     "output_type": "execute_result"
    },
    {
     "data": {
      "image/png": "[encoded data removed]",
      "text/plain": [
       "<Figure size 432x288 with 1 Axes>"
      ]
     },
     "metadata": {
      "needs_background": "light"
     },
     "output_type": "display_data"
    }
   ],
   "source": [
    "sns.countplot(df['RainToday'])\n",
    "df['RainToday'].value_counts()"
   ]
  },
  {
   "cell_type": "code",
   "execution_count": 18,
   "id": "94dedfad",
   "metadata": {},
   "outputs": [
    {
     "data": {
      "text/plain": [
       "0    6434\n",
       "1    1991\n",
       "Name: RainTomorrow, dtype: int64"
      ]
     },
     "execution_count": 18,
     "metadata": {},
     "output_type": "execute_result"
    },
    {
     "data": {
      "image/png": "[encoded data removed]",
      "text/plain": [
       "<Figure size 432x288 with 1 Axes>"
      ]
     },
     "metadata": {
      "needs_background": "light"
     },
     "output_type": "display_data"
    }
   ],
   "source": [
    "sns.countplot(df['RainTomorrow'])\n",
    "df['RainTomorrow'].value_counts()"
   ]
  },
  {
   "cell_type": "code",
   "execution_count": 19,
   "id": "277ce5f2",
   "metadata": {},
   "outputs": [
    {
     "data": {
      "text/plain": [
       "(array([ 0,  1,  2,  3,  4,  5,  6,  7,  8,  9, 10, 11, 12, 13, 14, 15]),\n",
       " [Text(0, 0, 'W'),\n",
       "  Text(1, 0, 'NNW'),\n",
       "  Text(2, 0, 'SE'),\n",
       "  Text(3, 0, 'ENE'),\n",
       "  Text(4, 0, 'SW'),\n",
       "  Text(5, 0, 'SSE'),\n",
       "  Text(6, 0, 'S'),\n",
       "  Text(7, 0, 'NE'),\n",
       "  Text(8, 0, 'N'),\n",
       "  Text(9, 0, 'SSW'),\n",
       "  Text(10, 0, 'WSW'),\n",
       "  Text(11, 0, 'ESE'),\n",
       "  Text(12, 0, 'E'),\n",
       "  Text(13, 0, 'NW'),\n",
       "  Text(14, 0, 'WNW'),\n",
       "  Text(15, 0, 'NNE')])"
      ]
     },
     "execution_count": 19,
     "metadata": {},
     "output_type": "execute_result"
    },
    {
     "data": {
      "image/png": "[encoded data removed]",
      "text/plain": [
       "<Figure size 432x288 with 1 Axes>"
      ]
     },
     "metadata": {
      "needs_background": "light"
     },
     "output_type": "display_data"
    }
   ],
   "source": [
    "sns.countplot(df['WindDir9am'])\n",
    "df['WindDir9am'].value_counts()\n",
    "plt.xticks(rotation=30)"
   ]
  },
  {
   "cell_type": "code",
   "execution_count": 20,
   "id": "f577dbf0",
   "metadata": {},
   "outputs": [
    {
     "data": {
      "text/plain": [
       "(array([ 0,  1,  2,  3,  4,  5,  6,  7,  8,  9, 10, 11, 12, 13, 14, 15]),\n",
       " [Text(0, 0, 'WNW'),\n",
       "  Text(1, 0, 'WSW'),\n",
       "  Text(2, 0, 'E'),\n",
       "  Text(3, 0, 'NW'),\n",
       "  Text(4, 0, 'W'),\n",
       "  Text(5, 0, 'SSE'),\n",
       "  Text(6, 0, 'ESE'),\n",
       "  Text(7, 0, 'ENE'),\n",
       "  Text(8, 0, 'NNW'),\n",
       "  Text(9, 0, 'SSW'),\n",
       "  Text(10, 0, 'SW'),\n",
       "  Text(11, 0, 'SE'),\n",
       "  Text(12, 0, 'N'),\n",
       "  Text(13, 0, 'S'),\n",
       "  Text(14, 0, 'NNE'),\n",
       "  Text(15, 0, 'NE')])"
      ]
     },
     "execution_count": 20,
     "metadata": {},
     "output_type": "execute_result"
    },
    {
     "data": {
      "image/png": "[encoded data removed]",
      "text/plain": [
       "<Figure size 432x288 with 1 Axes>"
      ]
     },
     "metadata": {
      "needs_background": "light"
     },
     "output_type": "display_data"
    }
   ],
   "source": [
    "sns.countplot(df['WindDir3pm'])\n",
    "df['WindDir3pm'].value_counts()\n",
    "plt.xticks(rotation=30)"
   ]
  },
  {
   "cell_type": "code",
   "execution_count": 21,
   "id": "a3af7bf3",
   "metadata": {},
   "outputs": [
    {
     "data": {
      "text/plain": [
       "(array([ 0,  1,  2,  3,  4,  5,  6,  7,  8,  9, 10, 11, 12, 13, 14, 15]),\n",
       " [Text(0, 0, 'W'),\n",
       "  Text(1, 0, 'WNW'),\n",
       "  Text(2, 0, 'WSW'),\n",
       "  Text(3, 0, 'NE'),\n",
       "  Text(4, 0, 'NNW'),\n",
       "  Text(5, 0, 'N'),\n",
       "  Text(6, 0, 'NNE'),\n",
       "  Text(7, 0, 'SW'),\n",
       "  Text(8, 0, 'ENE'),\n",
       "  Text(9, 0, 'SSE'),\n",
       "  Text(10, 0, 'S'),\n",
       "  Text(11, 0, 'NW'),\n",
       "  Text(12, 0, 'SE'),\n",
       "  Text(13, 0, 'ESE'),\n",
       "  Text(14, 0, 'E'),\n",
       "  Text(15, 0, 'SSW')])"
      ]
     },
     "execution_count": 21,
     "metadata": {},
     "output_type": "execute_result"
    },
    {
     "data": {
      "image/png": "[encoded data removed]",
      "text/plain": [
       "<Figure size 432x288 with 1 Axes>"
      ]
     },
     "metadata": {
      "needs_background": "light"
     },
     "output_type": "display_data"
    }
   ],
   "source": [
    "sns.countplot(df['WindGustDir'])\n",
    "df['WindGustDir'].value_counts()\n",
    "plt.xticks(rotation=30)"
   ]
  },
  {
   "cell_type": "code",
   "execution_count": 22,
   "id": "09b3b756",
   "metadata": {},
   "outputs": [],
   "source": [
    "le =LabelEncoder()\n",
    "df['Location'] = le.fit_transform(df['Location'])\n",
    "df['WindDir9am'] = le.fit_transform(df['WindDir9am'])\n",
    "df['WindDir3pm'] = le.fit_transform(df['WindDir3pm'])\n",
    "df['WindGustDir'] = le.fit_transform(df['WindGustDir'])"
   ]
  },
  {
   "cell_type": "code",
   "execution_count": 23,
   "id": "1402c4ab",
   "metadata": {},
   "outputs": [
    {
     "data": {
      "text/html": [
       "<div>\n",
       "<style scoped>\n",
       "    .dataframe tbody tr th:only-of-type {\n",
       "        vertical-align: middle;\n",
       "    }\n",
       "\n",
       "    .dataframe tbody tr th {\n",
       "        vertical-align: top;\n",
       "    }\n",
       "\n",
       "    .dataframe thead th {\n",
       "        text-align: right;\n",
       "    }\n",
       "</style>\n",
       "<table border=\"1\" class=\"dataframe\">\n",
       "  <thead>\n",
       "    <tr style=\"text-align: right;\">\n",
       "      <th></th>\n",
       "      <th>Date</th>\n",
       "      <th>Location</th>\n",
       "      <th>MinTemp</th>\n",
       "      <th>MaxTemp</th>\n",
       "      <th>Rainfall</th>\n",
       "      <th>Evaporation</th>\n",
       "      <th>Sunshine</th>\n",
       "      <th>WindGustDir</th>\n",
       "      <th>WindGustSpeed</th>\n",
       "      <th>WindDir9am</th>\n",
       "      <th>...</th>\n",
       "      <th>Humidity9am</th>\n",
       "      <th>Humidity3pm</th>\n",
       "      <th>Pressure9am</th>\n",
       "      <th>Pressure3pm</th>\n",
       "      <th>Cloud9am</th>\n",
       "      <th>Cloud3pm</th>\n",
       "      <th>Temp9am</th>\n",
       "      <th>Temp3pm</th>\n",
       "      <th>RainToday</th>\n",
       "      <th>RainTomorrow</th>\n",
       "    </tr>\n",
       "  </thead>\n",
       "  <tbody>\n",
       "    <tr>\n",
       "      <th>0</th>\n",
       "      <td>2008-12-01</td>\n",
       "      <td>1</td>\n",
       "      <td>13.4</td>\n",
       "      <td>22.9</td>\n",
       "      <td>0.6</td>\n",
       "      <td>5.389395</td>\n",
       "      <td>7.632205</td>\n",
       "      <td>13</td>\n",
       "      <td>44.0</td>\n",
       "      <td>13</td>\n",
       "      <td>...</td>\n",
       "      <td>71.0</td>\n",
       "      <td>22.0</td>\n",
       "      <td>1007.7</td>\n",
       "      <td>1007.1</td>\n",
       "      <td>8.000000</td>\n",
       "      <td>4.503183</td>\n",
       "      <td>16.9</td>\n",
       "      <td>21.8</td>\n",
       "      <td>0</td>\n",
       "      <td>0</td>\n",
       "    </tr>\n",
       "    <tr>\n",
       "      <th>1</th>\n",
       "      <td>2008-12-02</td>\n",
       "      <td>1</td>\n",
       "      <td>7.4</td>\n",
       "      <td>25.1</td>\n",
       "      <td>0.0</td>\n",
       "      <td>5.389395</td>\n",
       "      <td>7.632205</td>\n",
       "      <td>14</td>\n",
       "      <td>44.0</td>\n",
       "      <td>6</td>\n",
       "      <td>...</td>\n",
       "      <td>44.0</td>\n",
       "      <td>25.0</td>\n",
       "      <td>1010.6</td>\n",
       "      <td>1007.8</td>\n",
       "      <td>4.566622</td>\n",
       "      <td>4.503183</td>\n",
       "      <td>17.2</td>\n",
       "      <td>24.3</td>\n",
       "      <td>0</td>\n",
       "      <td>0</td>\n",
       "    </tr>\n",
       "    <tr>\n",
       "      <th>2</th>\n",
       "      <td>2008-12-03</td>\n",
       "      <td>1</td>\n",
       "      <td>12.9</td>\n",
       "      <td>25.7</td>\n",
       "      <td>0.0</td>\n",
       "      <td>5.389395</td>\n",
       "      <td>7.632205</td>\n",
       "      <td>15</td>\n",
       "      <td>46.0</td>\n",
       "      <td>13</td>\n",
       "      <td>...</td>\n",
       "      <td>38.0</td>\n",
       "      <td>30.0</td>\n",
       "      <td>1007.6</td>\n",
       "      <td>1008.7</td>\n",
       "      <td>4.566622</td>\n",
       "      <td>2.000000</td>\n",
       "      <td>21.0</td>\n",
       "      <td>23.2</td>\n",
       "      <td>0</td>\n",
       "      <td>0</td>\n",
       "    </tr>\n",
       "    <tr>\n",
       "      <th>3</th>\n",
       "      <td>2008-12-04</td>\n",
       "      <td>1</td>\n",
       "      <td>9.2</td>\n",
       "      <td>28.0</td>\n",
       "      <td>0.0</td>\n",
       "      <td>5.389395</td>\n",
       "      <td>7.632205</td>\n",
       "      <td>4</td>\n",
       "      <td>24.0</td>\n",
       "      <td>9</td>\n",
       "      <td>...</td>\n",
       "      <td>45.0</td>\n",
       "      <td>16.0</td>\n",
       "      <td>1017.6</td>\n",
       "      <td>1012.8</td>\n",
       "      <td>4.566622</td>\n",
       "      <td>4.503183</td>\n",
       "      <td>18.1</td>\n",
       "      <td>26.5</td>\n",
       "      <td>0</td>\n",
       "      <td>0</td>\n",
       "    </tr>\n",
       "    <tr>\n",
       "      <th>4</th>\n",
       "      <td>2008-12-05</td>\n",
       "      <td>1</td>\n",
       "      <td>17.5</td>\n",
       "      <td>32.3</td>\n",
       "      <td>1.0</td>\n",
       "      <td>5.389395</td>\n",
       "      <td>7.632205</td>\n",
       "      <td>13</td>\n",
       "      <td>41.0</td>\n",
       "      <td>1</td>\n",
       "      <td>...</td>\n",
       "      <td>82.0</td>\n",
       "      <td>33.0</td>\n",
       "      <td>1010.8</td>\n",
       "      <td>1006.0</td>\n",
       "      <td>7.000000</td>\n",
       "      <td>8.000000</td>\n",
       "      <td>17.8</td>\n",
       "      <td>29.7</td>\n",
       "      <td>0</td>\n",
       "      <td>0</td>\n",
       "    </tr>\n",
       "  </tbody>\n",
       "</table>\n",
       "<p>5 rows × 23 columns</p>\n",
       "</div>"
      ],
      "text/plain": [
       "         Date  Location  MinTemp  MaxTemp  Rainfall  Evaporation  Sunshine  \\\n",
       "0  2008-12-01         1     13.4     22.9       0.6     5.389395  7.632205   \n",
       "1  2008-12-02         1      7.4     25.1       0.0     5.389395  7.632205   \n",
       "2  2008-12-03         1     12.9     25.7       0.0     5.389395  7.632205   \n",
       "3  2008-12-04         1      9.2     28.0       0.0     5.389395  7.632205   \n",
       "4  2008-12-05         1     17.5     32.3       1.0     5.389395  7.632205   \n",
       "\n",
       "   WindGustDir  WindGustSpeed  WindDir9am  ...  Humidity9am  Humidity3pm  \\\n",
       "0           13           44.0          13  ...         71.0         22.0   \n",
       "1           14           44.0           6  ...         44.0         25.0   \n",
       "2           15           46.0          13  ...         38.0         30.0   \n",
       "3            4           24.0           9  ...         45.0         16.0   \n",
       "4           13           41.0           1  ...         82.0         33.0   \n",
       "\n",
       "   Pressure9am  Pressure3pm  Cloud9am  Cloud3pm  Temp9am  Temp3pm  RainToday  \\\n",
       "0       1007.7       1007.1  8.000000  4.503183     16.9     21.8          0   \n",
       "1       1010.6       1007.8  4.566622  4.503183     17.2     24.3          0   \n",
       "2       1007.6       1008.7  4.566622  2.000000     21.0     23.2          0   \n",
       "3       1017.6       1012.8  4.566622  4.503183     18.1     26.5          0   \n",
       "4       1010.8       1006.0  7.000000  8.000000     17.8     29.7          0   \n",
       "\n",
       "   RainTomorrow  \n",
       "0             0  \n",
       "1             0  \n",
       "2             0  \n",
       "3             0  \n",
       "4             0  \n",
       "\n",
       "[5 rows x 23 columns]"
      ]
     },
     "execution_count": 23,
     "metadata": {},
     "output_type": "execute_result"
    }
   ],
   "source": [
    "df.head()"
   ]
  },
  {
   "cell_type": "code",
   "execution_count": 24,
   "id": "164ab281",
   "metadata": {},
   "outputs": [
    {
     "data": {
      "text/plain": [
       "<AxesSubplot:xlabel='Humidity9am'>"
      ]
     },
     "execution_count": 24,
     "metadata": {},
     "output_type": "execute_result"
    },
    {
     "data": {
      "image/png": "[encoded data removed]",
      "text/plain": [
       "<Figure size 432x288 with 1 Axes>"
      ]
     },
     "metadata": {
      "needs_background": "light"
     },
     "output_type": "display_data"
    }
   ],
   "source": [
    "sns.boxplot(df['Humidity9am'])"
   ]
  },
  {
   "cell_type": "code",
   "execution_count": 25,
   "id": "bec1bf16",
   "metadata": {},
   "outputs": [
    {
     "data": {
      "text/plain": [
       "<AxesSubplot:xlabel='Humidity3pm'>"
      ]
     },
     "execution_count": 25,
     "metadata": {},
     "output_type": "execute_result"
    },
    {
     "data": {
      "image/png": "[encoded data removed]",
      "text/plain": [
       "<Figure size 432x288 with 1 Axes>"
      ]
     },
     "metadata": {
      "needs_background": "light"
     },
     "output_type": "display_data"
    }
   ],
   "source": [
    "sns.boxplot(df['Humidity3pm'])"
   ]
  },
  {
   "cell_type": "code",
   "execution_count": 26,
   "id": "74c9b221",
   "metadata": {},
   "outputs": [
    {
     "data": {
      "text/plain": [
       "<AxesSubplot:xlabel='Pressure9am'>"
      ]
     },
     "execution_count": 26,
     "metadata": {},
     "output_type": "execute_result"
    },
    {
     "data": {
      "image/png": "[encoded data removed]",
      "text/plain": [
       "<Figure size 432x288 with 1 Axes>"
      ]
     },
     "metadata": {
      "needs_background": "light"
     },
     "output_type": "display_data"
    }
   ],
   "source": [
    "sns.boxplot(df['Pressure9am'])"
   ]
  },
  {
   "cell_type": "code",
   "execution_count": 27,
   "id": "121ae720",
   "metadata": {},
   "outputs": [
    {
     "data": {
      "text/plain": [
       "<AxesSubplot:xlabel='Pressure3pm'>"
      ]
     },
     "execution_count": 27,
     "metadata": {},
     "output_type": "execute_result"
    },
    {
     "data": {
      "image/png": "[encoded data removed]",
      "text/plain": [
       "<Figure size 432x288 with 1 Axes>"
      ]
     },
     "metadata": {
      "needs_background": "light"
     },
     "output_type": "display_data"
    }
   ],
   "source": [
    "sns.boxplot(df['Pressure3pm'])\n"
   ]
  },
  {
   "cell_type": "code",
   "execution_count": 28,
   "id": "76677f99",
   "metadata": {},
   "outputs": [
    {
     "data": {
      "text/plain": [
       "<AxesSubplot:xlabel='RainToday', ylabel='MaxTemp'>"
      ]
     },
     "execution_count": 28,
     "metadata": {},
     "output_type": "execute_result"
    },
    {
     "data": {
      "image/png": "[encoded data removed]",
      "text/plain": [
       "<Figure size 432x288 with 1 Axes>"
      ]
     },
     "metadata": {
      "needs_background": "light"
     },
     "output_type": "display_data"
    }
   ],
   "source": [
    "sns.violinplot(x='RainToday',y='MaxTemp',data=df,hue='RainTomorrow')"
   ]
  },
  {
   "cell_type": "code",
   "execution_count": 29,
   "id": "a6517748",
   "metadata": {},
   "outputs": [
    {
     "data": {
      "text/plain": [
       "<AxesSubplot:xlabel='RainToday', ylabel='MinTemp'>"
      ]
     },
     "execution_count": 29,
     "metadata": {},
     "output_type": "execute_result"
    },
    {
     "data": {
      "image/png": "[encoded data removed]",
      "text/plain": [
       "<Figure size 432x288 with 1 Axes>"
      ]
     },
     "metadata": {
      "needs_background": "light"
     },
     "output_type": "display_data"
    }
   ],
   "source": [
    "sns.violinplot(x='RainToday',y='MinTemp',data=df,hue='RainTomorrow')"
   ]
  },
  {
   "cell_type": "markdown",
   "id": "9cb90646",
   "metadata": {},
   "source": [
    "## Dropping highly correlated columns\n"
   ]
  },
  {
   "cell_type": "code",
   "execution_count": 30,
   "id": "a0f37e07",
   "metadata": {},
   "outputs": [
    {
     "data": {
      "text/plain": [
       "Index(['Location', 'MinTemp', 'MaxTemp', 'Rainfall', 'Evaporation', 'Sunshine',\n",
       "       'WindGustDir', 'WindGustSpeed', 'WindDir9am', 'WindDir3pm',\n",
       "       'WindSpeed9am', 'WindSpeed3pm', 'Humidity3pm', 'Pressure9am',\n",
       "       'Pressure3pm', 'Cloud9am', 'Cloud3pm', 'RainToday', 'RainTomorrow'],\n",
       "      dtype='object')"
      ]
     },
     "execution_count": 30,
     "metadata": {},
     "output_type": "execute_result"
    }
   ],
   "source": [
    "df=df.drop(['Date','Temp3pm','Temp9am','Humidity9am'],axis=1)\n",
    "df.columns"
   ]
  },
  {
   "cell_type": "markdown",
   "id": "3cf3f850",
   "metadata": {},
   "source": [
    "## Remove outliers"
   ]
  },
  {
   "cell_type": "code",
   "execution_count": 31,
   "id": "df6fc81a",
   "metadata": {},
   "outputs": [
    {
     "name": "stdout",
     "output_type": "stream",
     "text": [
      "(array([  12,   12,   44,   52,   52,   60,   61,   62,   62,   68,  123,\n",
      "        267,  296,  381,  381,  407,  431,  462,  563,  568,  568,  569,\n",
      "        602,  683,  683,  699,  713,  748,  748,  770,  796,  797,  802,\n",
      "        928,  935,  949,  979,  980,  980,  980, 1008, 1009, 1011, 1138,\n",
      "       1148, 1149, 1151, 1189, 1202, 1203, 1237, 1241, 1264, 1265, 1357,\n",
      "       1411, 1412, 1413, 1479, 1480, 1481, 1513, 1535, 1587, 1644, 1661,\n",
      "       1665, 1673, 1680, 1774, 1819, 1873, 1898, 1903, 1945, 2016, 2028,\n",
      "       2043, 2063, 2074, 2108, 2116, 2186, 2201, 2219, 2219, 2230, 2231,\n",
      "       2265, 2429, 2488, 2500, 2505, 2527, 2541, 2593, 2676, 2677, 2735,\n",
      "       2827, 2835, 2849, 2849, 2855, 2863, 2869, 2877, 2883, 2890, 2891,\n",
      "       2897, 2898, 2900, 2901, 2905, 2909, 2911, 2919, 2925, 2933, 2939,\n",
      "       2947, 2953, 2961, 2967, 2975, 2989, 3003, 3051, 3051, 3058, 3059,\n",
      "       3059, 3060, 3066, 3067, 3067, 3067, 3068, 3070, 3082, 3082, 3082,\n",
      "       3089, 3089, 3099, 3099, 3101, 3141, 3150, 3153, 3157, 3164, 3167,\n",
      "       3172, 3172, 3178, 3185, 3206, 3212, 3212, 3213, 3221, 3227, 3234,\n",
      "       3248, 3248, 3260, 3278, 3291, 3302, 3303, 3350, 3419, 3421, 3430,\n",
      "       3449, 3449, 3449, 3449, 3450, 3450, 3458, 3471, 3491, 3557, 3571,\n",
      "       3602, 3603, 3607, 3617, 3621, 3679, 3687, 3701, 3701, 3707, 3715,\n",
      "       3721, 3729, 3735, 3742, 3743, 3749, 3750, 3752, 3753, 3757, 3761,\n",
      "       3763, 3771, 3777, 3785, 3791, 3799, 3805, 3813, 3819, 3827, 3841,\n",
      "       3855, 3903, 3903, 3910, 3911, 3911, 3912, 3918, 3919, 3919, 3919,\n",
      "       3920, 3922, 3934, 3934, 3934, 3941, 3941, 3951, 3951, 3953, 3993,\n",
      "       4002, 4005, 4009, 4016, 4019, 4024, 4024, 4030, 4037, 4058, 4064,\n",
      "       4064, 4065, 4073, 4079, 4086, 4100, 4100, 4112, 4130, 4143, 4154,\n",
      "       4155, 4202, 4271, 4273, 4282, 4301, 4301, 4301, 4301, 4302, 4302,\n",
      "       4310, 4323, 4343, 4409, 4423, 4454, 4455, 4459, 4469, 4473, 4528,\n",
      "       4528, 4535, 4566, 4568, 4568, 4618, 4619, 4638, 4650, 4657, 4672,\n",
      "       4673, 4678, 4678, 4731, 4775, 4779, 4780, 4780, 4798, 4814, 4833,\n",
      "       4833, 4837, 4843, 4854, 4854, 4854, 4855, 4859, 4886, 4892, 4895,\n",
      "       4895, 4911, 4918, 4934, 4956, 4960, 4960, 4979, 5010, 5038, 5122,\n",
      "       5122, 5123, 5138, 5155, 5175, 5176, 5176, 5179, 5188, 5188, 5201,\n",
      "       5202, 5204, 5204, 5207, 5207, 5211, 5212, 5212, 5213, 5214, 5214,\n",
      "       5214, 5235, 5243, 5252, 5264, 5274, 5275, 5288, 5301, 5307, 5314,\n",
      "       5318, 5323, 5324, 5324, 5339, 5339, 5346, 5377, 5379, 5379, 5429,\n",
      "       5430, 5449, 5461, 5468, 5483, 5484, 5489, 5489, 5542, 5586, 5590,\n",
      "       5591, 5591, 5609, 5625, 5644, 5644, 5648, 5654, 5665, 5665, 5665,\n",
      "       5666, 5670, 5697, 5703, 5706, 5706, 5722, 5729, 5745, 5767, 5771,\n",
      "       5771, 5790, 5821, 5849, 5933, 5933, 5934, 5949, 5966, 5986, 5987,\n",
      "       5987, 5990, 5999, 5999, 6012, 6013, 6015, 6015, 6018, 6018, 6022,\n",
      "       6023, 6023, 6024, 6025, 6025, 6025, 6046, 6054, 6063, 6075, 6085,\n",
      "       6086, 6099, 6112, 6118, 6125, 6129, 6134, 6135, 6135, 6149, 6182,\n",
      "       6441, 6480, 6481, 6489, 6520, 6583, 6584, 6758, 6786, 6786, 6793,\n",
      "       6794, 6794, 6848, 6849, 6862, 6876, 6883, 6904, 6918, 6925, 6930,\n",
      "       6960, 6960, 6978, 7111, 7162, 7169, 7186, 7187, 7187, 7188, 7282,\n",
      "       7303, 7462, 7462, 7565, 7633, 7633, 7633, 7735, 7735, 7827, 7857,\n",
      "       7872, 7983, 7984, 8100, 8136, 8144, 8145, 8145, 8185], dtype=int64), array([13, 14,  2,  7, 11,  2,  2,  2,  7,  2,  7,  7, 13,  7, 11,  2,  3,\n",
      "        3,  7, 13, 14, 13, 14, 13, 14,  3,  3, 13, 14,  3,  3,  3,  3,  3,\n",
      "        3,  3,  3,  3,  7, 10,  3,  3,  3,  3,  3,  3,  3, 11,  3,  3,  3,\n",
      "        3,  3,  3,  3,  3,  3,  3,  3,  3,  3,  3, 10, 11, 11,  3, 11,  3,\n",
      "        3,  3,  3,  3, 11, 10, 10, 10, 11, 11,  3, 10,  3,  3, 10,  3, 10,\n",
      "       11, 11,  3,  3,  3,  3,  7,  7,  2,  3,  3,  3,  3,  3,  4,  4,  3,\n",
      "        4,  4,  4,  4,  4,  4,  3,  4,  4,  3,  3,  3,  4,  3,  4,  4,  4,\n",
      "        4,  4,  4,  4,  4,  4,  4,  4,  3,  3, 14, 14, 13, 14, 13,  7,  7,\n",
      "       10, 11, 10,  7,  7, 10, 11,  7, 10,  7, 11,  4, 11,  4, 11,  4,  4,\n",
      "       14,  4, 11,  4,  4,  4, 11, 14,  4,  4,  4,  7,  3,  4,  4,  2,  2,\n",
      "        2, 14,  3,  3,  3,  3,  3,  7, 13, 14,  7, 13, 11, 11,  7, 10,  3,\n",
      "        7,  7,  3, 11,  3,  4,  4,  3,  4,  4,  4,  4,  4,  4,  3,  4,  4,\n",
      "        3,  3,  3,  4,  3,  4,  4,  4,  4,  4,  4,  4,  4,  4,  4,  4,  3,\n",
      "        3, 14, 14, 13, 14, 13,  7,  7, 10, 11, 10,  7,  7, 10, 11,  7, 10,\n",
      "        7, 11,  4, 11,  4, 11,  4,  4, 14,  4, 11,  4,  4,  4, 11, 14,  4,\n",
      "        4,  4,  7,  3,  4,  4,  2,  2,  2, 14,  3,  3,  3,  3,  3,  7, 13,\n",
      "       14,  7, 13, 11, 11,  7, 10,  3,  7,  7,  3, 11,  3, 13, 14, 10,  7,\n",
      "        3, 13,  2,  4, 10,  3, 10,  7,  3, 13, 14, 10,  7, 14, 13, 14, 11,\n",
      "       14,  7, 10,  7, 11, 11, 13, 14,  7, 10, 11, 10, 13, 14,  3, 10, 10,\n",
      "       10, 13, 14, 10,  3, 10, 13, 14, 13, 13, 10, 14, 13, 14, 10,  7, 10,\n",
      "       10, 11,  7, 10, 10, 11, 10, 10, 11, 10,  3, 13, 14, 10, 10, 10,  7,\n",
      "        3, 10,  3,  7, 10, 10, 10, 10,  4, 10, 13, 14, 10,  7,  3, 13,  2,\n",
      "        4, 10,  3, 10,  7,  3, 13, 14, 10,  7, 14, 13, 14, 11, 14,  7, 10,\n",
      "        7, 11, 11, 13, 14,  7, 10, 11, 10, 13, 14,  3, 10, 10, 10, 13, 14,\n",
      "       10,  3, 10, 13, 14, 13, 13, 10, 14, 13, 14, 10,  7, 10, 10, 11,  7,\n",
      "       10, 10, 11, 10, 10, 11, 10,  3, 13, 14, 10, 10, 10,  7,  3, 10,  3,\n",
      "        7, 10, 10, 10, 10,  4, 10,  3,  3,  3,  3,  3,  3,  3,  3,  3, 14,\n",
      "       13, 14, 14, 13, 14,  7,  4,  4,  4,  4,  4,  4,  4,  4,  4,  7, 13,\n",
      "        3, 11,  3, 13, 13, 14, 13,  3,  7,  7, 13,  7,  7, 11, 14, 13, 14,\n",
      "        3,  3,  7,  2,  2,  3,  3,  3,  3,  7,  3], dtype=int64))\n"
     ]
    }
   ],
   "source": [
    "from scipy.stats import zscore\n",
    "z = np.abs(zscore(df))\n",
    "threshold = 3\n",
    "print(np.where(z>3))"
   ]
  },
  {
   "cell_type": "code",
   "execution_count": 32,
   "id": "8472a89c",
   "metadata": {},
   "outputs": [],
   "source": [
    "df = df[(z<3).all(axis=1)]"
   ]
  },
  {
   "cell_type": "markdown",
   "id": "cd2b0d70",
   "metadata": {},
   "source": [
    "## Model building"
   ]
  },
  {
   "cell_type": "code",
   "execution_count": 33,
   "id": "ec2dafe0",
   "metadata": {},
   "outputs": [],
   "source": [
    "x = df.iloc[:,:-1]\n",
    "y = df.iloc[:,-1]"
   ]
  },
  {
   "cell_type": "code",
   "execution_count": 34,
   "id": "6c55b530",
   "metadata": {},
   "outputs": [
    {
     "data": {
      "text/plain": [
       "0    6185\n",
       "1    1823\n",
       "Name: RainTomorrow, dtype: int64"
      ]
     },
     "execution_count": 34,
     "metadata": {},
     "output_type": "execute_result"
    }
   ],
   "source": [
    "y.value_counts()"
   ]
  },
  {
   "cell_type": "code",
   "execution_count": 35,
   "id": "e40bc8ba",
   "metadata": {},
   "outputs": [
    {
     "data": {
      "text/plain": [
       "<AxesSubplot:xlabel='RainTomorrow', ylabel='count'>"
      ]
     },
     "execution_count": 35,
     "metadata": {},
     "output_type": "execute_result"
    },
    {
     "data": {
      "image/png": "[encoded data removed]",
      "text/plain": [
       "<Figure size 432x288 with 1 Axes>"
      ]
     },
     "metadata": {
      "needs_background": "light"
     },
     "output_type": "display_data"
    }
   ],
   "source": [
    "sns.countplot(y)"
   ]
  },
  {
   "cell_type": "markdown",
   "id": "374720fb",
   "metadata": {},
   "source": [
    "## Balancing the data using SMOTE\n"
   ]
  },
  {
   "cell_type": "code",
   "execution_count": 36,
   "id": "ba229021",
   "metadata": {},
   "outputs": [],
   "source": [
    "from imblearn.over_sampling import SMOTE\n",
    "smt = SMOTE()\n",
    "xtrain,ytrain = smt.fit_resample(x,y)"
   ]
  },
  {
   "cell_type": "code",
   "execution_count": 37,
   "id": "02411355",
   "metadata": {},
   "outputs": [
    {
     "data": {
      "text/plain": [
       "0    6185\n",
       "1    6185\n",
       "Name: RainTomorrow, dtype: int64"
      ]
     },
     "execution_count": 37,
     "metadata": {},
     "output_type": "execute_result"
    }
   ],
   "source": [
    "ytrain.value_counts()"
   ]
  },
  {
   "cell_type": "code",
   "execution_count": 38,
   "id": "889b32a6",
   "metadata": {},
   "outputs": [
    {
     "data": {
      "text/plain": [
       "<AxesSubplot:xlabel='RainTomorrow', ylabel='count'>"
      ]
     },
     "execution_count": 38,
     "metadata": {},
     "output_type": "execute_result"
    },
    {
     "data": {
      "image/png": "[encoded data removed]",
      "text/plain": [
       "<Figure size 432x288 with 1 Axes>"
      ]
     },
     "metadata": {
      "needs_background": "light"
     },
     "output_type": "display_data"
    }
   ],
   "source": [
    "sns.countplot(ytrain)"
   ]
  },
  {
   "cell_type": "markdown",
   "id": "54bb9ad4",
   "metadata": {},
   "source": [
    "## Training the model"
   ]
  },
  {
   "cell_type": "code",
   "execution_count": 39,
   "id": "430740c4",
   "metadata": {},
   "outputs": [],
   "source": [
    "x_train,x_test,y_train,y_test = train_test_split(xtrain,ytrain,test_size = .30 ,random_state = 45)"
   ]
  },
  {
   "cell_type": "markdown",
   "id": "5b9df9d0",
   "metadata": {},
   "source": [
    "## Logistic Regression"
   ]
  },
  {
   "cell_type": "code",
   "execution_count": 40,
   "id": "8cbd72e5",
   "metadata": {},
   "outputs": [
    {
     "name": "stdout",
     "output_type": "stream",
     "text": [
      "Accuracy_score 0.7666397197520883\n",
      "[[1471  388]\n",
      " [ 478 1374]]\n",
      "              precision    recall  f1-score   support\n",
      "\n",
      "           0       0.75      0.79      0.77      1859\n",
      "           1       0.78      0.74      0.76      1852\n",
      "\n",
      "    accuracy                           0.77      3711\n",
      "   macro avg       0.77      0.77      0.77      3711\n",
      "weighted avg       0.77      0.77      0.77      3711\n",
      "\n"
     ]
    }
   ],
   "source": [
    "lg =LogisticRegression()\n",
    "lg.fit(x_train,y_train)\n",
    "predlg = lg.predict(x_test)\n",
    "print('Accuracy_score',accuracy_score(y_test,predlg))\n",
    "print(confusion_matrix(y_test,predlg))\n",
    "print(classification_report(y_test,predlg))"
   ]
  },
  {
   "cell_type": "markdown",
   "id": "f9ff0270",
   "metadata": {},
   "source": [
    "## GaussianNB"
   ]
  },
  {
   "cell_type": "code",
   "execution_count": 41,
   "id": "5ecdbde9",
   "metadata": {},
   "outputs": [
    {
     "name": "stdout",
     "output_type": "stream",
     "text": [
      "Accuracy_score 0.7329560765292374\n",
      "[[1422  437]\n",
      " [ 554 1298]]\n",
      "              precision    recall  f1-score   support\n",
      "\n",
      "           0       0.72      0.76      0.74      1859\n",
      "           1       0.75      0.70      0.72      1852\n",
      "\n",
      "    accuracy                           0.73      3711\n",
      "   macro avg       0.73      0.73      0.73      3711\n",
      "weighted avg       0.73      0.73      0.73      3711\n",
      "\n"
     ]
    }
   ],
   "source": [
    "gnb = GaussianNB()\n",
    "gnb.fit(x_train,y_train)\n",
    "predgnb = gnb.predict(x_test)\n",
    "print('Accuracy_score',accuracy_score(y_test,predgnb))\n",
    "print(confusion_matrix(y_test,predgnb))\n",
    "print(classification_report(y_test,predgnb))"
   ]
  },
  {
   "cell_type": "markdown",
   "id": "6c88edc7",
   "metadata": {},
   "source": [
    "## SVC"
   ]
  },
  {
   "cell_type": "code",
   "execution_count": 42,
   "id": "5e1c01be",
   "metadata": {},
   "outputs": [
    {
     "name": "stdout",
     "output_type": "stream",
     "text": [
      "Accuracy_score 0.7528967933171652\n",
      "[[1509  350]\n",
      " [ 567 1285]]\n",
      "              precision    recall  f1-score   support\n",
      "\n",
      "           0       0.73      0.81      0.77      1859\n",
      "           1       0.79      0.69      0.74      1852\n",
      "\n",
      "    accuracy                           0.75      3711\n",
      "   macro avg       0.76      0.75      0.75      3711\n",
      "weighted avg       0.76      0.75      0.75      3711\n",
      "\n"
     ]
    }
   ],
   "source": [
    "svc = SVC()\n",
    "svc.fit(x_train,y_train)\n",
    "predsvc = svc.predict(x_test)\n",
    "print('Accuracy_score',accuracy_score(y_test,predsvc))\n",
    "print(confusion_matrix(y_test,predsvc))\n",
    "print(classification_report(y_test,predsvc))"
   ]
  },
  {
   "cell_type": "markdown",
   "id": "296788e5",
   "metadata": {},
   "source": [
    "## Random Forest Classifier"
   ]
  },
  {
   "cell_type": "code",
   "execution_count": 43,
   "id": "b58fed1e",
   "metadata": {},
   "outputs": [
    {
     "name": "stdout",
     "output_type": "stream",
     "text": [
      "Accuracy_score 0.9293990838049043\n",
      "[[1717  142]\n",
      " [ 120 1732]]\n",
      "              precision    recall  f1-score   support\n",
      "\n",
      "           0       0.93      0.92      0.93      1859\n",
      "           1       0.92      0.94      0.93      1852\n",
      "\n",
      "    accuracy                           0.93      3711\n",
      "   macro avg       0.93      0.93      0.93      3711\n",
      "weighted avg       0.93      0.93      0.93      3711\n",
      "\n"
     ]
    }
   ],
   "source": [
    "rf = RandomForestClassifier()\n",
    "rf.fit(x_train,y_train)\n",
    "predrf = rf.predict(x_test)\n",
    "print('Accuracy_score',accuracy_score(y_test,predrf))\n",
    "print(confusion_matrix(y_test,predrf))\n",
    "print(classification_report(y_test,predrf))"
   ]
  },
  {
   "cell_type": "markdown",
   "id": "85a8892d",
   "metadata": {},
   "source": [
    "## Cross Validation"
   ]
  },
  {
   "cell_type": "code",
   "execution_count": 44,
   "id": "254623f4",
   "metadata": {},
   "outputs": [
    {
     "name": "stdout",
     "output_type": "stream",
     "text": [
      "cross validation score of logistic regression 0.714874696847211\n"
     ]
    }
   ],
   "source": [
    "scr = cross_val_score(lg,xtrain,ytrain ,cv=5)\n",
    "print('cross validation score of logistic regression',scr.mean())"
   ]
  },
  {
   "cell_type": "code",
   "execution_count": 45,
   "id": "13d908ce",
   "metadata": {},
   "outputs": [
    {
     "name": "stdout",
     "output_type": "stream",
     "text": [
      "cross validation score of GaussianNB  0.7117219078415522\n"
     ]
    }
   ],
   "source": [
    "scr = cross_val_score(gnb,xtrain,ytrain ,cv=5)\n",
    "print('cross validation score of GaussianNB ',scr.mean())"
   ]
  },
  {
   "cell_type": "code",
   "execution_count": 46,
   "id": "0197f6b0",
   "metadata": {},
   "outputs": [
    {
     "name": "stdout",
     "output_type": "stream",
     "text": [
      "cross validation score of SVC 0.733791430881164\n"
     ]
    }
   ],
   "source": [
    "scr = cross_val_score(svc,xtrain,ytrain ,cv=5)\n",
    "print('cross validation score of SVC',scr.mean())"
   ]
  },
  {
   "cell_type": "code",
   "execution_count": 47,
   "id": "97339300",
   "metadata": {},
   "outputs": [
    {
     "name": "stdout",
     "output_type": "stream",
     "text": [
      "cross validation score of RandomForestClassifier 0.8151172190784155\n"
     ]
    }
   ],
   "source": [
    "scr = cross_val_score(rf,xtrain,ytrain ,cv=5)\n",
    "print('cross validation score of RandomForestClassifier',scr.mean())"
   ]
  },
  {
   "cell_type": "markdown",
   "id": "f7818579",
   "metadata": {},
   "source": [
    "## hyper parameter tuning"
   ]
  },
  {
   "cell_type": "code",
   "execution_count": 48,
   "id": "98852b69",
   "metadata": {},
   "outputs": [],
   "source": [
    "from sklearn.model_selection import GridSearchCV\n",
    "\n",
    "# Creating parameter list to pass in GridSearchCV\n",
    "parameters = {'max_features': ['auto', 'sqrt', 'log2'],\n",
    "               'max_depth':[4,5,6,7,8],\n",
    "                'criterion':['gini','entropy']}"
   ]
  },
  {
   "cell_type": "code",
   "execution_count": 49,
   "id": "c97c8b17",
   "metadata": {},
   "outputs": [
    {
     "data": {
      "text/plain": [
       "{'criterion': 'gini', 'max_depth': 8, 'max_features': 'auto'}"
      ]
     },
     "execution_count": 49,
     "metadata": {},
     "output_type": "execute_result"
    }
   ],
   "source": [
    "GCV = GridSearchCV(RandomForestClassifier(),parameters,cv=5,scoring='accuracy')\n",
    "GCV.fit(x_train, y_train) #Fitting the data in model\n",
    "GCV.best_params_ # printing the best parameter found by GridSearchCV"
   ]
  },
  {
   "cell_type": "code",
   "execution_count": 50,
   "id": "adf93c1d",
   "metadata": {},
   "outputs": [
    {
     "data": {
      "text/plain": [
       "0.8579897601724602"
      ]
     },
     "execution_count": 50,
     "metadata": {},
     "output_type": "execute_result"
    }
   ],
   "source": [
    "GCV_pred = GCV.best_estimator_.predict(x_test) # predicting with best parameters\n",
    "accuracy_score(y_test, GCV_pred) #Checking final accuracy"
   ]
  },
  {
   "cell_type": "markdown",
   "id": "d7957bf6",
   "metadata": {},
   "source": [
    "## ROC AUC PLOT"
   ]
  },
  {
   "cell_type": "code",
   "execution_count": 51,
   "id": "10e65bb9",
   "metadata": {},
   "outputs": [
    {
     "data": {
      "image/png": "[encoded data removed]",
      "text/plain": [
       "<Figure size 432x288 with 1 Axes>"
      ]
     },
     "metadata": {
      "needs_background": "light"
     },
     "output_type": "display_data"
    }
   ],
   "source": [
    "from sklearn.metrics import plot_roc_curve\n",
    "plot_roc_curve(GCV.best_estimator_,x_test, y_test)\n",
    "plt.title(\"ROC AUC plot\")\n",
    "plt.show()"
   ]
  },
  {
   "cell_type": "markdown",
   "id": "8e3aba4e",
   "metadata": {},
   "source": [
    "AUC_score is 93% which is pretty good"
   ]
  },
  {
   "cell_type": "markdown",
   "id": "8630973d",
   "metadata": {},
   "source": [
    "## Saving the model "
   ]
  },
  {
   "cell_type": "code",
   "execution_count": 52,
   "id": "fcb34b7e",
   "metadata": {},
   "outputs": [
    {
     "data": {
      "text/plain": [
       "['rain']"
      ]
     },
     "execution_count": 52,
     "metadata": {},
     "output_type": "execute_result"
    }
   ],
   "source": [
    "import joblib\n",
    "joblib.dump(rf,\"rain\")"
   ]
  },
  {
   "cell_type": "code",
   "execution_count": null,
   "id": "e79db180",
   "metadata": {},
   "outputs": [],
   "source": []
  }
 ],
 "metadata": {
  "kernelspec": {
   "display_name": "Python 3",
   "language": "python",
   "name": "python3"
  },
  "language_info": {
   "codemirror_mode": {
    "name": "ipython",
    "version": 3
   },
   "file_extension": ".py",
   "mimetype": "text/x-python",
   "name": "python",
   "nbconvert_exporter": "python",
   "pygments_lexer": "ipython3",
   "version": "3.8.8"
  }
 },
 "nbformat": 4,
 "nbformat_minor": 5
}
